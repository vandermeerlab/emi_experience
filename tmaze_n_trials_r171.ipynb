{
 "cells": [
  {
   "cell_type": "code",
   "execution_count": null,
   "metadata": {
    "ExecuteTime": {
     "end_time": "2019-07-03T18:47:02.636207Z",
     "start_time": "2019-07-03T18:47:01.780048Z"
    }
   },
   "outputs": [],
   "source": [
    "%matplotlib inline\n",
    "import matplotlib.pyplot as plt\n",
    "import numpy as np\n",
    "import os\n",
    "import nept"
   ]
  },
  {
   "cell_type": "code",
   "execution_count": null,
   "metadata": {
    "ExecuteTime": {
     "end_time": "2019-07-03T18:47:02.643019Z",
     "start_time": "2019-07-03T18:47:02.636207Z"
    }
   },
   "outputs": [],
   "source": [
    "event_labels = dict(north_feeder='TTL Output on AcqSystem1_0 board 0 port 0 value (0x0010).',\n",
    "                    north_pb='TTL Input on AcqSystem1_0 board 0 port 1 value (0x0010).',\n",
    "                    east_feeder='TTL Output on AcqSystem1_0 board 0 port 0 value (0x0020).',\n",
    "                    east_pb='TTL Input on AcqSystem1_0 board 0 port 1 value (0x0020).',\n",
    "                    south_feeder='TTL Output on AcqSystem1_0 board 0 port 0 value (0x0040).',\n",
    "                    south_pb='TTL Input on AcqSystem1_0 board 0 port 1 value (0x0040).',\n",
    "                    trial_start='trial start',\n",
    "                    trial_end='trial end')"
   ]
  },
  {
   "cell_type": "code",
   "execution_count": null,
   "metadata": {
    "ExecuteTime": {
     "end_time": "2019-07-03T18:47:03.245663Z",
     "start_time": "2019-07-03T18:47:02.645017Z"
    }
   },
   "outputs": [],
   "source": [
    "thisdir = os.getcwd()\n",
    "output_filepath = os.path.join(thisdir, \"plots\")\n",
    "if not os.path.exists(output_filepath):\n",
    "    os.makedirs(output_filepath)\n",
    "    \n",
    "rat = \"R171\"\n",
    "data_filepath = os.path.join(\"E:\\\\data\\\\data-experience\", rat)\n",
    "\n",
    "n_trials = []\n",
    "mean_durations = []\n",
    "for filename in os.listdir(data_filepath):\n",
    "    date = filename[5:15]\n",
    "    \n",
    "    event_filepath = os.path.join(data_filepath, rat+\"_\"+date+\"_behavior\", date+\"_Events.nev\")\n",
    "    print(event_filepath)\n",
    "#     txt_filepath = os.path.join(data_filepath, rat+\"_\"+date+\"_behavior\", date+\"_tmaze.txt\")\n",
    "    \n",
    "    events = nept.load_events(event_filepath, event_labels)\n",
    "    \n",
    "    starts = events[\"trial_start\"]\n",
    "    stops = events[\"trial_end\"]\n",
    "    if len(starts) > len(stops):\n",
    "        starts = starts[:-1]\n",
    "    if stops[0]-starts[0] > 0:\n",
    "        trials = nept.Epoch(starts, stops)\n",
    "\n",
    "    n_trials.append(trials.n_epochs)\n",
    "    mean_durations.append(np.mean(trials.durations))"
   ]
  },
  {
   "cell_type": "code",
   "execution_count": null,
   "metadata": {
    "ExecuteTime": {
     "end_time": "2019-07-03T18:47:03.415642Z",
     "start_time": "2019-07-03T18:47:03.248660Z"
    }
   },
   "outputs": [],
   "source": [
    "fig, ax = plt.subplots()\n",
    "x_ticks = np.arange(len(n_trials))+1\n",
    "ax.plot(x_ticks, n_trials, lw=2)\n",
    "\n",
    "ax.spines['right'].set_visible(False)\n",
    "ax.spines['top'].set_visible(False)\n",
    "ax.yaxis.set_ticks_position('left')\n",
    "ax.xaxis.set_ticks_position('bottom')\n",
    "\n",
    "plt.xlabel(\"Day\")\n",
    "plt.ylabel(\"Number of trials\")\n",
    "plt.title(\"R171 T-maze in RR3\")\n",
    "ax.set_xticks(x_ticks)\n",
    "plt.savefig(os.path.join(output_filepath, rat+\"_n-trials.png\"))\n",
    "plt.close()\n",
    "# plt.show()"
   ]
  },
  {
   "cell_type": "code",
   "execution_count": null,
   "metadata": {
    "ExecuteTime": {
     "end_time": "2019-07-03T18:47:03.537575Z",
     "start_time": "2019-07-03T18:47:03.417645Z"
    }
   },
   "outputs": [],
   "source": [
    "fig, ax = plt.subplots()\n",
    "x_ticks = np.arange(len(mean_durations))+1\n",
    "ax.plot(x_ticks, mean_durations, lw=2)\n",
    "\n",
    "ax.spines['right'].set_visible(False)\n",
    "ax.spines['top'].set_visible(False)\n",
    "ax.yaxis.set_ticks_position('left')\n",
    "ax.xaxis.set_ticks_position('bottom')\n",
    "\n",
    "plt.xlabel(\"Day\")\n",
    "plt.ylabel(\"Mean trial duration (s)\")\n",
    "plt.title(\"R171 T-maze in RR3\")\n",
    "ax.set_xticks(x_ticks)\n",
    "plt.savefig(os.path.join(output_filepath, rat+\"_mean-durations.png\"))\n",
    "plt.close()\n",
    "# plt.show()"
   ]
  },
  {
   "cell_type": "code",
   "execution_count": null,
   "metadata": {
    "ExecuteTime": {
     "end_time": "2019-07-03T18:47:03.753487Z",
     "start_time": "2019-07-03T18:47:03.538574Z"
    }
   },
   "outputs": [],
   "source": [
    "x_ticks = np.arange(len(mean_durations))+1\n",
    "\n",
    "durations = mean_durations\n",
    "trial_ns = n_trials\n",
    "\n",
    "fig, ax1 = plt.subplots()\n",
    "\n",
    "color = 'tab:blue'\n",
    "ax1.set_xlabel('Session')\n",
    "ax1.set_ylabel('Number of trials', color=color)\n",
    "ax1.plot(x_ticks, n_trials, color=color)\n",
    "ax1.tick_params(axis='y', labelcolor=color)\n",
    "\n",
    "ax2 = ax1.twinx()  # instantiate a second axes that shares the same x-axis\n",
    "\n",
    "color = 'tab:red'\n",
    "ax2.set_ylabel('Mean trial duration (s)', color=color)  # we already handled the x-label with ax1\n",
    "ax2.plot(x_ticks, mean_durations, color=color)\n",
    "ax2.tick_params(axis='y', labelcolor=color)\n",
    "\n",
    "ax1.spines['top'].set_visible(False)\n",
    "ax2.spines['top'].set_visible(False)\n",
    "\n",
    "plt.title(rat + \" T-maze in RR3\")\n",
    "\n",
    "fig.tight_layout()\n",
    "plt.savefig(os.path.join(output_filepath, rat+\"_tmaze.pdf\"))\n",
    "plt.close()\n",
    "# plt.show()"
   ]
  },
  {
   "cell_type": "code",
   "execution_count": null,
   "metadata": {},
   "outputs": [],
   "source": []
  },
  {
   "cell_type": "code",
   "execution_count": null,
   "metadata": {
    "ExecuteTime": {
     "end_time": "2019-07-03T18:47:03.858391Z",
     "start_time": "2019-07-03T18:47:03.754450Z"
    }
   },
   "outputs": [],
   "source": [
    "high = (0/16)*100\n",
    "low = (16/16)*100\n",
    "medium = (13/14)*100\n",
    "control = (1/14)*100\n",
    "\n",
    "fig, ax = plt.subplots()\n",
    " \n",
    "# set height of bar\n",
    "probe_proportions = [high, low, medium, control]\n",
    "x_loc = [0, 1, 3, 4]\n",
    " \n",
    "# Make the plot\n",
    "plt.bar(x_loc, probe_proportions, color=['#0570b0ff', \"#74a9cfff\", \"#3690c0ff\", \"#74c476ff\"], width=1, edgecolor='white')\n",
    " \n",
    "# Add xticks on the middle of the group bars\n",
    "plt.xticks([0, 1, 3, 4], ['High', 'Low', 'Medium', 'Control'])\n",
    "\n",
    "ax.spines['right'].set_visible(False)\n",
    "ax.spines['top'].set_visible(False)\n",
    "ax.yaxis.set_ticks_position('left')\n",
    "ax.xaxis.set_ticks_position('bottom')\n",
    "\n",
    "plt.ylabel(\"Proportion chosen\")\n",
    "plt.title(rat + \" Experience maze probe choice in RR1\")\n",
    "\n",
    "fig.tight_layout()\n",
    "\n",
    "plt.savefig(os.path.join(output_filepath, rat+\"_probe-choice.pdf\"))\n",
    "plt.close() \n",
    "# plt.show()"
   ]
  },
  {
   "cell_type": "code",
   "execution_count": null,
   "metadata": {},
   "outputs": [],
   "source": []
  }
 ],
 "metadata": {
  "kernelspec": {
   "display_name": "Python 3",
   "language": "python",
   "name": "python3"
  },
  "language_info": {
   "codemirror_mode": {
    "name": "ipython",
    "version": 3
   },
   "file_extension": ".py",
   "mimetype": "text/x-python",
   "name": "python",
   "nbconvert_exporter": "python",
   "pygments_lexer": "ipython3",
   "version": "3.6.5"
  },
  "toc": {
   "colors": {
    "hover_highlight": "#DAA520",
    "running_highlight": "#FF0000",
    "selected_highlight": "#FFD700"
   },
   "moveMenuLeft": true,
   "nav_menu": {
    "height": "12px",
    "width": "252px"
   },
   "navigate_menu": true,
   "number_sections": true,
   "sideBar": true,
   "threshold": 4,
   "toc_cell": false,
   "toc_section_display": "block",
   "toc_window_display": false
  }
 },
 "nbformat": 4,
 "nbformat_minor": 2
}
