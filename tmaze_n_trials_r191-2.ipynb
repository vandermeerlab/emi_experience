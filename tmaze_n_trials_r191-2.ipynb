{
 "cells": [
  {
   "cell_type": "code",
   "execution_count": null,
   "metadata": {
    "ExecuteTime": {
     "end_time": "2019-10-04T20:08:56.266937Z",
     "start_time": "2019-10-04T20:08:55.489477Z"
    }
   },
   "outputs": [],
   "source": [
    "%matplotlib inline\n",
    "import matplotlib.pyplot as plt\n",
    "import numpy as np\n",
    "import os\n",
    "import nept"
   ]
  },
  {
   "cell_type": "code",
   "execution_count": null,
   "metadata": {
    "ExecuteTime": {
     "end_time": "2019-10-04T20:08:56.278621Z",
     "start_time": "2019-10-04T20:08:56.266937Z"
    }
   },
   "outputs": [],
   "source": [
    "event_labels = dict(recording_start='Starting Recording',\n",
    "                    recording_stop='Stopping Recording',\n",
    "                    north_feeder='TTL Output on AcqSystem1_0 board 0 port 0 value (0x0010).',\n",
    "                    north_pb='TTL Input on AcqSystem1_0 board 0 port 1 value (0x0010).',\n",
    "                    east_feeder='TTL Output on AcqSystem1_0 board 0 port 0 value (0x0020).',\n",
    "                    east_pb='TTL Input on AcqSystem1_0 board 0 port 1 value (0x0020).',\n",
    "                    south_feeder='TTL Output on AcqSystem1_0 board 0 port 0 value (0x0040).',\n",
    "                    south_pb='TTL Input on AcqSystem1_0 board 0 port 1 value (0x0040).',\n",
    "                    trial_start='trial start',\n",
    "                    trial_end='trial end')"
   ]
  },
  {
   "cell_type": "code",
   "execution_count": null,
   "metadata": {
    "ExecuteTime": {
     "end_time": "2019-10-04T20:08:56.293611Z",
     "start_time": "2019-10-04T20:08:56.282618Z"
    },
    "scrolled": false
   },
   "outputs": [],
   "source": [
    "thisdir = os.getcwd()\n",
    "output_filepath = os.path.join(thisdir, \"plots\")\n",
    "if not os.path.exists(output_filepath):\n",
    "    os.makedirs(output_filepath)\n",
    "\n",
    "# rat = \"R191\"\n",
    "rat = \"R192\"\n",
    "data_filepath = os.path.join(\"E:\\\\data\\\\data-experience\\\\\", rat, \"RR3\")\n",
    "# data_filepath = os.path.join(\"/home/emily/data/\", rat)"
   ]
  },
  {
   "cell_type": "code",
   "execution_count": null,
   "metadata": {
    "ExecuteTime": {
     "end_time": "2019-10-04T20:14:08.387531Z",
     "start_time": "2019-10-04T20:14:08.285890Z"
    }
   },
   "outputs": [],
   "source": [
    "n_trials = []\n",
    "mean_durations = []\n",
    "for filename in os.listdir(data_filepath):\n",
    "    if filename.endswith(\"behavior\"):\n",
    "        print(filename)\n",
    "        date = filename[5:15]\n",
    "\n",
    "        event_filepath = os.path.join(data_filepath, filename, date+\"_Events.nev\")\n",
    "        events = nept.load_events(event_filepath, event_labels)\n",
    "        \n",
    "        print(events[\"recording_start\"])\n",
    "        print(events[\"recording_stop\"])\n",
    "\n",
    "        if events[\"recording_start\"][1] < events[\"trial_start\"][0]:\n",
    "            starts = np.insert(events[\"trial_start\"], 0, events[\"recording_start\"][1])\n",
    "            stops = events[\"trial_end\"]\n",
    "        else:\n",
    "            starts =events[\"trial_start\"]\n",
    "        stops = events[\"trial_end\"]\n",
    "        print(len(starts), len(stops))\n",
    "        print(starts[:5], stops[:5])\n",
    "        if len(starts) > len(stops):\n",
    "            starts = starts[:-1]\n",
    "        if len(starts) < len(stops):\n",
    "            stops = stops[:-1]\n",
    "        if stops[-1]-starts[-1] > 0:\n",
    "            trials = nept.Epoch(starts, stops)\n",
    "        else:\n",
    "            trials = nept.Epoch(stops, starts)\n",
    "\n",
    "        n_trials.append(trials.n_epochs)\n",
    "        mean_durations.append(np.mean(trials.durations))\n",
    "        print(\"Duration:\", np.mean(trials.durations))\n",
    "        print(trials.durations)\n",
    "#         1/0"
   ]
  },
  {
   "cell_type": "code",
   "execution_count": null,
   "metadata": {
    "ExecuteTime": {
     "end_time": "2019-10-04T20:14:22.306241Z",
     "start_time": "2019-10-04T20:14:22.300245Z"
    }
   },
   "outputs": [],
   "source": [
    "mean_durations"
   ]
  },
  {
   "cell_type": "code",
   "execution_count": null,
   "metadata": {
    "ExecuteTime": {
     "end_time": "2019-10-04T20:14:27.492699Z",
     "start_time": "2019-10-04T20:14:27.364793Z"
    }
   },
   "outputs": [],
   "source": [
    "fig, ax = plt.subplots()\n",
    "x_ticks = np.arange(len(n_trials))+1\n",
    "ax.plot(x_ticks, n_trials, lw=2)\n",
    "ax.set_ylim(0, 82)\n",
    "\n",
    "ax.spines['right'].set_visible(False)\n",
    "ax.spines['top'].set_visible(False)\n",
    "ax.yaxis.set_ticks_position('left')\n",
    "ax.xaxis.set_ticks_position('bottom')\n",
    "\n",
    "plt.xlabel(\"Day\")\n",
    "plt.ylabel(\"Number of trials\")\n",
    "plt.title(rat+ \" T-maze in RR3\")\n",
    "ax.set_xticks(x_ticks)\n",
    "# plt.savefig(os.path.join(output_filepath, rat+\"_n-trials.png\"))\n",
    "# plt.close()\n",
    "plt.show()"
   ]
  },
  {
   "cell_type": "code",
   "execution_count": null,
   "metadata": {
    "ExecuteTime": {
     "end_time": "2019-10-04T20:14:28.624960Z",
     "start_time": "2019-10-04T20:14:28.493622Z"
    }
   },
   "outputs": [],
   "source": [
    "fig, ax = plt.subplots()\n",
    "x_ticks = np.arange(len(mean_durations))+1\n",
    "ax.plot(x_ticks, mean_durations, lw=2)\n",
    "\n",
    "ax.spines['right'].set_visible(False)\n",
    "ax.spines['top'].set_visible(False)\n",
    "ax.yaxis.set_ticks_position('left')\n",
    "ax.xaxis.set_ticks_position('bottom')\n",
    "\n",
    "plt.xlabel(\"Day\")\n",
    "plt.ylabel(\"Mean trial duration (s)\")\n",
    "plt.title(rat + \" T-maze in RR3\")\n",
    "ax.set_xticks(x_ticks)\n",
    "# plt.savefig(os.path.join(output_filepath, rat+\"_mean-durations.png\"))\n",
    "# plt.close()\n",
    "plt.show()"
   ]
  },
  {
   "cell_type": "code",
   "execution_count": null,
   "metadata": {
    "ExecuteTime": {
     "end_time": "2019-10-04T20:15:06.565609Z",
     "start_time": "2019-10-04T20:15:06.412466Z"
    }
   },
   "outputs": [],
   "source": [
    "x_ticks = np.arange(len(mean_durations))+1\n",
    "\n",
    "durations = mean_durations\n",
    "trial_ns = n_trials\n",
    "\n",
    "fig, ax1 = plt.subplots()\n",
    "\n",
    "color = 'tab:blue'\n",
    "ax1.set_xlabel('Session')\n",
    "ax1.set_ylabel('Number of trials', color=color)\n",
    "ax1.plot(x_ticks, n_trials, color=color)\n",
    "ax1.set_ylim(0, 82)\n",
    "ax1.tick_params(axis='y', labelcolor=color)\n",
    "\n",
    "ax2 = ax1.twinx()  # instantiate a second axes that shares the same x-axis\n",
    "\n",
    "color = 'tab:red'\n",
    "ax2.set_ylabel('Mean trial duration (s)', color=color)  # we already handled the x-label with ax1\n",
    "ax2.plot(x_ticks, mean_durations, color=color)\n",
    "ax2.tick_params(axis='y', labelcolor=color)\n",
    "\n",
    "ax1.spines['top'].set_visible(False)\n",
    "ax2.spines['top'].set_visible(False)\n",
    "\n",
    "plt.title(\"T-maze in RR3\\n(Rat 2)\")\n",
    "\n",
    "fig.tight_layout()\n",
    "plt.savefig(os.path.join(output_filepath, rat+\"_tmaze.png\"))\n",
    "plt.close()\n",
    "# plt.show()"
   ]
  },
  {
   "cell_type": "code",
   "execution_count": null,
   "metadata": {},
   "outputs": [],
   "source": []
  }
 ],
 "metadata": {
  "kernelspec": {
   "display_name": "Python 3",
   "language": "python",
   "name": "python3"
  },
  "language_info": {
   "codemirror_mode": {
    "name": "ipython",
    "version": 3
   },
   "file_extension": ".py",
   "mimetype": "text/x-python",
   "name": "python",
   "nbconvert_exporter": "python",
   "pygments_lexer": "ipython3",
   "version": "3.6.5"
  },
  "toc": {
   "colors": {
    "hover_highlight": "#DAA520",
    "running_highlight": "#FF0000",
    "selected_highlight": "#FFD700"
   },
   "moveMenuLeft": true,
   "nav_menu": {
    "height": "12px",
    "width": "252px"
   },
   "navigate_menu": true,
   "number_sections": true,
   "sideBar": true,
   "threshold": 4,
   "toc_cell": false,
   "toc_section_display": "block",
   "toc_window_display": false
  }
 },
 "nbformat": 4,
 "nbformat_minor": 2
}
