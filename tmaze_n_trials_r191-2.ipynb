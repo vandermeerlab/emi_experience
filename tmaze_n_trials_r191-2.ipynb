{
 "cells": [
  {
   "cell_type": "code",
   "execution_count": null,
   "metadata": {
    "ExecuteTime": {
     "end_time": "2019-08-05T18:22:00.392428Z",
     "start_time": "2019-08-05T18:21:59.538015Z"
    },
    "collapsed": true
   },
   "outputs": [],
   "source": [
    "%matplotlib inline\n",
    "import matplotlib.pyplot as plt\n",
    "import numpy as np\n",
    "import os\n",
    "import nept"
   ]
  },
  {
   "cell_type": "code",
   "execution_count": null,
   "metadata": {
    "ExecuteTime": {
     "end_time": "2019-08-05T18:22:00.398435Z",
     "start_time": "2019-08-05T18:22:00.394424Z"
    },
    "collapsed": true
   },
   "outputs": [],
   "source": [
    "event_labels = dict(north_feeder='TTL Output on AcqSystem1_0 board 0 port 0 value (0x0010).',\n",
    "                    north_pb='TTL Input on AcqSystem1_0 board 0 port 1 value (0x0010).',\n",
    "                    east_feeder='TTL Output on AcqSystem1_0 board 0 port 0 value (0x0020).',\n",
    "                    east_pb='TTL Input on AcqSystem1_0 board 0 port 1 value (0x0020).',\n",
    "                    south_feeder='TTL Output on AcqSystem1_0 board 0 port 0 value (0x0040).',\n",
    "                    south_pb='TTL Input on AcqSystem1_0 board 0 port 1 value (0x0040).',\n",
    "                    trial_start='trial start',\n",
    "                    trial_end='trial end')"
   ]
  },
  {
   "cell_type": "code",
   "execution_count": null,
   "metadata": {
    "ExecuteTime": {
     "end_time": "2019-08-05T18:22:34.945961Z",
     "start_time": "2019-08-05T18:22:34.823211Z"
    },
    "collapsed": true,
    "scrolled": false
   },
   "outputs": [],
   "source": [
    "thisdir = os.getcwd()\n",
    "output_filepath = os.path.join(thisdir, \"plots\")\n",
    "if not os.path.exists(output_filepath):\n",
    "    os.makedirs(output_filepath)\n",
    "\n",
    "# rat = \"R191\"\n",
    "rat = \"R192\"\n",
    "# data_filepath = os.path.join(\"E:\\\\data\\\\data-experience\\\\\", rat, \"RR3\")\n",
    "data_filepath = os.path.join(\"/home/emily/data/\", rat)"
   ]
  },
  {
   "cell_type": "code",
   "execution_count": null,
   "metadata": {},
   "outputs": [],
   "source": [
    "n_trials = []\n",
    "mean_durations = []\n",
    "for filename in os.listdir(data_filepath):\n",
    "    if filename.endswith(\"behavior\") or filename.endswith(\"recording\"):\n",
    "        print(filename)\n",
    "        date = filename[5:15]\n",
    "\n",
    "        event_filepath = os.path.join(data_filepath, filename, date+\"_Events.nev\")\n",
    "        events = nept.load_events(event_filepath, event_labels)\n",
    "\n",
    "        starts = events[\"trial_start\"]\n",
    "        stops = events[\"trial_end\"]\n",
    "        print(len(starts), len(stops))\n",
    "        if len(starts) > len(stops):\n",
    "            starts = starts[:-1]\n",
    "        if len(starts) < len(stops):\n",
    "            stops = stops[:-1]\n",
    "        if stops[-1]-starts[-1] > 0:\n",
    "            trials = nept.Epoch(starts, stops)\n",
    "        else:\n",
    "            trials = nept.Epoch(stops, starts)\n",
    "\n",
    "        n_trials.append(trials.n_epochs)\n",
    "        mean_durations.append(np.mean(trials.durations))"
   ]
  },
  {
   "cell_type": "code",
   "execution_count": null,
   "metadata": {},
   "outputs": [],
   "source": [
    "mean_durations"
   ]
  },
  {
   "cell_type": "code",
   "execution_count": null,
   "metadata": {
    "ExecuteTime": {
     "end_time": "2019-08-05T18:23:01.602048Z",
     "start_time": "2019-08-05T18:23:01.422857Z"
    }
   },
   "outputs": [],
   "source": [
    "fig, ax = plt.subplots()\n",
    "x_ticks = np.arange(len(n_trials))+1\n",
    "ax.plot(x_ticks, n_trials, lw=2)\n",
    "ax.set_ylim(0, 82)\n",
    "\n",
    "ax.spines['right'].set_visible(False)\n",
    "ax.spines['top'].set_visible(False)\n",
    "ax.yaxis.set_ticks_position('left')\n",
    "ax.xaxis.set_ticks_position('bottom')\n",
    "\n",
    "plt.xlabel(\"Day\")\n",
    "plt.ylabel(\"Number of trials\")\n",
    "plt.title(rat+ \" T-maze in RR3\")\n",
    "ax.set_xticks(x_ticks)\n",
    "# plt.savefig(os.path.join(output_filepath, rat+\"_n-trials.png\"))\n",
    "# plt.close()\n",
    "plt.show()"
   ]
  },
  {
   "cell_type": "code",
   "execution_count": null,
   "metadata": {
    "ExecuteTime": {
     "end_time": "2019-08-05T18:22:38.807910Z",
     "start_time": "2019-08-05T18:22:38.634099Z"
    }
   },
   "outputs": [],
   "source": [
    "fig, ax = plt.subplots()\n",
    "x_ticks = np.arange(len(mean_durations))+1\n",
    "ax.plot(x_ticks, mean_durations, lw=2)\n",
    "\n",
    "ax.spines['right'].set_visible(False)\n",
    "ax.spines['top'].set_visible(False)\n",
    "ax.yaxis.set_ticks_position('left')\n",
    "ax.xaxis.set_ticks_position('bottom')\n",
    "\n",
    "plt.xlabel(\"Day\")\n",
    "plt.ylabel(\"Mean trial duration (s)\")\n",
    "plt.title(rat + \" T-maze in RR3\")\n",
    "ax.set_xticks(x_ticks)\n",
    "# plt.savefig(os.path.join(output_filepath, rat+\"_mean-durations.png\"))\n",
    "# plt.close()\n",
    "plt.show()"
   ]
  },
  {
   "cell_type": "code",
   "execution_count": null,
   "metadata": {
    "ExecuteTime": {
     "end_time": "2019-08-05T18:23:25.039440Z",
     "start_time": "2019-08-05T18:23:24.878215Z"
    },
    "collapsed": true
   },
   "outputs": [],
   "source": [
    "x_ticks = np.arange(len(mean_durations))+1\n",
    "\n",
    "durations = mean_durations\n",
    "trial_ns = n_trials\n",
    "\n",
    "fig, ax1 = plt.subplots()\n",
    "\n",
    "color = 'tab:blue'\n",
    "ax1.set_xlabel('Session')\n",
    "ax1.set_ylabel('Number of trials', color=color)\n",
    "ax1.plot(x_ticks, n_trials, color=color)\n",
    "ax1.set_ylim(0, 82)\n",
    "ax1.tick_params(axis='y', labelcolor=color)\n",
    "\n",
    "ax2 = ax1.twinx()  # instantiate a second axes that shares the same x-axis\n",
    "\n",
    "color = 'tab:red'\n",
    "ax2.set_ylabel('Mean trial duration (s)', color=color)  # we already handled the x-label with ax1\n",
    "ax2.plot(x_ticks, mean_durations, color=color)\n",
    "ax2.tick_params(axis='y', labelcolor=color)\n",
    "\n",
    "ax1.spines['top'].set_visible(False)\n",
    "ax2.spines['top'].set_visible(False)\n",
    "\n",
    "# plt.title(rat + \" T-maze in RR3\")\n",
    "\n",
    "fig.tight_layout()\n",
    "plt.savefig(os.path.join(output_filepath, rat+\"_tmaze.png\"))\n",
    "plt.close()\n",
    "# plt.show()"
   ]
  },
  {
   "cell_type": "code",
   "execution_count": null,
   "metadata": {
    "collapsed": true
   },
   "outputs": [],
   "source": []
  }
 ],
 "metadata": {
  "kernelspec": {
   "display_name": "Python 3",
   "language": "python",
   "name": "python3"
  },
  "language_info": {
   "codemirror_mode": {
    "name": "ipython",
    "version": 3
   },
   "file_extension": ".py",
   "mimetype": "text/x-python",
   "name": "python",
   "nbconvert_exporter": "python",
   "pygments_lexer": "ipython3",
   "version": "3.6.5"
  },
  "toc": {
   "colors": {
    "hover_highlight": "#DAA520",
    "running_highlight": "#FF0000",
    "selected_highlight": "#FFD700"
   },
   "moveMenuLeft": true,
   "nav_menu": {
    "height": "12px",
    "width": "252px"
   },
   "navigate_menu": true,
   "number_sections": true,
   "sideBar": true,
   "threshold": 4,
   "toc_cell": false,
   "toc_section_display": "block",
   "toc_window_display": false
  }
 },
 "nbformat": 4,
 "nbformat_minor": 2
}
