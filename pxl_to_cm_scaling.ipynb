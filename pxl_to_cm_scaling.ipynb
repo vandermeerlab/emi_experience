{
 "cells": [
  {
   "cell_type": "markdown",
   "metadata": {},
   "source": [
    "The camera image resolution in RR1 and RR3 is 720x480 pixels.\n",
    "\n",
    "I put down a white sheet of paper that was 15cm long in both the x and y directions and took a screenshot of the maze. Then, I scaled the image to 720x480 and measured the distance (in pixels) for the sheets in each orientation separately."
   ]
  },
  {
   "cell_type": "code",
   "execution_count": 1,
   "metadata": {
    "ExecuteTime": {
     "end_time": "2019-06-03T14:14:40.902678Z",
     "start_time": "2019-06-03T14:14:40.896704Z"
    }
   },
   "outputs": [],
   "source": [
    "n_cm = 15"
   ]
  },
  {
   "cell_type": "code",
   "execution_count": 2,
   "metadata": {
    "ExecuteTime": {
     "end_time": "2019-06-03T14:14:40.922666Z",
     "start_time": "2019-06-03T14:14:40.906675Z"
    }
   },
   "outputs": [
    {
     "name": "stdout",
     "output_type": "stream",
     "text": [
      "x: 3.1333333333333333\n",
      "y: 2.7333333333333334\n"
     ]
    }
   ],
   "source": [
    "# RR1\n",
    "print(\"x:\", (203 - 156)/n_cm)\n",
    "print(\"y:\", (416 - 375)/n_cm)"
   ]
  },
  {
   "cell_type": "code",
   "execution_count": 3,
   "metadata": {
    "ExecuteTime": {
     "end_time": "2019-06-03T14:14:40.938656Z",
     "start_time": "2019-06-03T14:14:40.925664Z"
    }
   },
   "outputs": [
    {
     "name": "stdout",
     "output_type": "stream",
     "text": [
      "x: 3.933333333333333\n",
      "y: 3.4\n"
     ]
    }
   ],
   "source": [
    "# RR3\n",
    "print(\"x:\", (298 - 239)/n_cm)\n",
    "print(\"y:\", (164 - 113)/n_cm)"
   ]
  },
  {
   "cell_type": "code",
   "execution_count": null,
   "metadata": {},
   "outputs": [],
   "source": []
  }
 ],
 "metadata": {
  "kernelspec": {
   "display_name": "Python 3",
   "language": "python",
   "name": "python3"
  },
  "language_info": {
   "codemirror_mode": {
    "name": "ipython",
    "version": 3
   },
   "file_extension": ".py",
   "mimetype": "text/x-python",
   "name": "python",
   "nbconvert_exporter": "python",
   "pygments_lexer": "ipython3",
   "version": "3.6.5"
  },
  "toc": {
   "colors": {
    "hover_highlight": "#DAA520",
    "running_highlight": "#FF0000",
    "selected_highlight": "#FFD700"
   },
   "moveMenuLeft": true,
   "nav_menu": {
    "height": "12px",
    "width": "252px"
   },
   "navigate_menu": true,
   "number_sections": true,
   "sideBar": true,
   "threshold": 4,
   "toc_cell": false,
   "toc_section_display": "block",
   "toc_window_display": false
  }
 },
 "nbformat": 4,
 "nbformat_minor": 2
}
