{
 "cells": [
  {
   "cell_type": "code",
   "execution_count": null,
   "metadata": {
    "ExecuteTime": {
     "end_time": "2019-09-23T16:16:45.858783Z",
     "start_time": "2019-09-23T16:16:45.084072Z"
    }
   },
   "outputs": [],
   "source": [
    "%matplotlib inline\n",
    "import matplotlib.pyplot as plt\n",
    "import matplotlib\n",
    "import math\n",
    "import numpy as np\n",
    "import scipy\n",
    "from collections import Counter\n",
    "import os\n",
    "import nept"
   ]
  },
  {
   "cell_type": "code",
   "execution_count": null,
   "metadata": {
    "ExecuteTime": {
     "end_time": "2019-09-23T16:16:45.864743Z",
     "start_time": "2019-09-23T16:16:45.860743Z"
    }
   },
   "outputs": [],
   "source": [
    "thisdir = os.getcwd()\n",
    "# data_filepath = os.path.join(thisdir, \"cache\", \"data\")\n",
    "output_filepath = os.path.join(thisdir, \"plots\", \"experience\")\n",
    "if not os.path.exists(output_filepath):\n",
    "    os.makedirs(output_filepath)"
   ]
  },
  {
   "cell_type": "code",
   "execution_count": null,
   "metadata": {
    "ExecuteTime": {
     "end_time": "2019-09-23T16:16:45.940722Z",
     "start_time": "2019-09-23T16:16:45.866739Z"
    }
   },
   "outputs": [],
   "source": [
    "import info.r191_exp01 as r191d1\n",
    "import info.r191_exp02 as r191d2\n",
    "import info.r191_exp03 as r191d3\n",
    "import info.r191_exp04 as r191d4\n",
    "import info.r191_exp05 as r191d5\n",
    "\n",
    "import info.r192_exp01 as r192d1\n",
    "import info.r192_exp02 as r192d2\n",
    "import info.r192_exp03 as r192d3\n",
    "import info.r192_exp04 as r192d4\n",
    "import info.r192_exp05 as r192d5\n",
    "\n",
    "infos = [r191d1, r191d2, r191d3, r191d4, r191d5,\n",
    "         r192d1, r192d2, r192d3, r192d4, r192d5]"
   ]
  },
  {
   "cell_type": "code",
   "execution_count": null,
   "metadata": {
    "ExecuteTime": {
     "end_time": "2019-09-23T16:16:45.955689Z",
     "start_time": "2019-09-23T16:16:45.946693Z"
    }
   },
   "outputs": [],
   "source": [
    "def get_exp_trials(info, events):\n",
    "    starts = np.sort(np.append(events[\"trial_start\"], [info.task_times[\"run1\"].start, info.task_times[\"run2\"].start]))\n",
    "    if len(starts) > len(events[\"trial_end\"]):\n",
    "        stops = np.sort(np.append(events[\"trial_end\"], [info.task_times[\"run2\"].stop]))\n",
    "    else:\n",
    "        stops = events[\"trial_end\"]\n",
    "    return nept.Epoch(starts, stops)"
   ]
  },
  {
   "cell_type": "code",
   "execution_count": null,
   "metadata": {
    "ExecuteTime": {
     "end_time": "2019-09-23T16:50:09.774014Z",
     "start_time": "2019-09-23T16:50:09.617124Z"
    },
    "scrolled": false
   },
   "outputs": [],
   "source": [
    "trial_duration = []\n",
    "phase_duration = []\n",
    "probe_choices = []\n",
    "probe_arms = []\n",
    "for info in infos:\n",
    "    data_filepath = os.path.join(\"E:\\\\\", \"data\", \"data-experience\", info.rat_id, \"RR1\", info.rat_id+\"_\"+info.date+\"_recording\")\n",
    "\n",
    "    event_filename = info.date+\"_Events.nev\"\n",
    "    events = nept.load_events(os.path.join(data_filepath, event_filename), info.event_labels)\n",
    "\n",
    "    trials = get_exp_trials(info, events)\n",
    "    trial_duration.append(np.mean(trials.durations))\n",
    "    phase_duration.append(info.task_times['run1'].durations[0])\n",
    "    phase_duration.append(info.task_times['run2'].durations[0])\n",
    "    \n",
    "    for choice in info.probe_choice:\n",
    "        probe_choices.append(info.arm_to_outcome[choice])\n",
    "    probe_arms.extend(info.probe_choice)\n",
    "        \n",
    "print(\"Mean trial duration:\", str(np.mean(trial_duration)), \" s\")\n",
    "print(\"Mean phase duration:\", np.mean(phase_duration)/60, \"min\")"
   ]
  },
  {
   "cell_type": "code",
   "execution_count": null,
   "metadata": {
    "ExecuteTime": {
     "end_time": "2019-09-23T16:55:25.907853Z",
     "start_time": "2019-09-23T16:55:25.816907Z"
    },
    "scrolled": false
   },
   "outputs": [],
   "source": [
    "probe_counts = Counter(probe_choices)\n",
    "\n",
    "print(probe_counts)\n",
    "\n",
    "highlow_total = probe_counts['Low'] + probe_counts['High']\n",
    "mediums_total = probe_counts['Medium'] + probe_counts['Control']\n",
    "\n",
    "probe_proportions = dict()\n",
    "probe_proportions[\"High\"] = probe_counts['High'] / highlow_total\n",
    "probe_proportions[\"Low\"] = probe_counts['Low'] / highlow_total\n",
    "probe_proportions[\"Medium\"] = probe_counts['Medium'] / mediums_total\n",
    "probe_proportions[\"Control\"] = probe_counts['Control'] / mediums_total\n",
    "print(probe_proportions)\n",
    "\n",
    "fig = plt.figure()\n",
    "ax = fig.add_subplot(111)\n",
    "\n",
    "arms = [\"High\", \"Low\", \"Medium\", \"Control\"]\n",
    "colors = [\"#0570b0ff\", \"#74a9cfff\", \"#3690c0ff\", \"#74c476ff\"]\n",
    "\n",
    "frequencies = [probe_proportions[arm] for arm in arms]\n",
    "\n",
    "x_coordinates = np.arange(len(arms))\n",
    "ax.bar(x_coordinates, frequencies, align='center', color=colors)\n",
    "\n",
    "plt.xticks(x_coordinates, arms)\n",
    "plt.ylabel(\"Choice proportion\")\n",
    "\n",
    "ax.spines['right'].set_visible(False)\n",
    "ax.spines['top'].set_visible(False)\n",
    "ax.yaxis.set_ticks_position('left')\n",
    "ax.xaxis.set_ticks_position('bottom')\n",
    "\n",
    "plt.title(\"Probe choice by outcome (n=2)\")\n",
    "\n",
    "plt.show()\n",
    "# plt.savefig(os.path.join(output_filepath, \"probe_outcome_proportions.png\"))\n",
    "# plt.close()"
   ]
  },
  {
   "cell_type": "code",
   "execution_count": null,
   "metadata": {
    "ExecuteTime": {
     "end_time": "2019-09-23T16:58:14.365300Z",
     "start_time": "2019-09-23T16:58:14.281330Z"
    }
   },
   "outputs": [],
   "source": [
    "probe_arm_counts = Counter(probe_arms)\n",
    "\n",
    "print(probe_arm_counts)\n",
    "\n",
    "northsouth_total = probe_arm_counts['north'] + probe_arm_counts['south']\n",
    "eastwest_total = probe_arm_counts['east'] + probe_arm_counts['west']\n",
    "\n",
    "probe_arm_proportions = dict()\n",
    "probe_arm_proportions[\"north\"] = probe_arm_counts['north'] / northsouth_total\n",
    "probe_arm_proportions[\"south\"] = probe_arm_counts['south'] / northsouth_total\n",
    "probe_arm_proportions[\"east\"] = probe_arm_counts['east'] / eastwest_total\n",
    "probe_arm_proportions[\"west\"] = probe_arm_counts['west'] / eastwest_total\n",
    "print(probe_arm_proportions)\n",
    "\n",
    "fig = plt.figure()\n",
    "ax = fig.add_subplot(111)\n",
    "\n",
    "arms = [\"north\", \"south\", \"east\", \"west\"]\n",
    "colors = [\"#fc4e2a\", \"#fc4e2a\", \"#fc8d59\", \"#fc8d59\"]\n",
    "\n",
    "frequencies = [probe_arm_proportions[arm] for arm in arms]\n",
    "\n",
    "x_coordinates = np.arange(len(arms))\n",
    "ax.bar(x_coordinates, frequencies, align='center', color=colors)\n",
    "\n",
    "plt.xticks(x_coordinates, arms)\n",
    "plt.ylabel(\"Choice proportion\")\n",
    "\n",
    "ax.spines['right'].set_visible(False)\n",
    "ax.spines['top'].set_visible(False)\n",
    "ax.yaxis.set_ticks_position('left')\n",
    "ax.xaxis.set_ticks_position('bottom')\n",
    "\n",
    "plt.title(\"Probe choice by arm (n=2)\")\n",
    "\n",
    "plt.show()\n",
    "# plt.savefig(os.path.join(output_filepath, \"probe_arm_proportions.png\"))\n",
    "# plt.close()"
   ]
  },
  {
   "cell_type": "code",
   "execution_count": null,
   "metadata": {},
   "outputs": [],
   "source": []
  }
 ],
 "metadata": {
  "kernelspec": {
   "display_name": "Python 3",
   "language": "python",
   "name": "python3"
  },
  "language_info": {
   "codemirror_mode": {
    "name": "ipython",
    "version": 3
   },
   "file_extension": ".py",
   "mimetype": "text/x-python",
   "name": "python",
   "nbconvert_exporter": "python",
   "pygments_lexer": "ipython3",
   "version": "3.6.5"
  },
  "toc": {
   "colors": {
    "hover_highlight": "#DAA520",
    "running_highlight": "#FF0000",
    "selected_highlight": "#FFD700"
   },
   "moveMenuLeft": true,
   "nav_menu": {
    "height": "12px",
    "width": "252px"
   },
   "navigate_menu": true,
   "number_sections": true,
   "sideBar": true,
   "threshold": 4,
   "toc_cell": false,
   "toc_section_display": "block",
   "toc_window_display": false
  }
 },
 "nbformat": 4,
 "nbformat_minor": 2
}
