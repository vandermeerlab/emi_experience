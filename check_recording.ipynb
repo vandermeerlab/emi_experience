{
 "cells": [
  {
   "cell_type": "code",
   "execution_count": null,
   "metadata": {
    "ExecuteTime": {
     "end_time": "2019-05-24T19:32:12.211357Z",
     "start_time": "2019-05-24T19:32:11.428529Z"
    }
   },
   "outputs": [],
   "source": [
    "%matplotlib inline\n",
    "import matplotlib.pyplot as plt\n",
    "import matplotlib\n",
    "import numpy as np\n",
    "import scipy\n",
    "import os\n",
    "import nept"
   ]
  },
  {
   "cell_type": "code",
   "execution_count": null,
   "metadata": {
    "ExecuteTime": {
     "end_time": "2019-05-24T19:32:12.218336Z",
     "start_time": "2019-05-24T19:32:12.213338Z"
    }
   },
   "outputs": [],
   "source": [
    "thisdir = os.getcwd()\n",
    "# data_filepath = os.path.join(thisdir, \"cache\", \"data\")\n",
    "output_filepath = os.path.join(thisdir, \"plots\", \"tmaze\")\n",
    "if not os.path.exists(output_filepath):\n",
    "    os.makedirs(output_filepath)"
   ]
  },
  {
   "cell_type": "code",
   "execution_count": null,
   "metadata": {
    "ExecuteTime": {
     "end_time": "2019-05-24T19:32:12.230328Z",
     "start_time": "2019-05-24T19:32:12.220335Z"
    }
   },
   "outputs": [],
   "source": [
    "date = \"2019-05-18\"\n",
    "data_filepath = os.path.join(\"E:\\\\\", \"data\", \"data-experience\", \"R181\", \"RR3\", \"R181_\"+date+\"_recording\")"
   ]
  },
  {
   "cell_type": "code",
   "execution_count": null,
   "metadata": {
    "ExecuteTime": {
     "end_time": "2019-05-24T19:32:12.243321Z",
     "start_time": "2019-05-24T19:32:12.232328Z"
    }
   },
   "outputs": [],
   "source": [
    "data_filepath"
   ]
  },
  {
   "cell_type": "code",
   "execution_count": null,
   "metadata": {
    "ExecuteTime": {
     "end_time": "2019-05-24T19:32:12.263309Z",
     "start_time": "2019-05-24T19:32:12.245320Z"
    }
   },
   "outputs": [],
   "source": [
    "import info.r181_test as info"
   ]
  },
  {
   "cell_type": "code",
   "execution_count": null,
   "metadata": {
    "ExecuteTime": {
     "end_time": "2019-05-24T19:32:12.270306Z",
     "start_time": "2019-05-24T19:32:12.265309Z"
    }
   },
   "outputs": [],
   "source": [
    "def get_trials(events):    \n",
    "    \n",
    "    starts = events[\"trial_start\"]\n",
    "    stops = events[\"trial_end\"]\n",
    "    \n",
    "    if len(starts) < len(stops):\n",
    "        stops = stops[1:]\n",
    "    if len(starts) > len(stops):\n",
    "        starts = starts[:-1]\n",
    "\n",
    "    return nept.Epoch(starts, stops)"
   ]
  },
  {
   "cell_type": "code",
   "execution_count": null,
   "metadata": {
    "ExecuteTime": {
     "end_time": "2019-05-24T19:32:12.286297Z",
     "start_time": "2019-05-24T19:32:12.271305Z"
    }
   },
   "outputs": [],
   "source": [
    "event_filename = date+\"_Events.nev\"\n",
    "events = nept.load_events(os.path.join(data_filepath, event_filename), info.event_labels)\n",
    "trials = get_trials(events)\n",
    "print(\"Mean:\", np.mean(trials.durations), \"(s) +/- sem:\", scipy.stats.sem(trials.durations))"
   ]
  },
  {
   "cell_type": "code",
   "execution_count": null,
   "metadata": {
    "ExecuteTime": {
     "end_time": "2019-05-24T19:32:12.295292Z",
     "start_time": "2019-05-24T19:32:12.288295Z"
    }
   },
   "outputs": [],
   "source": [
    "spikes = nept.load_spikes(data_filepath)"
   ]
  },
  {
   "cell_type": "code",
   "execution_count": null,
   "metadata": {
    "ExecuteTime": {
     "end_time": "2019-05-24T19:32:12.443207Z",
     "start_time": "2019-05-24T19:32:12.297291Z"
    }
   },
   "outputs": [],
   "source": [
    "lfp = nept.load_lfp(os.path.join(data_filepath, info.lfp_swr_filename))"
   ]
  },
  {
   "cell_type": "code",
   "execution_count": null,
   "metadata": {
    "ExecuteTime": {
     "end_time": "2019-05-24T19:32:13.370642Z",
     "start_time": "2019-05-24T19:32:12.444206Z"
    }
   },
   "outputs": [],
   "source": [
    "plt.plot(lfp.time, lfp.data)\n",
    "plt.show()"
   ]
  },
  {
   "cell_type": "code",
   "execution_count": null,
   "metadata": {
    "ExecuteTime": {
     "end_time": "2019-05-24T19:32:14.405759Z",
     "start_time": "2019-05-24T19:32:13.372640Z"
    }
   },
   "outputs": [],
   "source": [
    "plt.plot(lfp.time, lfp.data)\n",
    "plt.xlim(89757, 91000)\n",
    "plt.show()"
   ]
  },
  {
   "cell_type": "code",
   "execution_count": null,
   "metadata": {
    "ExecuteTime": {
     "end_time": "2019-05-24T19:32:14.554674Z",
     "start_time": "2019-05-24T19:32:14.407741Z"
    }
   },
   "outputs": [],
   "source": [
    "position = nept.load_position(os.path.join(data_filepath, info.position_filename), pxl_to_cm=[1, 1])"
   ]
  },
  {
   "cell_type": "code",
   "execution_count": null,
   "metadata": {
    "ExecuteTime": {
     "end_time": "2019-05-24T19:32:38.886412Z",
     "start_time": "2019-05-24T19:32:38.694555Z"
    }
   },
   "outputs": [],
   "source": [
    "plt.plot(position.x, position.y, \".\")\n",
    "plt.show()"
   ]
  },
  {
   "cell_type": "code",
   "execution_count": null,
   "metadata": {},
   "outputs": [],
   "source": []
  },
  {
   "cell_type": "code",
   "execution_count": null,
   "metadata": {},
   "outputs": [],
   "source": []
  }
 ],
 "metadata": {
  "kernelspec": {
   "display_name": "Python 3",
   "language": "python",
   "name": "python3"
  },
  "language_info": {
   "codemirror_mode": {
    "name": "ipython",
    "version": 3
   },
   "file_extension": ".py",
   "mimetype": "text/x-python",
   "name": "python",
   "nbconvert_exporter": "python",
   "pygments_lexer": "ipython3",
   "version": "3.6.5"
  },
  "toc": {
   "colors": {
    "hover_highlight": "#DAA520",
    "running_highlight": "#FF0000",
    "selected_highlight": "#FFD700"
   },
   "moveMenuLeft": true,
   "nav_menu": {
    "height": "12px",
    "width": "252px"
   },
   "navigate_menu": true,
   "number_sections": true,
   "sideBar": true,
   "threshold": 4,
   "toc_cell": false,
   "toc_section_display": "block",
   "toc_window_display": false
  }
 },
 "nbformat": 4,
 "nbformat_minor": 2
}
