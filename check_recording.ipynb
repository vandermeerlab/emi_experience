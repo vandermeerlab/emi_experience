{
 "cells": [
  {
   "cell_type": "code",
   "execution_count": null,
   "metadata": {
    "ExecuteTime": {
     "end_time": "2019-05-31T19:27:50.804000Z",
     "start_time": "2019-05-31T19:27:47.355313Z"
    },
    "collapsed": true
   },
   "outputs": [],
   "source": [
    "%matplotlib inline\n",
    "import matplotlib.pyplot as plt\n",
    "import matplotlib\n",
    "import numpy as np\n",
    "import scipy\n",
    "import os\n",
    "import nept"
   ]
  },
  {
   "cell_type": "code",
   "execution_count": null,
   "metadata": {
    "ExecuteTime": {
     "end_time": "2019-05-31T19:27:50.808997Z",
     "start_time": "2019-05-31T19:27:50.805999Z"
    },
    "collapsed": true
   },
   "outputs": [],
   "source": [
    "thisdir = os.getcwd()\n",
    "# data_filepath = os.path.join(thisdir, \"cache\", \"data\")\n",
    "output_filepath = os.path.join(thisdir, \"plots\", \"tmaze\")\n",
    "if not os.path.exists(output_filepath):\n",
    "    os.makedirs(output_filepath)"
   ]
  },
  {
   "cell_type": "code",
   "execution_count": null,
   "metadata": {
    "ExecuteTime": {
     "end_time": "2019-05-31T19:27:50.820990Z",
     "start_time": "2019-05-31T19:27:50.810996Z"
    },
    "collapsed": true
   },
   "outputs": [],
   "source": [
    "date = \"2019-05-25\"\n",
    "data_filepath = os.path.join(\"/home\", \"emily\", \"data\", \"R181_\"+date+\"_recording\")\n",
    "# data_filepath = os.path.join(\"E:\\\\\", \"data\", \"data-experience\", \"R181\", \"RR3\", \"R181_\"+date+\"_recording\")\n",
    "# data_filepath = os.path.join(\"E:\\\\\", \"data\", \"data-experience\", \"R181\", \"RR1_\"+date+\"_test\")\n",
    "# data_filepath = os.path.join(\"/home\", \"emily\", \"data\", \"RR1_\"+date+\"_test\")"
   ]
  },
  {
   "cell_type": "code",
   "execution_count": null,
   "metadata": {
    "ExecuteTime": {
     "end_time": "2019-05-31T19:27:50.836981Z",
     "start_time": "2019-05-31T19:27:50.822989Z"
    }
   },
   "outputs": [],
   "source": [
    "data_filepath"
   ]
  },
  {
   "cell_type": "code",
   "execution_count": null,
   "metadata": {
    "ExecuteTime": {
     "end_time": "2019-05-31T19:27:50.860967Z",
     "start_time": "2019-05-31T19:27:50.838980Z"
    },
    "collapsed": true
   },
   "outputs": [],
   "source": [
    "import info.r181_exp as info"
   ]
  },
  {
   "cell_type": "code",
   "execution_count": null,
   "metadata": {
    "ExecuteTime": {
     "end_time": "2019-05-31T19:27:51.791877Z",
     "start_time": "2019-05-31T19:27:51.786879Z"
    },
    "collapsed": true
   },
   "outputs": [],
   "source": [
    "def get_trials(events):    \n",
    "    \n",
    "    starts = events[\"trial_start\"]\n",
    "    stops = events[\"trial_end\"]\n",
    "    \n",
    "    if len(starts) < len(stops):\n",
    "        stops = stops[1:]\n",
    "    if len(starts) > len(stops):\n",
    "        starts = starts[:-1]\n",
    "\n",
    "    return nept.Epoch(starts, stops)"
   ]
  },
  {
   "cell_type": "code",
   "execution_count": null,
   "metadata": {
    "ExecuteTime": {
     "end_time": "2019-05-31T19:28:22.113013Z",
     "start_time": "2019-05-31T19:28:22.073905Z"
    }
   },
   "outputs": [],
   "source": [
    "event_filename = date+\"_Events.nev\"\n",
    "events = nept.load_events(os.path.join(data_filepath, event_filename), info.event_labels)\n",
    "trials = get_trials(events)\n",
    "print(\"Mean:\", np.mean(trials.durations), \"(s) +/- sem:\", scipy.stats.sem(trials.durations))"
   ]
  },
  {
   "cell_type": "code",
   "execution_count": null,
   "metadata": {
    "collapsed": true
   },
   "outputs": [],
   "source": [
    "evt = nept.load_nev(os.path.join(data_filepath, event_filename))"
   ]
  },
  {
   "cell_type": "code",
   "execution_count": null,
   "metadata": {
    "scrolled": true
   },
   "outputs": [],
   "source": [
    "evt"
   ]
  },
  {
   "cell_type": "code",
   "execution_count": null,
   "metadata": {},
   "outputs": [],
   "source": [
    "ok = []\n",
    "for tt in evt:\n",
    "    ok.append(tt[-1])\n",
    "np.unique(ok)"
   ]
  },
  {
   "cell_type": "code",
   "execution_count": null,
   "metadata": {},
   "outputs": [],
   "source": [
    "pbs_labels = [\"north_pb\", \"east_pb\", \"south_pb\", \"west_pb\"]\n",
    "for pbs_label in pbs_labels:\n",
    "    print(events[pbs_label])"
   ]
  },
  {
   "cell_type": "code",
   "execution_count": null,
   "metadata": {},
   "outputs": [],
   "source": [
    "events"
   ]
  },
  {
   "cell_type": "code",
   "execution_count": null,
   "metadata": {
    "collapsed": true
   },
   "outputs": [],
   "source": []
  },
  {
   "cell_type": "code",
   "execution_count": null,
   "metadata": {
    "collapsed": true
   },
   "outputs": [],
   "source": []
  },
  {
   "cell_type": "code",
   "execution_count": null,
   "metadata": {
    "ExecuteTime": {
     "end_time": "2019-05-30T16:38:28.128713Z",
     "start_time": "2019-05-30T16:38:28.123736Z"
    },
    "collapsed": true
   },
   "outputs": [],
   "source": [
    "spikes = nept.load_spikes(data_filepath)"
   ]
  },
  {
   "cell_type": "code",
   "execution_count": null,
   "metadata": {
    "ExecuteTime": {
     "end_time": "2019-05-30T16:37:18.161536Z",
     "start_time": "2019-05-30T16:37:17.703781Z"
    }
   },
   "outputs": [],
   "source": [
    "n_rows = len(spikes)\n",
    "add_rows = int(n_rows / 8)\n",
    "\n",
    "ms = 300 / n_rows\n",
    "mew = 0.5\n",
    "spike_loc = 1\n",
    "\n",
    "fig = plt.figure(figsize=(8, 8))\n",
    "\n",
    "ax = plt.subplot()\n",
    "for idx, neuron_spikes in enumerate(spikes):\n",
    "    ax.plot(neuron_spikes.time, np.ones(len(neuron_spikes.time)) + (idx * spike_loc), '|', color='k', ms=ms, mew=mew)\n",
    "\n",
    "ax.axis('off')\n",
    "plt.show()"
   ]
  },
  {
   "cell_type": "code",
   "execution_count": null,
   "metadata": {
    "ExecuteTime": {
     "end_time": "2019-05-31T19:28:44.165184Z",
     "start_time": "2019-05-31T19:28:44.118212Z"
    },
    "collapsed": true
   },
   "outputs": [],
   "source": [
    "lfp = nept.load_lfp(os.path.join(data_filepath, info.lfp_swr_filename))"
   ]
  },
  {
   "cell_type": "code",
   "execution_count": null,
   "metadata": {
    "ExecuteTime": {
     "end_time": "2019-05-31T19:28:44.855829Z",
     "start_time": "2019-05-31T19:28:44.466066Z"
    }
   },
   "outputs": [],
   "source": [
    "plt.plot(lfp.time, lfp.data)\n",
    "plt.show()"
   ]
  },
  {
   "cell_type": "code",
   "execution_count": null,
   "metadata": {
    "ExecuteTime": {
     "end_time": "2019-05-31T19:28:47.409441Z",
     "start_time": "2019-05-31T19:28:47.346478Z"
    },
    "collapsed": true
   },
   "outputs": [],
   "source": [
    "position_filename = date+\"_VT1.nvt\"\n",
    "position = nept.load_position(os.path.join(data_filepath, position_filename), pxl_to_cm=[1, 1])"
   ]
  },
  {
   "cell_type": "code",
   "execution_count": null,
   "metadata": {
    "ExecuteTime": {
     "end_time": "2019-05-31T19:28:48.317383Z",
     "start_time": "2019-05-31T19:28:48.186459Z"
    }
   },
   "outputs": [],
   "source": [
    "plt.plot(position.x, position.y, \".\")\n",
    "plt.show()"
   ]
  },
  {
   "cell_type": "code",
   "execution_count": null,
   "metadata": {
    "ExecuteTime": {
     "end_time": "2019-05-31T19:28:55.975545Z",
     "start_time": "2019-05-31T19:28:55.842605Z"
    }
   },
   "outputs": [],
   "source": [
    "# 720 x 480\n",
    "plt.plot(position.x, position.time, \".\")\n",
    "plt.show()"
   ]
  },
  {
   "cell_type": "code",
   "execution_count": null,
   "metadata": {
    "ExecuteTime": {
     "end_time": "2019-05-30T16:37:20.778029Z",
     "start_time": "2019-05-30T16:37:20.772032Z"
    },
    "collapsed": true
   },
   "outputs": [],
   "source": [
    "def get_only_tuning_curves(info, position, spikes, epoch_of_interest):\n",
    "    sliced_position = position.time_slice(epoch_of_interest.starts, epoch_of_interest.stops)\n",
    "    sliced_spikes = [spiketrain.time_slice(epoch_of_interest.starts, epoch_of_interest.stops) for spiketrain in spikes]\n",
    "\n",
    "    # Limit position and spikes to only running times\n",
    "    run_epoch = nept.run_threshold(sliced_position, thresh=10., t_smooth=0.8)\n",
    "    run_position = sliced_position[run_epoch]\n",
    "    tuning_spikes = [spiketrain.time_slice(run_epoch.starts, run_epoch.stops) for spiketrain in sliced_spikes]\n",
    "\n",
    "    tuning_curves = nept.tuning_curve_2d(run_position, tuning_spikes, info.xedges, info.yedges,\n",
    "                                         occupied_thresh=0.5, gaussian_std=0.3)\n",
    "\n",
    "    return tuning_curves"
   ]
  },
  {
   "cell_type": "code",
   "execution_count": null,
   "metadata": {
    "ExecuteTime": {
     "end_time": "2019-05-30T16:37:20.844990Z",
     "start_time": "2019-05-30T16:37:20.780028Z"
    },
    "collapsed": true
   },
   "outputs": [],
   "source": [
    "np.where(np.diff(lfp.time) > 1)"
   ]
  },
  {
   "cell_type": "code",
   "execution_count": null,
   "metadata": {
    "ExecuteTime": {
     "end_time": "2019-05-30T16:37:20.849988Z",
     "start_time": "2019-05-30T16:37:20.845990Z"
    },
    "collapsed": true
   },
   "outputs": [],
   "source": [
    "tmaze_times = nept.Epoch(lfp.time[635231], lfp.time[5692603])"
   ]
  },
  {
   "cell_type": "code",
   "execution_count": null,
   "metadata": {
    "ExecuteTime": {
     "end_time": "2019-05-30T16:37:21.013894Z",
     "start_time": "2019-05-30T16:37:20.850987Z"
    },
    "collapsed": true
   },
   "outputs": [],
   "source": [
    "tuning_curves = get_only_tuning_curves(info, position, spikes, tmaze_times)"
   ]
  },
  {
   "cell_type": "code",
   "execution_count": null,
   "metadata": {
    "ExecuteTime": {
     "end_time": "2019-05-30T16:37:23.425536Z",
     "start_time": "2019-05-30T16:37:21.014893Z"
    },
    "collapsed": true,
    "scrolled": false
   },
   "outputs": [],
   "source": [
    "xx, yy = np.meshgrid(info.xedges, info.yedges)\n",
    "\n",
    "cmap = plt.cm.get_cmap('bone_r', 25)\n",
    "\n",
    "for tuning_curve in tuning_curves:\n",
    "    plt.figure(figsize=(6, 5))\n",
    "    plt.plot(position.x, position.y, \".\", alpha=0.1, ms=0.3, color=\"y\")\n",
    "    pp = plt.pcolormesh(xx, yy, tuning_curve, vmin=0.01, cmap=cmap)\n",
    "    plt.colorbar(pp)\n",
    "    plt.axis('off')\n",
    "    plt.tight_layout()\n",
    "    plt.show()"
   ]
  },
  {
   "cell_type": "code",
   "execution_count": null,
   "metadata": {
    "collapsed": true
   },
   "outputs": [],
   "source": []
  }
 ],
 "metadata": {
  "kernelspec": {
   "display_name": "Python 3",
   "language": "python",
   "name": "python3"
  },
  "language_info": {
   "codemirror_mode": {
    "name": "ipython",
    "version": 3
   },
   "file_extension": ".py",
   "mimetype": "text/x-python",
   "name": "python",
   "nbconvert_exporter": "python",
   "pygments_lexer": "ipython3",
   "version": "3.6.5"
  },
  "toc": {
   "colors": {
    "hover_highlight": "#DAA520",
    "running_highlight": "#FF0000",
    "selected_highlight": "#FFD700"
   },
   "moveMenuLeft": true,
   "nav_menu": {
    "height": "12px",
    "width": "252px"
   },
   "navigate_menu": true,
   "number_sections": true,
   "sideBar": true,
   "threshold": 4,
   "toc_cell": false,
   "toc_section_display": "block",
   "toc_window_display": false
  }
 },
 "nbformat": 4,
 "nbformat_minor": 2
}
