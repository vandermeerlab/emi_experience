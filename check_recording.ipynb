{
 "cells": [
  {
   "cell_type": "code",
   "execution_count": null,
   "metadata": {
    "ExecuteTime": {
     "end_time": "2019-09-13T19:04:24.694214Z",
     "start_time": "2019-09-13T19:04:23.889542Z"
    }
   },
   "outputs": [],
   "source": [
    "%matplotlib inline\n",
    "import matplotlib.pyplot as plt\n",
    "import matplotlib\n",
    "import math\n",
    "import numpy as np\n",
    "import scipy\n",
    "import os\n",
    "import nept"
   ]
  },
  {
   "cell_type": "code",
   "execution_count": null,
   "metadata": {
    "ExecuteTime": {
     "end_time": "2019-09-13T19:04:24.701209Z",
     "start_time": "2019-09-13T19:04:24.696212Z"
    }
   },
   "outputs": [],
   "source": [
    "thisdir = os.getcwd()\n",
    "# data_filepath = os.path.join(thisdir, \"cache\", \"data\")\n",
    "output_filepath = os.path.join(thisdir, \"plots\", \"experience\")\n",
    "if not os.path.exists(output_filepath):\n",
    "    os.makedirs(output_filepath)"
   ]
  },
  {
   "cell_type": "code",
   "execution_count": null,
   "metadata": {
    "ExecuteTime": {
     "end_time": "2019-09-13T19:04:24.723196Z",
     "start_time": "2019-09-13T19:04:24.703208Z"
    }
   },
   "outputs": [],
   "source": [
    "import info.r191_exp01 as info"
   ]
  },
  {
   "cell_type": "code",
   "execution_count": null,
   "metadata": {
    "ExecuteTime": {
     "end_time": "2019-09-13T19:04:24.728194Z",
     "start_time": "2019-09-13T19:04:24.725195Z"
    }
   },
   "outputs": [],
   "source": [
    "# rat = \"R187\"\n",
    "# # data_filepath = os.path.join(\"/home\", \"emily\", \"data\", rat+\"_\"+info.date+\"_recording\")\n",
    "# # data_filepath = os.path.join(\"/home\", \"emily\", \"data\", \"RR1_\"+info.date+\"_test\")\n",
    "\n",
    "# data_filepath = os.path.join(\"E:\\\\\", \"data\", \"data-experience\", rat, \"RR3\", rat+\"_\"+info.date+\"_recording\")\n",
    "# # data_filepath = os.path.join(\"E:\\\\\", \"data\", \"data-experience\", rat, \"RR1_\"+info.date+\"_test\")\n",
    "\n",
    "# data_filepath = os.path.join(\"/home/emily/data/R192_\"+date+\"_recording\")\n",
    "\n",
    "# import info.r187_tmaze as info"
   ]
  },
  {
   "cell_type": "code",
   "execution_count": null,
   "metadata": {
    "ExecuteTime": {
     "end_time": "2019-09-13T19:04:24.746183Z",
     "start_time": "2019-09-13T19:04:24.730194Z"
    }
   },
   "outputs": [],
   "source": [
    "data_filepath = os.path.join(\"E:\\\\\", \"data\", \"data-experience\", info.rat_id, \"RR1\", info.rat_id+\"_\"+info.date+\"_recording\")"
   ]
  },
  {
   "cell_type": "code",
   "execution_count": null,
   "metadata": {
    "ExecuteTime": {
     "end_time": "2019-09-13T19:04:24.758177Z",
     "start_time": "2019-09-13T19:04:24.748182Z"
    }
   },
   "outputs": [],
   "source": [
    "txt_filepath = os.path.join(data_filepath, info.date+\"_experience.txt\")\n",
    "txt_filepath"
   ]
  },
  {
   "cell_type": "code",
   "execution_count": null,
   "metadata": {
    "ExecuteTime": {
     "end_time": "2019-09-13T19:04:24.776165Z",
     "start_time": "2019-09-13T19:04:24.760175Z"
    }
   },
   "outputs": [],
   "source": [
    "with open(txt_filepath) as f:\n",
    "    mylist = f.read().splitlines() \n",
    "f.close()"
   ]
  },
  {
   "cell_type": "code",
   "execution_count": null,
   "metadata": {
    "ExecuteTime": {
     "end_time": "2019-09-13T19:04:24.790158Z",
     "start_time": "2019-09-13T19:04:24.781163Z"
    }
   },
   "outputs": [],
   "source": [
    "probe_trials = [trial for trial in mylist if trial.startswith(\"~\")]\n",
    "probe_trials"
   ]
  },
  {
   "cell_type": "code",
   "execution_count": null,
   "metadata": {
    "ExecuteTime": {
     "end_time": "2019-09-13T19:04:24.802151Z",
     "start_time": "2019-09-13T19:04:24.791157Z"
    }
   },
   "outputs": [],
   "source": [
    "probe_choice = [choice[2] for choice in probe_trials]\n",
    "probe_choice"
   ]
  },
  {
   "cell_type": "code",
   "execution_count": null,
   "metadata": {
    "ExecuteTime": {
     "end_time": "2019-09-13T19:04:24.938074Z",
     "start_time": "2019-09-13T19:04:24.804150Z"
    }
   },
   "outputs": [],
   "source": [
    "n_bins = 4\n",
    "plt.hist(probe_choice, n_bins, rwidth=0.8)\n",
    "plt.show()"
   ]
  },
  {
   "cell_type": "code",
   "execution_count": null,
   "metadata": {
    "ExecuteTime": {
     "end_time": "2019-09-13T19:04:24.945069Z",
     "start_time": "2019-09-13T19:04:24.939072Z"
    }
   },
   "outputs": [],
   "source": [
    "def get_tmaze_trials(events):\n",
    "    if events[\"trial_start\"][0] > events[\"trial_end\"][0]:\n",
    "        starts = events[\"trial_end\"]\n",
    "        stops = events[\"trial_start\"]\n",
    "    else:\n",
    "        starts = events[\"trial_start\"]\n",
    "        stops = events[\"trial_end\"] \n",
    "    print(starts[-5:], stops[-5:])\n",
    "    print(len(starts), len(stops))\n",
    "    if len(starts) > len(stops):\n",
    "        starts = starts[:-1]\n",
    "    if len(starts) < len(stops):\n",
    "        stops = stops[:-1]\n",
    "    print(len(starts), len(stops))\n",
    "    if stops[0]-starts[0] > 0:\n",
    "        trials = nept.Epoch(starts, stops)\n",
    "    else:\n",
    "        trials = nept.Epoch(stops, starts)\n",
    "\n",
    "    return trials"
   ]
  },
  {
   "cell_type": "code",
   "execution_count": null,
   "metadata": {
    "ExecuteTime": {
     "end_time": "2019-09-13T19:04:24.955064Z",
     "start_time": "2019-09-13T19:04:24.946069Z"
    }
   },
   "outputs": [],
   "source": [
    "def get_exp_trials(events):\n",
    "    starts = np.sort(np.append(events[\"trial_start\"], [info.task_times[\"run1\"].start, info.task_times[\"run2\"].start]))\n",
    "    stops = events[\"trial_end\"]\n",
    "\n",
    "    return nept.Epoch(starts, stops)"
   ]
  },
  {
   "cell_type": "code",
   "execution_count": null,
   "metadata": {
    "ExecuteTime": {
     "end_time": "2019-09-13T19:04:24.987045Z",
     "start_time": "2019-09-13T19:04:24.957063Z"
    }
   },
   "outputs": [],
   "source": [
    "event_filename = info.date+\"_Events.nev\"\n",
    "events = nept.load_events(os.path.join(data_filepath, event_filename), info.event_labels)\n",
    "# trials = get_exp_trials(events)\n",
    "# print(\"Mean:\", np.mean(trials.durations), \"(s) +/- sem:\", scipy.stats.sem(trials.durations))"
   ]
  },
  {
   "cell_type": "code",
   "execution_count": null,
   "metadata": {
    "ExecuteTime": {
     "end_time": "2019-09-13T19:04:24.992042Z",
     "start_time": "2019-09-13T19:04:24.989044Z"
    }
   },
   "outputs": [],
   "source": [
    "pbs_labels = [\"north_pb\", \"east_pb\", \"south_pb\", \"west_pb\"]"
   ]
  },
  {
   "cell_type": "code",
   "execution_count": null,
   "metadata": {
    "ExecuteTime": {
     "end_time": "2019-09-13T19:04:25.366828Z",
     "start_time": "2019-09-13T19:04:24.993042Z"
    }
   },
   "outputs": [],
   "source": [
    "lfp = nept.load_lfp(os.path.join(data_filepath, info.lfp_swr_filename))"
   ]
  },
  {
   "cell_type": "code",
   "execution_count": null,
   "metadata": {
    "ExecuteTime": {
     "end_time": "2019-09-13T19:04:25.373824Z",
     "start_time": "2019-09-13T19:04:25.368827Z"
    }
   },
   "outputs": [],
   "source": [
    "os.path.join(data_filepath, info.lfp_swr_filename)"
   ]
  },
  {
   "cell_type": "code",
   "execution_count": null,
   "metadata": {
    "ExecuteTime": {
     "end_time": "2019-09-13T19:04:25.456777Z",
     "start_time": "2019-09-13T19:04:25.374823Z"
    }
   },
   "outputs": [],
   "source": [
    "lfp_diff = np.diff(lfp.time)\n",
    "breaks = np.where(lfp_diff > 20)[0]\n",
    "print(len(breaks))"
   ]
  },
  {
   "cell_type": "code",
   "execution_count": null,
   "metadata": {
    "ExecuteTime": {
     "end_time": "2019-09-13T19:04:25.470769Z",
     "start_time": "2019-09-13T19:04:25.458776Z"
    }
   },
   "outputs": [],
   "source": [
    "recording_breaks = [lfp.time[0]]\n",
    "for pause in breaks:\n",
    "    recording_breaks.append(lfp.time[pause])\n",
    "    recording_breaks.append(lfp.time[pause+1])\n",
    "recording_breaks.append(np.max(lfp.time))"
   ]
  },
  {
   "cell_type": "code",
   "execution_count": null,
   "metadata": {
    "ExecuteTime": {
     "end_time": "2019-09-13T19:04:25.485760Z",
     "start_time": "2019-09-13T19:04:25.479763Z"
    }
   },
   "outputs": [],
   "source": [
    "starts = recording_breaks[::2]\n",
    "stops = recording_breaks[1::2]\n",
    "print(starts, stops)"
   ]
  },
  {
   "cell_type": "code",
   "execution_count": null,
   "metadata": {
    "ExecuteTime": {
     "end_time": "2019-09-13T19:04:25.530734Z",
     "start_time": "2019-09-13T19:04:25.487759Z"
    }
   },
   "outputs": [],
   "source": [
    "events[\"recording_start\"]"
   ]
  },
  {
   "cell_type": "code",
   "execution_count": null,
   "metadata": {
    "ExecuteTime": {
     "end_time": "2019-09-13T19:04:25.578707Z",
     "start_time": "2019-09-13T19:04:25.532733Z"
    }
   },
   "outputs": [],
   "source": [
    "events[\"recording_stop\"]"
   ]
  },
  {
   "cell_type": "code",
   "execution_count": null,
   "metadata": {
    "ExecuteTime": {
     "end_time": "2019-09-13T19:04:25.595698Z",
     "start_time": "2019-09-13T19:04:25.579706Z"
    }
   },
   "outputs": [],
   "source": [
    "for start, stop in zip(starts, stops):\n",
    "    print(str([math.ceil(start * 100.0) / 100.0]) + \", \" + str([math.floor(stop * 100.0) / 100.0]))"
   ]
  },
  {
   "cell_type": "code",
   "execution_count": null,
   "metadata": {
    "ExecuteTime": {
     "end_time": "2019-09-13T19:04:25.707633Z",
     "start_time": "2019-09-13T19:04:25.597695Z"
    }
   },
   "outputs": [],
   "source": [
    "1/0"
   ]
  },
  {
   "cell_type": "code",
   "execution_count": null,
   "metadata": {
    "ExecuteTime": {
     "end_time": "2019-09-13T19:04:35.818946Z",
     "start_time": "2019-09-13T19:04:32.171991Z"
    }
   },
   "outputs": [],
   "source": [
    "breaks_start = nept.find_nearest_indices(lfp.time, starts)\n",
    "breaks_stop = nept.find_nearest_indices(lfp.time, stops)\n",
    "\n",
    "plt.plot(lfp.time, lfp.data)\n",
    "for i in breaks_start:\n",
    "    plt.plot(lfp.time[i], lfp.data[i], \"r.\", ms=20)\n",
    "for j in breaks_stop:\n",
    "    plt.plot(lfp.time[j], lfp.data[j], \"g.\", ms=20)\n",
    "plt.show()"
   ]
  },
  {
   "cell_type": "code",
   "execution_count": null,
   "metadata": {
    "ExecuteTime": {
     "end_time": "2019-09-13T19:04:36.257695Z",
     "start_time": "2019-09-13T19:04:35.819946Z"
    }
   },
   "outputs": [],
   "source": [
    "position_filename = info.date+\"_VT1.nvt\"\n",
    "position = nept.load_position(os.path.join(data_filepath, position_filename), pxl_to_cm=[info.pxl_to_cm[\"x\"], info.pxl_to_cm[\"y\"]])"
   ]
  },
  {
   "cell_type": "code",
   "execution_count": null,
   "metadata": {
    "ExecuteTime": {
     "end_time": "2019-09-13T19:04:45.728454Z",
     "start_time": "2019-09-13T19:04:45.539066Z"
    }
   },
   "outputs": [],
   "source": [
    "phase = 'run1'\n",
    "sliced_position = position.time_slice(info.task_times[phase].start, info.task_times[phase].stop)\n",
    "\n",
    "plt.plot(sliced_position.x, sliced_position.y, \".\")\n",
    "plt.show()"
   ]
  },
  {
   "cell_type": "code",
   "execution_count": null,
   "metadata": {
    "ExecuteTime": {
     "end_time": "2019-09-13T19:05:00.690415Z",
     "start_time": "2019-09-13T19:05:00.428206Z"
    }
   },
   "outputs": [],
   "source": [
    "plt.plot(sliced_position.x, sliced_position.time, \".\")\n",
    "plt.show()"
   ]
  },
  {
   "cell_type": "code",
   "execution_count": null,
   "metadata": {
    "ExecuteTime": {
     "end_time": "2019-09-13T19:05:03.321724Z",
     "start_time": "2019-09-13T19:05:03.139587Z"
    }
   },
   "outputs": [],
   "source": [
    "plt.plot(sliced_position.x[:50000], sliced_position.y[:50000], \".\")\n",
    "plt.show()"
   ]
  },
  {
   "cell_type": "code",
   "execution_count": null,
   "metadata": {},
   "outputs": [],
   "source": []
  },
  {
   "cell_type": "code",
   "execution_count": null,
   "metadata": {},
   "outputs": [],
   "source": []
  },
  {
   "cell_type": "code",
   "execution_count": null,
   "metadata": {
    "ExecuteTime": {
     "end_time": "2019-09-13T19:04:25.713630Z",
     "start_time": "2019-09-13T19:04:23.961Z"
    }
   },
   "outputs": [],
   "source": [
    "plt.plot(position.x, position.y, \".\")\n",
    "plt.show()"
   ]
  },
  {
   "cell_type": "code",
   "execution_count": null,
   "metadata": {
    "ExecuteTime": {
     "end_time": "2019-09-13T19:04:25.714629Z",
     "start_time": "2019-09-13T19:04:23.965Z"
    }
   },
   "outputs": [],
   "source": [
    "sliced_lfp = lfp.time_slice(info.task_times[\"rest2\"].start, info.task_times[\"rest2\"].stop)"
   ]
  },
  {
   "cell_type": "code",
   "execution_count": null,
   "metadata": {
    "ExecuteTime": {
     "end_time": "2019-09-13T19:04:25.715629Z",
     "start_time": "2019-09-13T19:04:23.968Z"
    }
   },
   "outputs": [],
   "source": [
    "# Find SWRs for the whole session\n",
    "z_thresh = 2.0\n",
    "power_thresh = 3.0\n",
    "merge_thresh = 0.02\n",
    "min_length = 0.05\n",
    "swrs = nept.detect_swr_hilbert(sliced_lfp, \n",
    "                               fs=info.fs, \n",
    "                               thresh=(140.0, 250.0), \n",
    "                               z_thresh=z_thresh,\n",
    "                               merge_thresh=merge_thresh, \n",
    "                               min_length=min_length)\n",
    "# swrs = nept.find_multi_in_epochs(spikes, swrs, min_involved=4)\n",
    "\n",
    "# rest_epochs = nept.rest_threshold(position, thresh=12., t_smooth=0.8)"
   ]
  },
  {
   "cell_type": "code",
   "execution_count": null,
   "metadata": {
    "ExecuteTime": {
     "end_time": "2019-09-13T19:04:25.716628Z",
     "start_time": "2019-09-13T19:04:23.971Z"
    },
    "scrolled": false
   },
   "outputs": [],
   "source": [
    "for i in range(10):\n",
    "    ok = sliced_lfp.time_slice(swrs.starts[i], swrs.stops[i])\n",
    "\n",
    "    buffer = 0.1\n",
    "    plt.plot(sliced_lfp.time, sliced_lfp.data)\n",
    "    plt.plot(ok.time, ok.data)\n",
    "    plt.xlim(ok.time[0]-buffer, ok.time[-1]+buffer)\n",
    "    plt.show()"
   ]
  },
  {
   "cell_type": "code",
   "execution_count": null,
   "metadata": {},
   "outputs": [],
   "source": []
  },
  {
   "cell_type": "code",
   "execution_count": null,
   "metadata": {},
   "outputs": [],
   "source": []
  },
  {
   "cell_type": "code",
   "execution_count": null,
   "metadata": {
    "ExecuteTime": {
     "end_time": "2019-09-13T19:04:25.717628Z",
     "start_time": "2019-09-13T19:04:23.976Z"
    }
   },
   "outputs": [],
   "source": [
    "spikes = nept.load_spikes(data_filepath)"
   ]
  },
  {
   "cell_type": "code",
   "execution_count": null,
   "metadata": {
    "ExecuteTime": {
     "end_time": "2019-09-13T19:04:25.718627Z",
     "start_time": "2019-09-13T19:04:23.980Z"
    }
   },
   "outputs": [],
   "source": [
    "n_rows = len(spikes)\n",
    "add_rows = int(n_rows / 8)\n",
    "\n",
    "ms = 300 / n_rows\n",
    "mew = 0.5\n",
    "spike_loc = 1\n",
    "\n",
    "fig = plt.figure(figsize=(8, 8))\n",
    "\n",
    "ax = plt.subplot()\n",
    "for idx, neuron_spikes in enumerate(spikes):\n",
    "    ax.plot(neuron_spikes.time, np.ones(len(neuron_spikes.time)) + (idx * spike_loc), '|', color='k', ms=ms, mew=mew)\n",
    "\n",
    "ax.axis('off')\n",
    "plt.show()"
   ]
  },
  {
   "cell_type": "code",
   "execution_count": null,
   "metadata": {
    "ExecuteTime": {
     "end_time": "2019-09-13T19:04:25.719626Z",
     "start_time": "2019-09-13T19:04:23.982Z"
    }
   },
   "outputs": [],
   "source": [
    "def get_only_tuning_curves(info, position, spikes, epoch_of_interest):\n",
    "    sliced_position = position.time_slice(epoch_of_interest.starts, epoch_of_interest.stops)\n",
    "    sliced_spikes = [spiketrain.time_slice(epoch_of_interest.starts, epoch_of_interest.stops) for spiketrain in spikes]\n",
    "\n",
    "    # Limit position and spikes to only running times\n",
    "    run_epoch = nept.run_threshold(sliced_position, thresh=10., t_smooth=0.8)\n",
    "    run_position = sliced_position[run_epoch]\n",
    "    tuning_spikes = [spiketrain.time_slice(run_epoch.starts, run_epoch.stops) for spiketrain in sliced_spikes]\n",
    "\n",
    "    tuning_curves = nept.tuning_curve_2d(run_position, tuning_spikes, info.xedges, info.yedges,\n",
    "                                         occupied_thresh=0.5, gaussian_std=0.3)\n",
    "\n",
    "    return tuning_curves"
   ]
  },
  {
   "cell_type": "code",
   "execution_count": null,
   "metadata": {
    "ExecuteTime": {
     "end_time": "2019-09-13T19:04:25.720626Z",
     "start_time": "2019-09-13T19:04:23.987Z"
    }
   },
   "outputs": [],
   "source": [
    "np.where(np.diff(lfp.time) > 1)"
   ]
  },
  {
   "cell_type": "code",
   "execution_count": null,
   "metadata": {
    "ExecuteTime": {
     "end_time": "2019-09-13T19:04:25.721625Z",
     "start_time": "2019-09-13T19:04:23.991Z"
    }
   },
   "outputs": [],
   "source": [
    "tmaze_times = nept.Epoch(lfp.time[635231], lfp.time[5692603])"
   ]
  },
  {
   "cell_type": "code",
   "execution_count": null,
   "metadata": {
    "ExecuteTime": {
     "end_time": "2019-09-13T19:04:25.722625Z",
     "start_time": "2019-09-13T19:04:23.994Z"
    }
   },
   "outputs": [],
   "source": [
    "tuning_curves = get_only_tuning_curves(info, position, spikes, tmaze_times)"
   ]
  },
  {
   "cell_type": "code",
   "execution_count": null,
   "metadata": {
    "ExecuteTime": {
     "end_time": "2019-09-13T19:04:25.723624Z",
     "start_time": "2019-09-13T19:04:23.998Z"
    },
    "scrolled": false
   },
   "outputs": [],
   "source": [
    "xx, yy = np.meshgrid(info.xedges, info.yedges)\n",
    "\n",
    "cmap = plt.cm.get_cmap('bone_r', 25)\n",
    "\n",
    "for tuning_curve in tuning_curves:\n",
    "    plt.figure(figsize=(6, 5))\n",
    "    plt.plot(position.x, position.y, \".\", alpha=0.1, ms=0.3, color=\"y\")\n",
    "    pp = plt.pcolormesh(xx, yy, tuning_curve, vmin=0.01, cmap=cmap)\n",
    "    plt.colorbar(pp)\n",
    "    plt.axis('off')\n",
    "    plt.tight_layout()\n",
    "    plt.show()"
   ]
  },
  {
   "cell_type": "code",
   "execution_count": null,
   "metadata": {},
   "outputs": [],
   "source": []
  }
 ],
 "metadata": {
  "kernelspec": {
   "display_name": "Python 3",
   "language": "python",
   "name": "python3"
  },
  "language_info": {
   "codemirror_mode": {
    "name": "ipython",
    "version": 3
   },
   "file_extension": ".py",
   "mimetype": "text/x-python",
   "name": "python",
   "nbconvert_exporter": "python",
   "pygments_lexer": "ipython3",
   "version": "3.6.5"
  },
  "toc": {
   "colors": {
    "hover_highlight": "#DAA520",
    "running_highlight": "#FF0000",
    "selected_highlight": "#FFD700"
   },
   "moveMenuLeft": true,
   "nav_menu": {
    "height": "12px",
    "width": "252px"
   },
   "navigate_menu": true,
   "number_sections": true,
   "sideBar": true,
   "threshold": 4,
   "toc_cell": false,
   "toc_section_display": "block",
   "toc_window_display": false
  }
 },
 "nbformat": 4,
 "nbformat_minor": 2
}
