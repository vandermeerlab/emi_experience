{
 "cells": [
  {
   "cell_type": "code",
   "execution_count": null,
   "metadata": {
    "ExecuteTime": {
     "end_time": "2019-09-15T14:42:23.243900Z",
     "start_time": "2019-09-15T14:42:22.423371Z"
    }
   },
   "outputs": [],
   "source": [
    "%matplotlib inline\n",
    "import matplotlib.pyplot as plt\n",
    "import matplotlib\n",
    "import math\n",
    "import numpy as np\n",
    "import scipy\n",
    "import os\n",
    "import nept"
   ]
  },
  {
   "cell_type": "code",
   "execution_count": null,
   "metadata": {
    "ExecuteTime": {
     "end_time": "2019-09-15T14:42:23.249897Z",
     "start_time": "2019-09-15T14:42:23.245900Z"
    }
   },
   "outputs": [],
   "source": [
    "thisdir = os.getcwd()\n",
    "# data_filepath = os.path.join(thisdir, \"cache\", \"data\")\n",
    "output_filepath = os.path.join(thisdir, \"plots\", \"experience\")\n",
    "if not os.path.exists(output_filepath):\n",
    "    os.makedirs(output_filepath)"
   ]
  },
  {
   "cell_type": "code",
   "execution_count": null,
   "metadata": {
    "ExecuteTime": {
     "end_time": "2019-09-15T14:42:23.271884Z",
     "start_time": "2019-09-15T14:42:23.251896Z"
    }
   },
   "outputs": [],
   "source": [
    "import info.r191_exp03 as info"
   ]
  },
  {
   "cell_type": "code",
   "execution_count": null,
   "metadata": {
    "ExecuteTime": {
     "end_time": "2019-09-15T14:42:23.276882Z",
     "start_time": "2019-09-15T14:42:23.273884Z"
    }
   },
   "outputs": [],
   "source": [
    "# rat = \"R187\"\n",
    "# # data_filepath = os.path.join(\"/home\", \"emily\", \"data\", rat+\"_\"+info.date+\"_recording\")\n",
    "# # data_filepath = os.path.join(\"/home\", \"emily\", \"data\", \"RR1_\"+info.date+\"_test\")\n",
    "\n",
    "# data_filepath = os.path.join(\"E:\\\\\", \"data\", \"data-experience\", rat, \"RR3\", rat+\"_\"+info.date+\"_recording\")\n",
    "# # data_filepath = os.path.join(\"E:\\\\\", \"data\", \"data-experience\", rat, \"RR1_\"+info.date+\"_test\")\n",
    "\n",
    "# data_filepath = os.path.join(\"/home/emily/data/R192_\"+date+\"_recording\")\n",
    "\n",
    "# import info.r187_tmaze as info"
   ]
  },
  {
   "cell_type": "code",
   "execution_count": null,
   "metadata": {
    "ExecuteTime": {
     "end_time": "2019-09-15T14:42:23.290874Z",
     "start_time": "2019-09-15T14:42:23.277881Z"
    }
   },
   "outputs": [],
   "source": [
    "data_filepath = os.path.join(\"E:\\\\\", \"data\", \"data-experience\", info.rat_id, \"RR1\", info.rat_id+\"_\"+info.date+\"_recording\")"
   ]
  },
  {
   "cell_type": "code",
   "execution_count": null,
   "metadata": {
    "ExecuteTime": {
     "end_time": "2019-09-15T14:42:23.306865Z",
     "start_time": "2019-09-15T14:42:23.291873Z"
    }
   },
   "outputs": [],
   "source": [
    "txt_filepath = os.path.join(data_filepath, info.date+\"_experience.txt\")\n",
    "txt_filepath"
   ]
  },
  {
   "cell_type": "code",
   "execution_count": null,
   "metadata": {
    "ExecuteTime": {
     "end_time": "2019-09-15T14:42:23.320857Z",
     "start_time": "2019-09-15T14:42:23.307864Z"
    }
   },
   "outputs": [],
   "source": [
    "with open(txt_filepath) as f:\n",
    "    mylist = f.read().splitlines() \n",
    "f.close()"
   ]
  },
  {
   "cell_type": "code",
   "execution_count": null,
   "metadata": {
    "ExecuteTime": {
     "end_time": "2019-09-15T14:42:23.333849Z",
     "start_time": "2019-09-15T14:42:23.322855Z"
    }
   },
   "outputs": [],
   "source": [
    "probe_trials = [trial for trial in mylist if trial.startswith(\"~\")]\n",
    "probe_trials"
   ]
  },
  {
   "cell_type": "code",
   "execution_count": null,
   "metadata": {
    "ExecuteTime": {
     "end_time": "2019-09-15T14:42:23.349840Z",
     "start_time": "2019-09-15T14:42:23.334849Z"
    }
   },
   "outputs": [],
   "source": [
    "probe_choice = [choice[2] for choice in probe_trials]\n",
    "probe_choice"
   ]
  },
  {
   "cell_type": "code",
   "execution_count": null,
   "metadata": {
    "ExecuteTime": {
     "end_time": "2019-09-15T14:42:23.492758Z",
     "start_time": "2019-09-15T14:42:23.351839Z"
    }
   },
   "outputs": [],
   "source": [
    "n_bins = 4\n",
    "plt.hist(probe_choice, n_bins, rwidth=0.8)\n",
    "plt.show()"
   ]
  },
  {
   "cell_type": "code",
   "execution_count": null,
   "metadata": {
    "ExecuteTime": {
     "end_time": "2019-09-15T14:42:23.499754Z",
     "start_time": "2019-09-15T14:42:23.494757Z"
    }
   },
   "outputs": [],
   "source": [
    "def get_tmaze_trials(events):\n",
    "    if events[\"trial_start\"][0] > events[\"trial_end\"][0]:\n",
    "        starts = events[\"trial_end\"]\n",
    "        stops = events[\"trial_start\"]\n",
    "    else:\n",
    "        starts = events[\"trial_start\"]\n",
    "        stops = events[\"trial_end\"] \n",
    "    print(starts[-5:], stops[-5:])\n",
    "    print(len(starts), len(stops))\n",
    "    if len(starts) > len(stops):\n",
    "        starts = starts[:-1]\n",
    "    if len(starts) < len(stops):\n",
    "        stops = stops[:-1]\n",
    "    print(len(starts), len(stops))\n",
    "    if stops[0]-starts[0] > 0:\n",
    "        trials = nept.Epoch(starts, stops)\n",
    "    else:\n",
    "        trials = nept.Epoch(stops, starts)\n",
    "\n",
    "    return trials"
   ]
  },
  {
   "cell_type": "code",
   "execution_count": null,
   "metadata": {
    "ExecuteTime": {
     "end_time": "2019-09-15T14:42:23.512746Z",
     "start_time": "2019-09-15T14:42:23.500753Z"
    }
   },
   "outputs": [],
   "source": [
    "def get_exp_trials(events):\n",
    "    starts = np.sort(np.append(events[\"trial_start\"], [info.task_times[\"run1\"].start, info.task_times[\"run2\"].start]))\n",
    "    stops = events[\"trial_end\"]\n",
    "\n",
    "    return nept.Epoch(starts, stops)"
   ]
  },
  {
   "cell_type": "code",
   "execution_count": null,
   "metadata": {
    "ExecuteTime": {
     "end_time": "2019-09-15T14:42:23.545728Z",
     "start_time": "2019-09-15T14:42:23.516745Z"
    }
   },
   "outputs": [],
   "source": [
    "event_filename = info.date+\"_Events.nev\"\n",
    "events = nept.load_events(os.path.join(data_filepath, event_filename), info.event_labels)\n",
    "# trials = get_exp_trials(events)\n",
    "# print(\"Mean:\", np.mean(trials.durations), \"(s) +/- sem:\", scipy.stats.sem(trials.durations))"
   ]
  },
  {
   "cell_type": "code",
   "execution_count": null,
   "metadata": {
    "ExecuteTime": {
     "end_time": "2019-09-15T14:42:23.556722Z",
     "start_time": "2019-09-15T14:42:23.547727Z"
    }
   },
   "outputs": [],
   "source": [
    "pbs_labels = [\"north_pb\", \"east_pb\", \"south_pb\", \"west_pb\"]"
   ]
  },
  {
   "cell_type": "code",
   "execution_count": null,
   "metadata": {
    "ExecuteTime": {
     "end_time": "2019-09-15T14:42:23.918515Z",
     "start_time": "2019-09-15T14:42:23.558721Z"
    }
   },
   "outputs": [],
   "source": [
    "lfp = nept.load_lfp(os.path.join(data_filepath, info.lfp_swr_filename))"
   ]
  },
  {
   "cell_type": "code",
   "execution_count": null,
   "metadata": {
    "ExecuteTime": {
     "end_time": "2019-09-15T14:42:23.926511Z",
     "start_time": "2019-09-15T14:42:23.922512Z"
    }
   },
   "outputs": [],
   "source": [
    "os.path.join(data_filepath, info.lfp_swr_filename)"
   ]
  },
  {
   "cell_type": "code",
   "execution_count": null,
   "metadata": {
    "ExecuteTime": {
     "end_time": "2019-09-15T14:42:24.000467Z",
     "start_time": "2019-09-15T14:42:23.928509Z"
    }
   },
   "outputs": [],
   "source": [
    "lfp_diff = np.diff(lfp.time)\n",
    "breaks = np.where(lfp_diff > 20)[0]\n",
    "print(len(breaks))"
   ]
  },
  {
   "cell_type": "code",
   "execution_count": null,
   "metadata": {
    "ExecuteTime": {
     "end_time": "2019-09-15T14:42:24.013461Z",
     "start_time": "2019-09-15T14:42:24.001467Z"
    }
   },
   "outputs": [],
   "source": [
    "recording_breaks = [lfp.time[0]]\n",
    "for pause in breaks:\n",
    "    recording_breaks.append(lfp.time[pause])\n",
    "    recording_breaks.append(lfp.time[pause+1])\n",
    "recording_breaks.append(np.max(lfp.time))"
   ]
  },
  {
   "cell_type": "code",
   "execution_count": null,
   "metadata": {
    "ExecuteTime": {
     "end_time": "2019-09-15T14:42:24.029451Z",
     "start_time": "2019-09-15T14:42:24.015459Z"
    }
   },
   "outputs": [],
   "source": [
    "starts = recording_breaks[::2]\n",
    "stops = recording_breaks[1::2]\n",
    "print(starts, stops)"
   ]
  },
  {
   "cell_type": "code",
   "execution_count": null,
   "metadata": {
    "ExecuteTime": {
     "end_time": "2019-09-15T14:42:24.041444Z",
     "start_time": "2019-09-15T14:42:24.031450Z"
    }
   },
   "outputs": [],
   "source": [
    "events[\"recording_start\"]"
   ]
  },
  {
   "cell_type": "code",
   "execution_count": null,
   "metadata": {
    "ExecuteTime": {
     "end_time": "2019-09-15T14:42:24.055436Z",
     "start_time": "2019-09-15T14:42:24.042443Z"
    }
   },
   "outputs": [],
   "source": [
    "events[\"recording_stop\"]"
   ]
  },
  {
   "cell_type": "code",
   "execution_count": null,
   "metadata": {
    "ExecuteTime": {
     "end_time": "2019-09-15T14:42:24.071427Z",
     "start_time": "2019-09-15T14:42:24.057435Z"
    }
   },
   "outputs": [],
   "source": [
    "for start, stop in zip(starts, stops):\n",
    "    print(str([math.ceil(start * 100.0) / 100.0]) + \", \" + str([math.floor(stop * 100.0) / 100.0]))"
   ]
  },
  {
   "cell_type": "code",
   "execution_count": null,
   "metadata": {
    "ExecuteTime": {
     "end_time": "2019-09-15T14:42:24.172370Z",
     "start_time": "2019-09-15T14:42:24.073426Z"
    }
   },
   "outputs": [],
   "source": [
    "1/0"
   ]
  },
  {
   "cell_type": "code",
   "execution_count": null,
   "metadata": {
    "ExecuteTime": {
     "end_time": "2019-09-15T14:42:30.887526Z",
     "start_time": "2019-09-15T14:42:27.337558Z"
    }
   },
   "outputs": [],
   "source": [
    "breaks_start = nept.find_nearest_indices(lfp.time, starts)\n",
    "breaks_stop = nept.find_nearest_indices(lfp.time, stops)\n",
    "\n",
    "plt.plot(lfp.time, lfp.data)\n",
    "for i in breaks_start:\n",
    "    plt.plot(lfp.time[i], lfp.data[i], \"r.\", ms=20)\n",
    "for j in breaks_stop:\n",
    "    plt.plot(lfp.time[j], lfp.data[j], \"g.\", ms=20)\n",
    "plt.show()"
   ]
  },
  {
   "cell_type": "code",
   "execution_count": null,
   "metadata": {
    "ExecuteTime": {
     "end_time": "2019-09-15T14:42:31.293293Z",
     "start_time": "2019-09-15T14:42:30.889524Z"
    }
   },
   "outputs": [],
   "source": [
    "position_filename = info.date+\"_VT1.nvt\"\n",
    "position = nept.load_position(os.path.join(data_filepath, position_filename), pxl_to_cm=[info.pxl_to_cm[\"x\"], info.pxl_to_cm[\"y\"]])"
   ]
  },
  {
   "cell_type": "code",
   "execution_count": null,
   "metadata": {
    "ExecuteTime": {
     "end_time": "2019-09-15T14:42:31.476189Z",
     "start_time": "2019-09-15T14:42:31.295292Z"
    }
   },
   "outputs": [],
   "source": [
    "phase = 'run1'\n",
    "sliced_position = position.time_slice(info.task_times[phase].start, info.task_times[phase].stop)\n",
    "\n",
    "plt.plot(sliced_position.x, sliced_position.y, \".\")\n",
    "plt.show()"
   ]
  },
  {
   "cell_type": "code",
   "execution_count": null,
   "metadata": {
    "ExecuteTime": {
     "end_time": "2019-09-15T14:42:40.840828Z",
     "start_time": "2019-09-15T14:42:40.665929Z"
    }
   },
   "outputs": [],
   "source": [
    "phase = 'run2'\n",
    "sliced_position = position.time_slice(info.task_times[phase].start, info.task_times[phase].stop)\n",
    "\n",
    "plt.plot(sliced_position.x, sliced_position.y, \".\")\n",
    "plt.show()"
   ]
  },
  {
   "cell_type": "code",
   "execution_count": null,
   "metadata": {
    "ExecuteTime": {
     "end_time": "2019-09-15T14:42:31.661082Z",
     "start_time": "2019-09-15T14:42:31.477188Z"
    }
   },
   "outputs": [],
   "source": [
    "plt.plot(sliced_position.x, sliced_position.time, \".\")\n",
    "plt.show()"
   ]
  },
  {
   "cell_type": "code",
   "execution_count": null,
   "metadata": {
    "ExecuteTime": {
     "end_time": "2019-09-15T14:42:31.849974Z",
     "start_time": "2019-09-15T14:42:31.662082Z"
    }
   },
   "outputs": [],
   "source": [
    "plt.plot(sliced_position.x[:50000], sliced_position.y[:50000], \".\")\n",
    "plt.show()"
   ]
  },
  {
   "cell_type": "code",
   "execution_count": null,
   "metadata": {},
   "outputs": [],
   "source": []
  },
  {
   "cell_type": "code",
   "execution_count": null,
   "metadata": {},
   "outputs": [],
   "source": []
  },
  {
   "cell_type": "code",
   "execution_count": null,
   "metadata": {
    "ExecuteTime": {
     "end_time": "2019-09-15T14:42:24.179366Z",
     "start_time": "2019-09-15T14:42:22.517Z"
    }
   },
   "outputs": [],
   "source": [
    "plt.plot(position.x, position.y, \".\")\n",
    "plt.show()"
   ]
  },
  {
   "cell_type": "code",
   "execution_count": null,
   "metadata": {
    "ExecuteTime": {
     "end_time": "2019-09-15T14:42:24.180365Z",
     "start_time": "2019-09-15T14:42:22.520Z"
    }
   },
   "outputs": [],
   "source": [
    "sliced_lfp = lfp.time_slice(info.task_times[\"rest2\"].start, info.task_times[\"rest2\"].stop)"
   ]
  },
  {
   "cell_type": "code",
   "execution_count": null,
   "metadata": {
    "ExecuteTime": {
     "end_time": "2019-09-15T14:42:24.181364Z",
     "start_time": "2019-09-15T14:42:22.523Z"
    }
   },
   "outputs": [],
   "source": [
    "# Find SWRs for the whole session\n",
    "z_thresh = 2.0\n",
    "power_thresh = 3.0\n",
    "merge_thresh = 0.02\n",
    "min_length = 0.05\n",
    "swrs = nept.detect_swr_hilbert(sliced_lfp, \n",
    "                               fs=info.fs, \n",
    "                               thresh=(140.0, 250.0), \n",
    "                               z_thresh=z_thresh,\n",
    "                               merge_thresh=merge_thresh, \n",
    "                               min_length=min_length)\n",
    "# swrs = nept.find_multi_in_epochs(spikes, swrs, min_involved=4)\n",
    "\n",
    "# rest_epochs = nept.rest_threshold(position, thresh=12., t_smooth=0.8)"
   ]
  },
  {
   "cell_type": "code",
   "execution_count": null,
   "metadata": {
    "ExecuteTime": {
     "end_time": "2019-09-15T14:42:24.182363Z",
     "start_time": "2019-09-15T14:42:22.526Z"
    },
    "scrolled": false
   },
   "outputs": [],
   "source": [
    "for i in range(10):\n",
    "    ok = sliced_lfp.time_slice(swrs.starts[i], swrs.stops[i])\n",
    "\n",
    "    buffer = 0.1\n",
    "    plt.plot(sliced_lfp.time, sliced_lfp.data)\n",
    "    plt.plot(ok.time, ok.data)\n",
    "    plt.xlim(ok.time[0]-buffer, ok.time[-1]+buffer)\n",
    "    plt.show()"
   ]
  },
  {
   "cell_type": "code",
   "execution_count": null,
   "metadata": {},
   "outputs": [],
   "source": []
  },
  {
   "cell_type": "code",
   "execution_count": null,
   "metadata": {},
   "outputs": [],
   "source": []
  },
  {
   "cell_type": "code",
   "execution_count": null,
   "metadata": {
    "ExecuteTime": {
     "end_time": "2019-09-15T14:42:24.183363Z",
     "start_time": "2019-09-15T14:42:22.541Z"
    }
   },
   "outputs": [],
   "source": [
    "spikes = nept.load_spikes(data_filepath)"
   ]
  },
  {
   "cell_type": "code",
   "execution_count": null,
   "metadata": {
    "ExecuteTime": {
     "end_time": "2019-09-15T14:42:24.184362Z",
     "start_time": "2019-09-15T14:42:22.546Z"
    }
   },
   "outputs": [],
   "source": [
    "n_rows = len(spikes)\n",
    "add_rows = int(n_rows / 8)\n",
    "\n",
    "ms = 300 / n_rows\n",
    "mew = 0.5\n",
    "spike_loc = 1\n",
    "\n",
    "fig = plt.figure(figsize=(8, 8))\n",
    "\n",
    "ax = plt.subplot()\n",
    "for idx, neuron_spikes in enumerate(spikes):\n",
    "    ax.plot(neuron_spikes.time, np.ones(len(neuron_spikes.time)) + (idx * spike_loc), '|', color='k', ms=ms, mew=mew)\n",
    "\n",
    "ax.axis('off')\n",
    "plt.show()"
   ]
  },
  {
   "cell_type": "code",
   "execution_count": null,
   "metadata": {
    "ExecuteTime": {
     "end_time": "2019-09-15T14:42:24.185362Z",
     "start_time": "2019-09-15T14:42:22.550Z"
    }
   },
   "outputs": [],
   "source": [
    "def get_only_tuning_curves(info, position, spikes, epoch_of_interest):\n",
    "    sliced_position = position.time_slice(epoch_of_interest.starts, epoch_of_interest.stops)\n",
    "    sliced_spikes = [spiketrain.time_slice(epoch_of_interest.starts, epoch_of_interest.stops) for spiketrain in spikes]\n",
    "\n",
    "    # Limit position and spikes to only running times\n",
    "    run_epoch = nept.run_threshold(sliced_position, thresh=10., t_smooth=0.8)\n",
    "    run_position = sliced_position[run_epoch]\n",
    "    tuning_spikes = [spiketrain.time_slice(run_epoch.starts, run_epoch.stops) for spiketrain in sliced_spikes]\n",
    "\n",
    "    tuning_curves = nept.tuning_curve_2d(run_position, tuning_spikes, info.xedges, info.yedges,\n",
    "                                         occupied_thresh=0.5, gaussian_std=0.3)\n",
    "\n",
    "    return tuning_curves"
   ]
  },
  {
   "cell_type": "code",
   "execution_count": null,
   "metadata": {
    "ExecuteTime": {
     "end_time": "2019-09-15T14:42:24.186361Z",
     "start_time": "2019-09-15T14:42:22.554Z"
    }
   },
   "outputs": [],
   "source": [
    "np.where(np.diff(lfp.time) > 1)"
   ]
  },
  {
   "cell_type": "code",
   "execution_count": null,
   "metadata": {
    "ExecuteTime": {
     "end_time": "2019-09-15T14:42:24.187361Z",
     "start_time": "2019-09-15T14:42:22.558Z"
    }
   },
   "outputs": [],
   "source": [
    "tmaze_times = nept.Epoch(lfp.time[635231], lfp.time[5692603])"
   ]
  },
  {
   "cell_type": "code",
   "execution_count": null,
   "metadata": {
    "ExecuteTime": {
     "end_time": "2019-09-15T14:42:24.188360Z",
     "start_time": "2019-09-15T14:42:22.561Z"
    }
   },
   "outputs": [],
   "source": [
    "tuning_curves = get_only_tuning_curves(info, position, spikes, tmaze_times)"
   ]
  },
  {
   "cell_type": "code",
   "execution_count": null,
   "metadata": {
    "ExecuteTime": {
     "end_time": "2019-09-15T14:42:24.190359Z",
     "start_time": "2019-09-15T14:42:22.564Z"
    },
    "scrolled": false
   },
   "outputs": [],
   "source": [
    "xx, yy = np.meshgrid(info.xedges, info.yedges)\n",
    "\n",
    "cmap = plt.cm.get_cmap('bone_r', 25)\n",
    "\n",
    "for tuning_curve in tuning_curves:\n",
    "    plt.figure(figsize=(6, 5))\n",
    "    plt.plot(position.x, position.y, \".\", alpha=0.1, ms=0.3, color=\"y\")\n",
    "    pp = plt.pcolormesh(xx, yy, tuning_curve, vmin=0.01, cmap=cmap)\n",
    "    plt.colorbar(pp)\n",
    "    plt.axis('off')\n",
    "    plt.tight_layout()\n",
    "    plt.show()"
   ]
  },
  {
   "cell_type": "code",
   "execution_count": null,
   "metadata": {},
   "outputs": [],
   "source": []
  }
 ],
 "metadata": {
  "kernelspec": {
   "display_name": "Python 3",
   "language": "python",
   "name": "python3"
  },
  "language_info": {
   "codemirror_mode": {
    "name": "ipython",
    "version": 3
   },
   "file_extension": ".py",
   "mimetype": "text/x-python",
   "name": "python",
   "nbconvert_exporter": "python",
   "pygments_lexer": "ipython3",
   "version": "3.6.5"
  },
  "toc": {
   "colors": {
    "hover_highlight": "#DAA520",
    "running_highlight": "#FF0000",
    "selected_highlight": "#FFD700"
   },
   "moveMenuLeft": true,
   "nav_menu": {
    "height": "12px",
    "width": "252px"
   },
   "navigate_menu": true,
   "number_sections": true,
   "sideBar": true,
   "threshold": 4,
   "toc_cell": false,
   "toc_section_display": "block",
   "toc_window_display": false
  }
 },
 "nbformat": 4,
 "nbformat_minor": 2
}
