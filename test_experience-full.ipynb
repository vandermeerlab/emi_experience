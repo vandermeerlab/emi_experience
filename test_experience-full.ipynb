{
 "cells": [
  {
   "cell_type": "code",
   "execution_count": 1,
   "metadata": {
    "ExecuteTime": {
     "end_time": "2019-08-06T18:29:44.056827Z",
     "start_time": "2019-08-06T18:29:40.970720Z"
    }
   },
   "outputs": [],
   "source": [
    "%matplotlib inline\n",
    "import matplotlib.pyplot as plt\n",
    "import numpy as np\n",
    "import os\n",
    "import nept"
   ]
  },
  {
   "cell_type": "code",
   "execution_count": 2,
   "metadata": {
    "ExecuteTime": {
     "end_time": "2019-08-06T18:29:44.066768Z",
     "start_time": "2019-08-06T18:29:44.060798Z"
    }
   },
   "outputs": [],
   "source": [
    "thisdir = os.getcwd()\n",
    "data_filepath = os.path.join(thisdir, \"cache\", \"data\")\n",
    "output_filepath = os.path.join(thisdir, \"plots\")\n",
    "if not os.path.exists(output_filepath):\n",
    "    os.makedirs(output_filepath)"
   ]
  },
  {
   "cell_type": "code",
   "execution_count": 16,
   "metadata": {
    "ExecuteTime": {
     "end_time": "2019-08-06T18:32:04.930766Z",
     "start_time": "2019-08-06T18:32:04.926767Z"
    }
   },
   "outputs": [],
   "source": [
    "event_filepath = os.path.join(data_filepath, \"RR1_2019-05-31_test\", \"2019-05-31_Events.nev\")"
   ]
  },
  {
   "cell_type": "code",
   "execution_count": 17,
   "metadata": {
    "ExecuteTime": {
     "end_time": "2019-08-06T18:32:05.250809Z",
     "start_time": "2019-08-06T18:32:05.246811Z"
    }
   },
   "outputs": [
    {
     "data": {
      "text/plain": [
       "'E:\\\\code\\\\emi_experience\\\\cache\\\\data\\\\RR1_2019-05-31_test\\\\2019-05-31_Events.nev'"
      ]
     },
     "execution_count": 17,
     "metadata": {},
     "output_type": "execute_result"
    }
   ],
   "source": [
    "event_filepath"
   ]
  },
  {
   "cell_type": "code",
   "execution_count": 18,
   "metadata": {
    "ExecuteTime": {
     "end_time": "2019-08-06T18:32:08.929975Z",
     "start_time": "2019-08-06T18:32:08.918981Z"
    }
   },
   "outputs": [],
   "source": [
    "evts = nept.load_nev(event_filepath)"
   ]
  },
  {
   "cell_type": "code",
   "execution_count": 19,
   "metadata": {
    "ExecuteTime": {
     "end_time": "2019-08-06T18:32:09.667162Z",
     "start_time": "2019-08-06T18:32:09.663182Z"
    }
   },
   "outputs": [],
   "source": [
    "evt_labels = []\n",
    "for tt in evts:\n",
    "    evt_labels.append(tt[-1])"
   ]
  },
  {
   "cell_type": "code",
   "execution_count": 20,
   "metadata": {
    "ExecuteTime": {
     "end_time": "2019-08-06T18:32:10.291212Z",
     "start_time": "2019-08-06T18:32:10.286234Z"
    }
   },
   "outputs": [
    {
     "data": {
      "text/plain": [
       "array([b'NOT firing feeder EastFeeder', b'NOT firing feeder NorthFeeder',\n",
       "       b'NOT firing feeder SouthFeeder', b'NOT firing feeder WestFeeder',\n",
       "       b'Starting Recording', b'Stopping Recording',\n",
       "       b'TTL Input on AcqSystem1_0 board 0 port 1 value (0x0000).',\n",
       "       b'TTL Input on AcqSystem1_0 board 0 port 1 value (0x0001).',\n",
       "       b'TTL Input on AcqSystem1_0 board 0 port 1 value (0x0002).',\n",
       "       b'TTL Input on AcqSystem1_0 board 0 port 1 value (0x0004).',\n",
       "       b'TTL Input on AcqSystem1_0 board 0 port 1 value (0x0008).',\n",
       "       b'TTL Input on AcqSystem1_0 board 0 port 1 value (0x0010).',\n",
       "       b'TTL Input on AcqSystem1_0 board 0 port 1 value (0x0020).',\n",
       "       b'TTL Input on AcqSystem1_0 board 0 port 1 value (0x0040).',\n",
       "       b'TTL Input on AcqSystem1_0 board 0 port 1 value (0x0080).',\n",
       "       b'TTL Input on AcqSystem1_0 board 0 port 1 value (0x00C0).',\n",
       "       b'TTL Output on AcqSystem1_0 board 0 port 2 value (0x0000).',\n",
       "       b'TTL Output on AcqSystem1_0 board 0 port 2 value (0x0001).',\n",
       "       b'TTL Output on AcqSystem1_0 board 0 port 2 value (0x0004).',\n",
       "       b'TTL Output on AcqSystem1_0 board 0 port 2 value (0x0008).',\n",
       "       b'TTL Output on AcqSystem1_0 board 0 port 2 value (0x0010).',\n",
       "       b'entering approach state', b'entering return state',\n",
       "       b'firing feeder EastFeeder', b'firing feeder NorthFeeder',\n",
       "       b'firing feeder SouthFeeder', b'firing feeder WestFeeder',\n",
       "       b'photobeam EastEndPB', b'photobeam EastStartPB',\n",
       "       b'photobeam NorthEndPB', b'photobeam NorthStartPB',\n",
       "       b'photobeam SouthEndPB', b'photobeam SouthStartPB',\n",
       "       b'photobeam WestEndPB', b'photobeam WestStartPB', b'probe trial',\n",
       "       b'tone on', b'trial end', b'trial start'], dtype='|S60')"
      ]
     },
     "execution_count": 20,
     "metadata": {},
     "output_type": "execute_result"
    }
   ],
   "source": [
    "np.unique(evt_labels)"
   ]
  },
  {
   "cell_type": "code",
   "execution_count": null,
   "metadata": {},
   "outputs": [],
   "source": []
  },
  {
   "cell_type": "code",
   "execution_count": 21,
   "metadata": {
    "ExecuteTime": {
     "end_time": "2019-08-06T18:32:11.743076Z",
     "start_time": "2019-08-06T18:32:11.734062Z"
    }
   },
   "outputs": [],
   "source": [
    "event_labels = dict(north_feeder='TTL Output on AcqSystem1_0 board 0 port 2 value (0x0001).',\n",
    "                    north_feeder_not='NOT firing feeder NorthFeeder',\n",
    "                    north_start_pb='TTL Input on AcqSystem1_0 board 0 port 1 value (0x0001).',\n",
    "                    north_end_pb='TTL Input on AcqSystem1_0 board 0 port 1 value (0x0002).',\n",
    "                    east_feeder='TTL Output on AcqSystem1_0 board 0 port 2 value (0x0004).',\n",
    "                    east_feeder_not='NOT firing feeder EastFeeder',\n",
    "                    east_start_pb='TTL Input on AcqSystem1_0 board 0 port 1 value (0x0004).',\n",
    "                    east_end_pb='TTL Input on AcqSystem1_0 board 0 port 1 value (0x0008).',\n",
    "                    south_feeder='TTL Output on AcqSystem1_0 board 0 port 2 value (0x0008).',\n",
    "                    south_feeder_not='NOT firing feeder SouthFeeder',\n",
    "                    south_start_pb='TTL Input on AcqSystem1_0 board 0 port 1 value (0x0010).',\n",
    "                    south_end_pb='TTL Input on AcqSystem1_0 board 0 port 1 value (0x0020).',\n",
    "                    west_feeder='TTL Output on AcqSystem1_0 board 0 port 2 value (0x0010).',\n",
    "                    west_feeder_not='NOT firing feeder WestFeeder',\n",
    "                    west_start_pb='TTL Input on AcqSystem1_0 board 0 port 1 value (0x0040).',\n",
    "                    west_end_pb='TTL Input on AcqSystem1_0 board 0 port 1 value (0x0080).',\n",
    "                    trial_start='trial start',\n",
    "                    trial_end='trial end',\n",
    "                    tone_on=\"tone on\")"
   ]
  },
  {
   "cell_type": "code",
   "execution_count": 22,
   "metadata": {
    "ExecuteTime": {
     "end_time": "2019-08-06T18:32:24.087843Z",
     "start_time": "2019-08-06T18:32:24.078850Z"
    }
   },
   "outputs": [],
   "source": [
    "events = nept.load_events(os.path.join(data_filepath, event_filepath), event_labels)"
   ]
  },
  {
   "cell_type": "code",
   "execution_count": 23,
   "metadata": {
    "ExecuteTime": {
     "end_time": "2019-08-06T18:32:24.760684Z",
     "start_time": "2019-08-06T18:32:24.750671Z"
    },
    "scrolled": true
   },
   "outputs": [
    {
     "data": {
      "text/plain": [
       "{'north_feeder': array([1670.551103, 1694.873478, 1732.94401 , 1841.257603]),\n",
       " 'north_feeder_not': array([1469.05233 , 1649.154591, 1714.077125, 1775.021009, 1797.321573]),\n",
       " 'north_start_pb': array([1466.135853, 1646.150853, 1666.947916, 1692.067947, 1699.444353,\n",
       "        1712.192635, 1719.714416, 1730.804666, 1738.16101 , 1770.761166,\n",
       "        1793.402541, 1801.110791, 1837.019416]),\n",
       " 'north_end_pb': array([1469.000791, 1649.113947, 1649.985822, 1650.018947, 1670.20976 ,\n",
       "        1694.529541, 1694.751978, 1714.047072, 1732.627947, 1775.017353,\n",
       "        1775.436228, 1797.317916, 1797.871666, 1840.954978, 1841.664228]),\n",
       " 'east_feeder': array([1683.137853, 1761.922541]),\n",
       " 'east_feeder_not': array([1594.489484]),\n",
       " 'east_start_pb': array([1588.26426 , 1598.982916, 1677.779728, 1686.864635, 1758.040103,\n",
       "        1768.426635]),\n",
       " 'east_end_pb': array([1594.440291, 1682.815541, 1761.61676 , 1763.580791, 1765.001916]),\n",
       " 'south_feeder': array([1561.015916, 1606.656353, 1630.407947, 1818.627603]),\n",
       " 'south_feeder_not': array([1495.971611, 1518.971352, 1539.424793, 1580.822011, 1751.926314]),\n",
       " 'south_start_pb': array([1490.714728, 1501.637135, 1501.796697, 1514.59526 , 1523.436822,\n",
       "        1535.764947, 1543.58901 , 1557.607697, 1564.12126 , 1577.43926 ,\n",
       "        1584.492197, 1584.600072, 1602.374041, 1610.327041, 1626.410447,\n",
       "        1634.385166, 1749.155822, 1754.996666, 1815.200791, 1822.457447]),\n",
       " 'south_end_pb': array([1495.928353, 1518.923541, 1539.422666, 1560.721603, 1580.819822,\n",
       "        1581.136228, 1606.314978, 1630.094822, 1751.887072, 1818.279228]),\n",
       " 'west_feeder': array([1457.708978, 1483.39301 , 1529.794447, 1550.902447, 1621.185635,\n",
       "        1705.858103, 1743.898603]),\n",
       " 'west_feeder_not': array([1507.381838, 1570.727352, 1640.030863, 1659.822549, 1724.780872,\n",
       "        1785.857889, 1808.581183, 1826.911686]),\n",
       " 'west_start_pb': array([1453.498791, 1462.116572, 1479.222603, 1503.71076 , 1511.230228,\n",
       "        1525.492978, 1532.93001 , 1546.709197, 1554.423166, 1566.455353,\n",
       "        1566.623791, 1574.865135, 1616.553478, 1624.262541, 1636.306197,\n",
       "        1643.432041, 1656.282041, 1656.42776 , 1663.233135, 1701.975447,\n",
       "        1709.847041, 1722.107166, 1728.596603, 1740.547447, 1746.504353,\n",
       "        1746.766447, 1782.898697, 1805.327197, 1812.960853, 1824.339228,\n",
       "        1832.277353, 1832.549478, 1885.501416, 1887.775947, 1888.250385]),\n",
       " 'west_end_pb': array([1457.337322, 1483.139385, 1507.331478, 1529.415728, 1550.576572,\n",
       "        1570.68176 , 1620.882603, 1639.977072, 1659.764791, 1705.554885,\n",
       "        1705.673603, 1724.741572, 1743.603228, 1785.803728, 1808.577322,\n",
       "        1826.886041, 1827.10826 , 1886.190478]),\n",
       " 'trial_start': array([1458.049104, 1469.376252, 1483.694283, 1496.330142, 1507.764615,\n",
       "        1519.301322, 1530.093723, 1539.776727, 1551.211768, 1561.315412,\n",
       "        1571.085775, 1581.202584, 1594.822107, 1606.951921, 1621.506409,\n",
       "        1630.723323, 1640.348666, 1649.487776, 1660.151048, 1670.8621  ,\n",
       "        1683.428111, 1695.176265, 1706.164049, 1714.392111, 1725.102422,\n",
       "        1733.23398 , 1744.194447, 1752.258293, 1762.210602, 1775.371777,\n",
       "        1786.177734, 1797.68333 , 1808.919665, 1818.888341, 1827.21707 ,\n",
       "        1882.487333]),\n",
       " 'trial_end': array([1457.78155 , 1469.14936 , 1483.465815, 1496.101313, 1507.476539,\n",
       "        1519.072862, 1529.866815, 1539.54835 , 1550.983265, 1561.088278,\n",
       "        1570.859331, 1580.966395, 1594.594568, 1606.726461, 1621.276356,\n",
       "        1630.498643, 1640.101251, 1649.248988, 1659.920412, 1670.635704,\n",
       "        1683.19995 , 1694.946339, 1705.935352, 1714.167492, 1724.876159,\n",
       "        1733.009785, 1743.965569, 1752.031425, 1761.985674, 1775.146571,\n",
       "        1785.954599, 1797.459255, 1808.694225, 1818.663998, 1826.992096,\n",
       "        1841.327429]),\n",
       " 'tone_on': array([1453.614126, 1479.27961 , 1490.77507 , 1525.592295, 1546.76933 ,\n",
       "        1557.682646, 1602.454833, 1616.642877, 1667.026788, 1677.849965,\n",
       "        1692.143042, 1702.047226, 1730.884439, 1740.59837 , 1749.231053,\n",
       "        1758.11693 , 1837.095405])}"
      ]
     },
     "execution_count": 23,
     "metadata": {},
     "output_type": "execute_result"
    }
   ],
   "source": [
    "events"
   ]
  },
  {
   "cell_type": "code",
   "execution_count": 24,
   "metadata": {
    "ExecuteTime": {
     "end_time": "2019-08-06T18:32:25.363090Z",
     "start_time": "2019-08-06T18:32:25.358093Z"
    }
   },
   "outputs": [],
   "source": [
    "feeders = [\"north_feeder\", \"east_feeder\", \"south_feeder\", \"west_feeder\"]\n",
    "photobeams = [\"north_start_pb\", \"north_end_pb\", \"east_start_pb\", \"east_end_pb\", \n",
    "              \"south_start_pb\", \"south_end_pb\", \"west_start_pb\", \"west_end_pb\"]"
   ]
  },
  {
   "cell_type": "code",
   "execution_count": 25,
   "metadata": {
    "ExecuteTime": {
     "end_time": "2019-08-06T18:32:26.192739Z",
     "start_time": "2019-08-06T18:32:25.894778Z"
    }
   },
   "outputs": [
    {
     "data": {
      "image/png": "[encoded data removed]",
      "text/plain": [
       "<Figure size 432x288 with 1 Axes>"
      ]
     },
     "metadata": {},
     "output_type": "display_data"
    }
   ],
   "source": [
    "fig, ax = plt.subplots()\n",
    "legend = []\n",
    "for feeder in feeders:\n",
    "    plt.plot(events[feeder], np.ones(len(events[feeder])), \"|\", ms=10, mew=3)\n",
    "    legend.append(feeder)\n",
    "    \n",
    "for photobeam in photobeams:\n",
    "    plt.plot(events[photobeam], np.ones(len(events[photobeam]))+0.1, \"|\", ms=10, mew=1)\n",
    "#     legend.append(photobeam)\n",
    "    \n",
    "ax.axes.get_yaxis().set_visible(False)\n",
    "ax.spines['top'].set_visible(False)\n",
    "plt.xlabel(\"time (s)\")\n",
    "plt.legend(legend)\n",
    "plt.title(\"Test T-maze\")\n",
    "plt.ylim(0.5, 1.5)\n",
    "\n",
    "plt.show()"
   ]
  },
  {
   "cell_type": "code",
   "execution_count": 26,
   "metadata": {
    "ExecuteTime": {
     "end_time": "2019-08-06T18:32:26.324689Z",
     "start_time": "2019-08-06T18:32:26.317675Z"
    }
   },
   "outputs": [
    {
     "data": {
      "text/plain": [
       "(36, 36)"
      ]
     },
     "execution_count": 26,
     "metadata": {},
     "output_type": "execute_result"
    }
   ],
   "source": [
    "len(np.unique(events[\"trial_start\"])), len(np.unique(events[\"trial_end\"]))"
   ]
  },
  {
   "cell_type": "code",
   "execution_count": 27,
   "metadata": {
    "ExecuteTime": {
     "end_time": "2019-08-06T18:32:27.642708Z",
     "start_time": "2019-08-06T18:32:27.606782Z"
    }
   },
   "outputs": [
    {
     "ename": "ValueError",
     "evalue": "start must be less than stop",
     "output_type": "error",
     "traceback": [
      "\u001b[1;31m---------------------------------------------------------------------------\u001b[0m",
      "\u001b[1;31mValueError\u001b[0m                                Traceback (most recent call last)",
      "\u001b[1;32m<ipython-input-27-3a9096b3a895>\u001b[0m in \u001b[0;36m<module>\u001b[1;34m()\u001b[0m\n\u001b[1;32m----> 1\u001b[1;33m \u001b[0mtrials\u001b[0m \u001b[1;33m=\u001b[0m \u001b[0mnept\u001b[0m\u001b[1;33m.\u001b[0m\u001b[0mEpoch\u001b[0m\u001b[1;33m(\u001b[0m\u001b[0mevents\u001b[0m\u001b[1;33m[\u001b[0m\u001b[1;34m\"trial_start\"\u001b[0m\u001b[1;33m]\u001b[0m\u001b[1;33m,\u001b[0m \u001b[0mevents\u001b[0m\u001b[1;33m[\u001b[0m\u001b[1;34m\"trial_end\"\u001b[0m\u001b[1;33m]\u001b[0m\u001b[1;33m)\u001b[0m\u001b[1;33m\u001b[0m\u001b[0m\n\u001b[0m",
      "\u001b[1;32me:\\code\\nept\\nept\\core\\epoch.py\u001b[0m in \u001b[0;36m__init__\u001b[1;34m(self, starts, stops)\u001b[0m\n\u001b[0;32m     30\u001b[0m \u001b[1;33m\u001b[0m\u001b[0m\n\u001b[0;32m     31\u001b[0m         \u001b[1;32mif\u001b[0m \u001b[0mnp\u001b[0m\u001b[1;33m.\u001b[0m\u001b[0many\u001b[0m\u001b[1;33m(\u001b[0m\u001b[0mstops\u001b[0m \u001b[1;33m-\u001b[0m \u001b[0mstarts\u001b[0m \u001b[1;33m<=\u001b[0m \u001b[1;36m0\u001b[0m\u001b[1;33m)\u001b[0m\u001b[1;33m:\u001b[0m\u001b[1;33m\u001b[0m\u001b[0m\n\u001b[1;32m---> 32\u001b[1;33m             \u001b[1;32mraise\u001b[0m \u001b[0mValueError\u001b[0m\u001b[1;33m(\u001b[0m\u001b[1;34m\"start must be less than stop\"\u001b[0m\u001b[1;33m)\u001b[0m\u001b[1;33m\u001b[0m\u001b[0m\n\u001b[0m\u001b[0;32m     33\u001b[0m \u001b[1;33m\u001b[0m\u001b[0m\n\u001b[0;32m     34\u001b[0m         \u001b[0msort_idx\u001b[0m \u001b[1;33m=\u001b[0m \u001b[0mnp\u001b[0m\u001b[1;33m.\u001b[0m\u001b[0margsort\u001b[0m\u001b[1;33m(\u001b[0m\u001b[0mstarts\u001b[0m\u001b[1;33m)\u001b[0m\u001b[1;33m\u001b[0m\u001b[0m\n",
      "\u001b[1;31mValueError\u001b[0m: start must be less than stop"
     ]
    }
   ],
   "source": [
    "trials = nept.Epoch(events[\"trial_start\"], events[\"trial_end\"])"
   ]
  },
  {
   "cell_type": "code",
   "execution_count": 28,
   "metadata": {
    "ExecuteTime": {
     "end_time": "2019-08-06T18:32:30.031734Z",
     "start_time": "2019-08-06T18:32:30.022740Z"
    }
   },
   "outputs": [
    {
     "ename": "NameError",
     "evalue": "name 'trials' is not defined",
     "output_type": "error",
     "traceback": [
      "\u001b[1;31m---------------------------------------------------------------------------\u001b[0m",
      "\u001b[1;31mNameError\u001b[0m                                 Traceback (most recent call last)",
      "\u001b[1;32m<ipython-input-28-9e5f06f8da3b>\u001b[0m in \u001b[0;36m<module>\u001b[1;34m()\u001b[0m\n\u001b[1;32m----> 1\u001b[1;33m \u001b[0mtrials\u001b[0m\u001b[1;33m\u001b[0m\u001b[0m\n\u001b[0m",
      "\u001b[1;31mNameError\u001b[0m: name 'trials' is not defined"
     ]
    }
   ],
   "source": [
    "trials"
   ]
  },
  {
   "cell_type": "code",
   "execution_count": 29,
   "metadata": {
    "ExecuteTime": {
     "end_time": "2019-08-06T18:32:30.986976Z",
     "start_time": "2019-08-06T18:32:30.981997Z"
    }
   },
   "outputs": [
    {
     "data": {
      "text/plain": [
       "array([1466.135853, 1646.150853, 1666.947916, 1692.067947, 1699.444353,\n",
       "       1712.192635, 1719.714416, 1730.804666, 1738.16101 , 1770.761166,\n",
       "       1793.402541, 1801.110791, 1837.019416])"
      ]
     },
     "execution_count": 29,
     "metadata": {},
     "output_type": "execute_result"
    }
   ],
   "source": [
    "events[\"north_start_pb\"]"
   ]
  },
  {
   "cell_type": "code",
   "execution_count": 30,
   "metadata": {
    "ExecuteTime": {
     "end_time": "2019-08-06T18:32:31.576364Z",
     "start_time": "2019-08-06T18:32:31.566389Z"
    }
   },
   "outputs": [
    {
     "ename": "NameError",
     "evalue": "name 'trials' is not defined",
     "output_type": "error",
     "traceback": [
      "\u001b[1;31m---------------------------------------------------------------------------\u001b[0m",
      "\u001b[1;31mNameError\u001b[0m                                 Traceback (most recent call last)",
      "\u001b[1;32m<ipython-input-30-a8324e96a942>\u001b[0m in \u001b[0;36m<module>\u001b[1;34m()\u001b[0m\n\u001b[0;32m      1\u001b[0m \u001b[0mstarts\u001b[0m \u001b[1;33m=\u001b[0m \u001b[1;33m[\u001b[0m\u001b[1;33m]\u001b[0m\u001b[1;33m\u001b[0m\u001b[0m\n\u001b[1;32m----> 2\u001b[1;33m \u001b[1;32mfor\u001b[0m \u001b[0mtrial\u001b[0m \u001b[1;32min\u001b[0m \u001b[0mtrials\u001b[0m\u001b[1;33m:\u001b[0m\u001b[1;33m\u001b[0m\u001b[0m\n\u001b[0m\u001b[0;32m      3\u001b[0m     \u001b[0mok\u001b[0m \u001b[1;33m=\u001b[0m \u001b[0mevents\u001b[0m\u001b[1;33m[\u001b[0m\u001b[1;34m\"north_start_pb\"\u001b[0m\u001b[1;33m]\u001b[0m\u001b[1;33m[\u001b[0m\u001b[1;33m(\u001b[0m\u001b[0mtrial\u001b[0m\u001b[1;33m.\u001b[0m\u001b[0mstart\u001b[0m \u001b[1;33m-\u001b[0m \u001b[0mevents\u001b[0m\u001b[1;33m[\u001b[0m\u001b[1;34m\"north_start_pb\"\u001b[0m\u001b[1;33m]\u001b[0m\u001b[1;33m)\u001b[0m\u001b[1;33m.\u001b[0m\u001b[0margmin\u001b[0m\u001b[1;33m(\u001b[0m\u001b[1;33m)\u001b[0m\u001b[1;33m]\u001b[0m\u001b[1;33m\u001b[0m\u001b[0m\n\u001b[0;32m      4\u001b[0m \u001b[1;33m\u001b[0m\u001b[0m\n\u001b[0;32m      5\u001b[0m     \u001b[0mprint\u001b[0m\u001b[1;33m(\u001b[0m\u001b[0mok\u001b[0m\u001b[1;33m,\u001b[0m \u001b[0mtrial\u001b[0m\u001b[1;33m.\u001b[0m\u001b[0mstart\u001b[0m\u001b[1;33m)\u001b[0m\u001b[1;33m\u001b[0m\u001b[0m\n",
      "\u001b[1;31mNameError\u001b[0m: name 'trials' is not defined"
     ]
    }
   ],
   "source": [
    "starts = []\n",
    "for trial in trials:\n",
    "    ok = events[\"north_start_pb\"][(trial.start - events[\"north_start_pb\"]).argmin()]\n",
    "\n",
    "    print(ok, trial.start)"
   ]
  },
  {
   "cell_type": "code",
   "execution_count": 31,
   "metadata": {
    "ExecuteTime": {
     "end_time": "2019-08-06T18:32:31.832962Z",
     "start_time": "2019-08-06T18:32:31.821969Z"
    }
   },
   "outputs": [
    {
     "ename": "ValueError",
     "evalue": "must have the same number of start and stop times",
     "output_type": "error",
     "traceback": [
      "\u001b[1;31m---------------------------------------------------------------------------\u001b[0m",
      "\u001b[1;31mValueError\u001b[0m                                Traceback (most recent call last)",
      "\u001b[1;32m<ipython-input-31-412e1f004ae5>\u001b[0m in \u001b[0;36m<module>\u001b[1;34m()\u001b[0m\n\u001b[1;32m----> 1\u001b[1;33m \u001b[0mnorth_trial\u001b[0m \u001b[1;33m=\u001b[0m \u001b[0mnept\u001b[0m\u001b[1;33m.\u001b[0m\u001b[0mEpoch\u001b[0m\u001b[1;33m(\u001b[0m\u001b[0mevents\u001b[0m\u001b[1;33m[\u001b[0m\u001b[1;34m\"north_start_pb\"\u001b[0m\u001b[1;33m]\u001b[0m\u001b[1;33m,\u001b[0m \u001b[0mevents\u001b[0m\u001b[1;33m[\u001b[0m\u001b[1;34m\"north_end_pb\"\u001b[0m\u001b[1;33m]\u001b[0m\u001b[1;33m)\u001b[0m\u001b[1;33m\u001b[0m\u001b[0m\n\u001b[0m",
      "\u001b[1;32me:\\code\\nept\\nept\\core\\epoch.py\u001b[0m in \u001b[0;36m__init__\u001b[1;34m(self, starts, stops)\u001b[0m\n\u001b[0;32m     24\u001b[0m \u001b[1;33m\u001b[0m\u001b[0m\n\u001b[0;32m     25\u001b[0m         \u001b[1;32mif\u001b[0m \u001b[0mstarts\u001b[0m\u001b[1;33m.\u001b[0m\u001b[0mshape\u001b[0m\u001b[1;33m[\u001b[0m\u001b[1;36m0\u001b[0m\u001b[1;33m]\u001b[0m \u001b[1;33m!=\u001b[0m \u001b[0mstops\u001b[0m\u001b[1;33m.\u001b[0m\u001b[0mshape\u001b[0m\u001b[1;33m[\u001b[0m\u001b[1;36m0\u001b[0m\u001b[1;33m]\u001b[0m\u001b[1;33m:\u001b[0m\u001b[1;33m\u001b[0m\u001b[0m\n\u001b[1;32m---> 26\u001b[1;33m             \u001b[1;32mraise\u001b[0m \u001b[0mValueError\u001b[0m\u001b[1;33m(\u001b[0m\u001b[1;34m\"must have the same number of start and stop times\"\u001b[0m\u001b[1;33m)\u001b[0m\u001b[1;33m\u001b[0m\u001b[0m\n\u001b[0m\u001b[0;32m     27\u001b[0m \u001b[1;33m\u001b[0m\u001b[0m\n\u001b[0;32m     28\u001b[0m         \u001b[1;32mif\u001b[0m \u001b[0mstarts\u001b[0m\u001b[1;33m.\u001b[0m\u001b[0mndim\u001b[0m \u001b[1;33m>\u001b[0m \u001b[1;36m1\u001b[0m \u001b[1;32mor\u001b[0m \u001b[0mstops\u001b[0m\u001b[1;33m.\u001b[0m\u001b[0mndim\u001b[0m \u001b[1;33m>\u001b[0m \u001b[1;36m1\u001b[0m\u001b[1;33m:\u001b[0m\u001b[1;33m\u001b[0m\u001b[0m\n",
      "\u001b[1;31mValueError\u001b[0m: must have the same number of start and stop times"
     ]
    }
   ],
   "source": [
    "north_trial = nept.Epoch(events[\"north_start_pb\"], events[\"north_end_pb\"])"
   ]
  },
  {
   "cell_type": "code",
   "execution_count": null,
   "metadata": {},
   "outputs": [],
   "source": []
  },
  {
   "cell_type": "code",
   "execution_count": null,
   "metadata": {},
   "outputs": [],
   "source": []
  },
  {
   "cell_type": "code",
   "execution_count": null,
   "metadata": {
    "ExecuteTime": {
     "end_time": "2019-03-13T19:14:48.227691Z",
     "start_time": "2019-03-13T19:14:48.135351Z"
    }
   },
   "outputs": [],
   "source": [
    "feeders = [\"north_feeder\"]\n",
    "photobeams = [\"north_start_pb\", \"north_end_pb\"]\n",
    "\n",
    "fig, ax = plt.subplots()\n",
    "legend = []\n",
    "for feeder in feeders:\n",
    "    plt.plot(events[feeder], np.ones(len(events[feeder])), \"|\", ms=20, mew=3)\n",
    "    legend.append(feeder)\n",
    "    \n",
    "for photobeam in photobeams:\n",
    "    plt.plot(events[photobeam], np.ones(len(events[photobeam])), \"|\", ms=10, mew=1)\n",
    "#     legend.append(photobeam)\n",
    "    \n",
    "ax.axes.get_yaxis().set_visible(False)\n",
    "ax.spines['top'].set_visible(False)\n",
    "plt.xlabel(\"time (s)\")\n",
    "plt.legend(legend)\n",
    "plt.title(\"Test T-maze\")\n",
    "plt.ylim(0.5, 1.5)\n",
    "\n",
    "plt.show()"
   ]
  },
  {
   "cell_type": "code",
   "execution_count": null,
   "metadata": {},
   "outputs": [],
   "source": []
  },
  {
   "cell_type": "code",
   "execution_count": null,
   "metadata": {},
   "outputs": [],
   "source": []
  }
 ],
 "metadata": {
  "kernelspec": {
   "display_name": "Python 3",
   "language": "python",
   "name": "python3"
  },
  "language_info": {
   "codemirror_mode": {
    "name": "ipython",
    "version": 3
   },
   "file_extension": ".py",
   "mimetype": "text/x-python",
   "name": "python",
   "nbconvert_exporter": "python",
   "pygments_lexer": "ipython3",
   "version": "3.6.5"
  },
  "toc": {
   "colors": {
    "hover_highlight": "#DAA520",
    "running_highlight": "#FF0000",
    "selected_highlight": "#FFD700"
   },
   "moveMenuLeft": true,
   "nav_menu": {
    "height": "12px",
    "width": "252px"
   },
   "navigate_menu": true,
   "number_sections": true,
   "sideBar": true,
   "threshold": 4,
   "toc_cell": false,
   "toc_section_display": "block",
   "toc_window_display": false
  }
 },
 "nbformat": 4,
 "nbformat_minor": 2
}
