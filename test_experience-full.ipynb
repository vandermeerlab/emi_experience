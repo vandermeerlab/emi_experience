{
 "cells": [
  {
   "cell_type": "code",
   "execution_count": null,
   "metadata": {
    "ExecuteTime": {
     "end_time": "2019-08-06T18:29:44.056827Z",
     "start_time": "2019-08-06T18:29:40.970720Z"
    },
    "collapsed": true
   },
   "outputs": [],
   "source": [
    "%matplotlib inline\n",
    "import matplotlib.pyplot as plt\n",
    "import numpy as np\n",
    "import os\n",
    "import nept"
   ]
  },
  {
   "cell_type": "code",
   "execution_count": null,
   "metadata": {
    "ExecuteTime": {
     "end_time": "2019-08-06T18:29:44.066768Z",
     "start_time": "2019-08-06T18:29:44.060798Z"
    },
    "collapsed": true
   },
   "outputs": [],
   "source": [
    "thisdir = os.getcwd()\n",
    "data_filepath = os.path.join(thisdir, \"cache\", \"data\")\n",
    "output_filepath = os.path.join(thisdir, \"plots\")\n",
    "if not os.path.exists(output_filepath):\n",
    "    os.makedirs(output_filepath)"
   ]
  },
  {
   "cell_type": "code",
   "execution_count": null,
   "metadata": {
    "ExecuteTime": {
     "end_time": "2019-08-06T18:32:04.930766Z",
     "start_time": "2019-08-06T18:32:04.926767Z"
    },
    "collapsed": true
   },
   "outputs": [],
   "source": [
    "event_filepath = os.path.join(data_filepath, \"RR1_2019-05-31_test\", \"2019-05-31_Events.nev\")"
   ]
  },
  {
   "cell_type": "code",
   "execution_count": null,
   "metadata": {
    "ExecuteTime": {
     "end_time": "2019-08-06T18:32:05.250809Z",
     "start_time": "2019-08-06T18:32:05.246811Z"
    }
   },
   "outputs": [],
   "source": [
    "event_filepath"
   ]
  },
  {
   "cell_type": "code",
   "execution_count": null,
   "metadata": {
    "ExecuteTime": {
     "end_time": "2019-08-06T18:32:08.929975Z",
     "start_time": "2019-08-06T18:32:08.918981Z"
    },
    "collapsed": true
   },
   "outputs": [],
   "source": [
    "evts = nept.load_nev(event_filepath)"
   ]
  },
  {
   "cell_type": "code",
   "execution_count": null,
   "metadata": {
    "ExecuteTime": {
     "end_time": "2019-08-06T18:32:09.667162Z",
     "start_time": "2019-08-06T18:32:09.663182Z"
    },
    "collapsed": true
   },
   "outputs": [],
   "source": [
    "evt_labels = []\n",
    "for tt in evts:\n",
    "    evt_labels.append(tt[-1])"
   ]
  },
  {
   "cell_type": "code",
   "execution_count": null,
   "metadata": {
    "ExecuteTime": {
     "end_time": "2019-08-06T18:32:10.291212Z",
     "start_time": "2019-08-06T18:32:10.286234Z"
    }
   },
   "outputs": [],
   "source": [
    "np.unique(evt_labels)"
   ]
  },
  {
   "cell_type": "code",
   "execution_count": null,
   "metadata": {
    "collapsed": true
   },
   "outputs": [],
   "source": []
  },
  {
   "cell_type": "code",
   "execution_count": null,
   "metadata": {
    "ExecuteTime": {
     "end_time": "2019-08-06T18:32:11.743076Z",
     "start_time": "2019-08-06T18:32:11.734062Z"
    },
    "collapsed": true
   },
   "outputs": [],
   "source": [
    "event_labels = dict(north_feeder='TTL Output on AcqSystem1_0 board 0 port 2 value (0x0001).',\n",
    "                    north_feeder_not='NOT firing feeder NorthFeeder',\n",
    "                    north_start_pb='TTL Input on AcqSystem1_0 board 0 port 1 value (0x0001).',\n",
    "                    north_end_pb='TTL Input on AcqSystem1_0 board 0 port 1 value (0x0002).',\n",
    "                    east_feeder='TTL Output on AcqSystem1_0 board 0 port 2 value (0x0004).',\n",
    "                    east_feeder_not='NOT firing feeder EastFeeder',\n",
    "                    east_start_pb='TTL Input on AcqSystem1_0 board 0 port 1 value (0x0004).',\n",
    "                    east_end_pb='TTL Input on AcqSystem1_0 board 0 port 1 value (0x0008).',\n",
    "                    south_feeder='TTL Output on AcqSystem1_0 board 0 port 2 value (0x0008).',\n",
    "                    south_feeder_not='NOT firing feeder SouthFeeder',\n",
    "                    south_start_pb='TTL Input on AcqSystem1_0 board 0 port 1 value (0x0010).',\n",
    "                    south_end_pb='TTL Input on AcqSystem1_0 board 0 port 1 value (0x0020).',\n",
    "                    west_feeder='TTL Output on AcqSystem1_0 board 0 port 2 value (0x0010).',\n",
    "                    west_feeder_not='NOT firing feeder WestFeeder',\n",
    "                    west_start_pb='TTL Input on AcqSystem1_0 board 0 port 1 value (0x0040).',\n",
    "                    west_end_pb='TTL Input on AcqSystem1_0 board 0 port 1 value (0x0080).',\n",
    "                    trial_start='trial start',\n",
    "                    trial_end='trial end',\n",
    "                    tone_on=\"tone on\")"
   ]
  },
  {
   "cell_type": "code",
   "execution_count": null,
   "metadata": {
    "ExecuteTime": {
     "end_time": "2019-08-06T18:32:24.087843Z",
     "start_time": "2019-08-06T18:32:24.078850Z"
    },
    "collapsed": true
   },
   "outputs": [],
   "source": [
    "events = nept.load_events(os.path.join(data_filepath, event_filepath), event_labels)"
   ]
  },
  {
   "cell_type": "code",
   "execution_count": null,
   "metadata": {
    "ExecuteTime": {
     "end_time": "2019-08-06T18:32:24.760684Z",
     "start_time": "2019-08-06T18:32:24.750671Z"
    },
    "scrolled": true
   },
   "outputs": [],
   "source": [
    "events"
   ]
  },
  {
   "cell_type": "code",
   "execution_count": null,
   "metadata": {
    "ExecuteTime": {
     "end_time": "2019-08-06T18:32:25.363090Z",
     "start_time": "2019-08-06T18:32:25.358093Z"
    },
    "collapsed": true
   },
   "outputs": [],
   "source": [
    "feeders = [\"north_feeder\", \"east_feeder\", \"south_feeder\", \"west_feeder\"]\n",
    "photobeams = [\"north_start_pb\", \"north_end_pb\", \"east_start_pb\", \"east_end_pb\", \n",
    "              \"south_start_pb\", \"south_end_pb\", \"west_start_pb\", \"west_end_pb\"]"
   ]
  },
  {
   "cell_type": "code",
   "execution_count": null,
   "metadata": {
    "ExecuteTime": {
     "end_time": "2019-08-06T18:32:26.192739Z",
     "start_time": "2019-08-06T18:32:25.894778Z"
    }
   },
   "outputs": [],
   "source": [
    "fig, ax = plt.subplots()\n",
    "legend = []\n",
    "for feeder in feeders:\n",
    "    plt.plot(events[feeder], np.ones(len(events[feeder])), \"|\", ms=10, mew=3)\n",
    "    legend.append(feeder)\n",
    "    \n",
    "for photobeam in photobeams:\n",
    "    plt.plot(events[photobeam], np.ones(len(events[photobeam]))+0.1, \"|\", ms=10, mew=1)\n",
    "#     legend.append(photobeam)\n",
    "    \n",
    "ax.axes.get_yaxis().set_visible(False)\n",
    "ax.spines['top'].set_visible(False)\n",
    "plt.xlabel(\"time (s)\")\n",
    "plt.legend(legend)\n",
    "plt.title(\"Test T-maze\")\n",
    "plt.ylim(0.5, 1.5)\n",
    "\n",
    "plt.show()"
   ]
  },
  {
   "cell_type": "code",
   "execution_count": null,
   "metadata": {
    "ExecuteTime": {
     "end_time": "2019-08-06T18:32:26.324689Z",
     "start_time": "2019-08-06T18:32:26.317675Z"
    }
   },
   "outputs": [],
   "source": [
    "len(np.unique(events[\"trial_start\"])), len(np.unique(events[\"trial_end\"]))"
   ]
  },
  {
   "cell_type": "code",
   "execution_count": null,
   "metadata": {
    "ExecuteTime": {
     "end_time": "2019-08-06T18:32:27.642708Z",
     "start_time": "2019-08-06T18:32:27.606782Z"
    }
   },
   "outputs": [],
   "source": [
    "trials = nept.Epoch(events[\"trial_start\"], events[\"trial_end\"])"
   ]
  },
  {
   "cell_type": "code",
   "execution_count": null,
   "metadata": {
    "ExecuteTime": {
     "end_time": "2019-08-06T18:32:30.031734Z",
     "start_time": "2019-08-06T18:32:30.022740Z"
    }
   },
   "outputs": [],
   "source": [
    "trials"
   ]
  },
  {
   "cell_type": "code",
   "execution_count": null,
   "metadata": {
    "ExecuteTime": {
     "end_time": "2019-08-06T18:32:30.986976Z",
     "start_time": "2019-08-06T18:32:30.981997Z"
    }
   },
   "outputs": [],
   "source": [
    "events[\"north_start_pb\"]"
   ]
  },
  {
   "cell_type": "code",
   "execution_count": null,
   "metadata": {
    "ExecuteTime": {
     "end_time": "2019-08-06T18:32:31.576364Z",
     "start_time": "2019-08-06T18:32:31.566389Z"
    }
   },
   "outputs": [],
   "source": [
    "starts = []\n",
    "for trial in trials:\n",
    "    ok = events[\"north_start_pb\"][(trial.start - events[\"north_start_pb\"]).argmin()]\n",
    "\n",
    "    print(ok, trial.start)"
   ]
  },
  {
   "cell_type": "code",
   "execution_count": null,
   "metadata": {
    "ExecuteTime": {
     "end_time": "2019-08-06T18:32:31.832962Z",
     "start_time": "2019-08-06T18:32:31.821969Z"
    }
   },
   "outputs": [],
   "source": [
    "north_trial = nept.Epoch(events[\"north_start_pb\"], events[\"north_end_pb\"])"
   ]
  },
  {
   "cell_type": "code",
   "execution_count": null,
   "metadata": {
    "collapsed": true
   },
   "outputs": [],
   "source": []
  },
  {
   "cell_type": "code",
   "execution_count": null,
   "metadata": {
    "collapsed": true
   },
   "outputs": [],
   "source": []
  },
  {
   "cell_type": "code",
   "execution_count": null,
   "metadata": {
    "ExecuteTime": {
     "end_time": "2019-03-13T19:14:48.227691Z",
     "start_time": "2019-03-13T19:14:48.135351Z"
    },
    "collapsed": true
   },
   "outputs": [],
   "source": [
    "feeders = [\"north_feeder\"]\n",
    "photobeams = [\"north_start_pb\", \"north_end_pb\"]\n",
    "\n",
    "fig, ax = plt.subplots()\n",
    "legend = []\n",
    "for feeder in feeders:\n",
    "    plt.plot(events[feeder], np.ones(len(events[feeder])), \"|\", ms=20, mew=3)\n",
    "    legend.append(feeder)\n",
    "    \n",
    "for photobeam in photobeams:\n",
    "    plt.plot(events[photobeam], np.ones(len(events[photobeam])), \"|\", ms=10, mew=1)\n",
    "#     legend.append(photobeam)\n",
    "    \n",
    "ax.axes.get_yaxis().set_visible(False)\n",
    "ax.spines['top'].set_visible(False)\n",
    "plt.xlabel(\"time (s)\")\n",
    "plt.legend(legend)\n",
    "plt.title(\"Test T-maze\")\n",
    "plt.ylim(0.5, 1.5)\n",
    "\n",
    "plt.show()"
   ]
  },
  {
   "cell_type": "code",
   "execution_count": null,
   "metadata": {
    "collapsed": true
   },
   "outputs": [],
   "source": []
  },
  {
   "cell_type": "code",
   "execution_count": null,
   "metadata": {
    "collapsed": true
   },
   "outputs": [],
   "source": []
  }
 ],
 "metadata": {
  "kernelspec": {
   "display_name": "Python 3",
   "language": "python",
   "name": "python3"
  },
  "language_info": {
   "codemirror_mode": {
    "name": "ipython",
    "version": 3
   },
   "file_extension": ".py",
   "mimetype": "text/x-python",
   "name": "python",
   "nbconvert_exporter": "python",
   "pygments_lexer": "ipython3",
   "version": "3.6.5"
  },
  "toc": {
   "colors": {
    "hover_highlight": "#DAA520",
    "running_highlight": "#FF0000",
    "selected_highlight": "#FFD700"
   },
   "moveMenuLeft": true,
   "nav_menu": {
    "height": "12px",
    "width": "252px"
   },
   "navigate_menu": true,
   "number_sections": true,
   "sideBar": true,
   "threshold": 4,
   "toc_cell": false,
   "toc_section_display": "block",
   "toc_window_display": false
  }
 },
 "nbformat": 4,
 "nbformat_minor": 2
}
