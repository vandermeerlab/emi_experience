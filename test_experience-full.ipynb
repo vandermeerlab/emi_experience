{
 "cells": [
  {
   "cell_type": "code",
   "execution_count": null,
   "metadata": {
    "ExecuteTime": {
     "end_time": "2019-02-15T20:43:26.180316Z",
     "start_time": "2019-02-15T20:43:25.465080Z"
    }
   },
   "outputs": [],
   "source": [
    "%matplotlib inline\n",
    "import matplotlib.pyplot as plt\n",
    "import numpy as np\n",
    "import os\n",
    "import nept"
   ]
  },
  {
   "cell_type": "code",
   "execution_count": null,
   "metadata": {
    "ExecuteTime": {
     "end_time": "2019-02-15T20:43:26.186312Z",
     "start_time": "2019-02-15T20:43:26.182313Z"
    }
   },
   "outputs": [],
   "source": [
    "thisdir = os.getcwd()\n",
    "data_filepath = os.path.join(thisdir, \"cache\", \"data\")\n",
    "output_filepath = os.path.join(thisdir, \"plots\")\n",
    "if not os.path.exists(output_filepath):\n",
    "    os.makedirs(output_filepath)"
   ]
  },
  {
   "cell_type": "code",
   "execution_count": null,
   "metadata": {
    "ExecuteTime": {
     "end_time": "2019-02-15T20:43:26.198288Z",
     "start_time": "2019-02-15T20:43:26.188294Z"
    }
   },
   "outputs": [],
   "source": [
    "event_filepath = os.path.join(data_filepath, \"2019-02-15_test\", \"Events.nev\")"
   ]
  },
  {
   "cell_type": "code",
   "execution_count": null,
   "metadata": {
    "ExecuteTime": {
     "end_time": "2019-02-15T20:43:26.804313Z",
     "start_time": "2019-02-15T20:43:26.797317Z"
    }
   },
   "outputs": [],
   "source": [
    "event_filepath"
   ]
  },
  {
   "cell_type": "code",
   "execution_count": null,
   "metadata": {
    "ExecuteTime": {
     "end_time": "2019-02-15T20:43:27.313618Z",
     "start_time": "2019-02-15T20:43:27.309620Z"
    }
   },
   "outputs": [],
   "source": [
    "evts = nept.load_nev(event_filepath)"
   ]
  },
  {
   "cell_type": "code",
   "execution_count": null,
   "metadata": {
    "ExecuteTime": {
     "end_time": "2019-02-15T20:43:27.851994Z",
     "start_time": "2019-02-15T20:43:27.749848Z"
    }
   },
   "outputs": [],
   "source": [
    "for tt in evts:\n",
    "    print(tt[-1])"
   ]
  },
  {
   "cell_type": "code",
   "execution_count": null,
   "metadata": {},
   "outputs": [],
   "source": []
  },
  {
   "cell_type": "code",
   "execution_count": null,
   "metadata": {},
   "outputs": [],
   "source": []
  },
  {
   "cell_type": "code",
   "execution_count": null,
   "metadata": {
    "ExecuteTime": {
     "end_time": "2019-02-15T20:44:37.347866Z",
     "start_time": "2019-02-15T20:44:37.340870Z"
    }
   },
   "outputs": [],
   "source": [
    "event_labels = dict(north_feeder='TTL Output on AcqSystem1_0 board 0 port 2 value (0x0001).',\n",
    "                    north_start_pb='TTL Input on AcqSystem1_0 board 0 port 1 value (0x0001).',\n",
    "                    north_end_pb='TTL Input on AcqSystem1_0 board 0 port 1 value (0x0002).',\n",
    "                    east_feeder='TTL Output on AcqSystem1_0 board 0 port 2 value (0x0004).',\n",
    "                    east_start_pb='TTL Input on AcqSystem1_0 board 0 port 1 value (0x0004).',\n",
    "                    east_end_pb='TTL Input on AcqSystem1_0 board 0 port 1 value (0x0008).',\n",
    "                    south_feeder='TTL Output on AcqSystem1_0 board 0 port 2 value (0x0008).',\n",
    "                    south_start_pb='TTL Input on AcqSystem1_0 board 0 port 1 value (0x0010).',\n",
    "                    south_end_pb='TTL Input on AcqSystem1_0 board 0 port 1 value (0x0020).',\n",
    "                    west_feeder='TTL Output on AcqSystem1_0 board 0 port 2 value (0x0010).',\n",
    "                    west_start_pb='TTL Input on AcqSystem1_0 board 0 port 1 value (0x0040).',\n",
    "                    west_end_pb='TTL Input on AcqSystem1_0 board 0 port 1 value (0x0080).',\n",
    "                    trial_start='trial start',\n",
    "                    trial_end='trial end',\n",
    "                    tone_on=\"tone on\")"
   ]
  },
  {
   "cell_type": "code",
   "execution_count": null,
   "metadata": {
    "ExecuteTime": {
     "end_time": "2019-02-15T20:44:37.838942Z",
     "start_time": "2019-02-15T20:44:37.829947Z"
    }
   },
   "outputs": [],
   "source": [
    "events = nept.load_events(os.path.join(data_filepath, event_filepath), event_labels)"
   ]
  },
  {
   "cell_type": "code",
   "execution_count": null,
   "metadata": {
    "ExecuteTime": {
     "end_time": "2019-02-15T20:44:38.545353Z",
     "start_time": "2019-02-15T20:44:38.533360Z"
    }
   },
   "outputs": [],
   "source": [
    "events"
   ]
  },
  {
   "cell_type": "code",
   "execution_count": null,
   "metadata": {
    "ExecuteTime": {
     "end_time": "2019-02-15T20:44:40.202400Z",
     "start_time": "2019-02-15T20:44:40.197403Z"
    }
   },
   "outputs": [],
   "source": [
    "feeders = [\"north_feeder\", \"east_feeder\", \"south_feeder\", \"west_feeder\"]\n",
    "photobeams = [\"north_start_pb\", \"north_end_pb\", \"east_start_pb\", \"east_end_pb\", \n",
    "              \"south_start_pb\", \"south_end_pb\", \"west_start_pb\", \"west_end_pb\"]"
   ]
  },
  {
   "cell_type": "code",
   "execution_count": null,
   "metadata": {
    "ExecuteTime": {
     "end_time": "2019-02-15T20:44:40.818306Z",
     "start_time": "2019-02-15T20:44:40.677216Z"
    }
   },
   "outputs": [],
   "source": [
    "fig, ax = plt.subplots()\n",
    "legend = []\n",
    "for feeder in feeders:\n",
    "    plt.plot(events[feeder], np.ones(len(events[feeder])), \"|\", ms=10, mew=3)\n",
    "    legend.append(feeder)\n",
    "    \n",
    "for photobeam in photobeams:\n",
    "    plt.plot(events[photobeam], np.ones(len(events[photobeam]))+0.1, \"|\", ms=10, mew=1)\n",
    "#     legend.append(photobeam)\n",
    "    \n",
    "ax.axes.get_yaxis().set_visible(False)\n",
    "ax.spines['top'].set_visible(False)\n",
    "plt.xlabel(\"time (s)\")\n",
    "plt.legend(legend)\n",
    "plt.title(\"Test T-maze\")\n",
    "plt.ylim(0.5, 1.5)\n",
    "\n",
    "plt.show()"
   ]
  },
  {
   "cell_type": "code",
   "execution_count": null,
   "metadata": {
    "ExecuteTime": {
     "end_time": "2019-02-15T20:49:37.611354Z",
     "start_time": "2019-02-15T20:49:37.606355Z"
    }
   },
   "outputs": [],
   "source": [
    "len(np.unique(events[\"trial_start\"])), len(np.unique(events[\"trial_end\"]))"
   ]
  },
  {
   "cell_type": "code",
   "execution_count": null,
   "metadata": {
    "ExecuteTime": {
     "end_time": "2019-02-15T20:44:50.976749Z",
     "start_time": "2019-02-15T20:44:50.964757Z"
    }
   },
   "outputs": [],
   "source": [
    "trials = nept.Epoch(events[\"trial_start\"], events[\"trial_end\"])"
   ]
  },
  {
   "cell_type": "code",
   "execution_count": null,
   "metadata": {
    "ExecuteTime": {
     "end_time": "2019-02-15T20:44:51.231368Z",
     "start_time": "2019-02-15T20:44:51.221374Z"
    }
   },
   "outputs": [],
   "source": [
    "trials"
   ]
  },
  {
   "cell_type": "code",
   "execution_count": null,
   "metadata": {
    "ExecuteTime": {
     "end_time": "2019-02-15T18:19:28.964180Z",
     "start_time": "2019-02-15T18:19:28.958182Z"
    }
   },
   "outputs": [],
   "source": [
    "events[\"north_start_pb\"]"
   ]
  },
  {
   "cell_type": "code",
   "execution_count": null,
   "metadata": {
    "ExecuteTime": {
     "end_time": "2019-02-15T18:19:29.336086Z",
     "start_time": "2019-02-15T18:19:29.325112Z"
    }
   },
   "outputs": [],
   "source": [
    "starts = []\n",
    "for trial in trials:\n",
    "    ok = events[\"north_start_pb\"][(trial.start - events[\"north_start_pb\"]).argmin()]\n",
    "\n",
    "    print(ok, trial.start)"
   ]
  },
  {
   "cell_type": "code",
   "execution_count": null,
   "metadata": {
    "ExecuteTime": {
     "end_time": "2019-02-15T20:48:20.850088Z",
     "start_time": "2019-02-15T20:48:20.838113Z"
    }
   },
   "outputs": [],
   "source": [
    "north_trial = nept.Epoch(events[\"north_start_pb\"], events[\"north_end_pb\"])"
   ]
  },
  {
   "cell_type": "code",
   "execution_count": null,
   "metadata": {},
   "outputs": [],
   "source": []
  },
  {
   "cell_type": "code",
   "execution_count": null,
   "metadata": {},
   "outputs": [],
   "source": []
  },
  {
   "cell_type": "code",
   "execution_count": null,
   "metadata": {
    "ExecuteTime": {
     "end_time": "2019-02-15T20:44:33.967657Z",
     "start_time": "2019-02-15T20:44:33.718556Z"
    }
   },
   "outputs": [],
   "source": [
    "feeders = [\"north_feeder\"]\n",
    "photobeams = [\"north_start_pb\", \"north_end_pb\"]\n",
    "\n",
    "fig, ax = plt.subplots()\n",
    "legend = []\n",
    "for feeder in feeders:\n",
    "    plt.plot(events[feeder], np.ones(len(events[feeder])), \"|\", ms=20, mew=3)\n",
    "    legend.append(feeder)\n",
    "    \n",
    "for photobeam in photobeams:\n",
    "    plt.plot(events[photobeam], np.ones(len(events[photobeam])), \"|\", ms=10, mew=1)\n",
    "#     legend.append(photobeam)\n",
    "    \n",
    "ax.axes.get_yaxis().set_visible(False)\n",
    "ax.spines['top'].set_visible(False)\n",
    "plt.xlabel(\"time (s)\")\n",
    "plt.legend(legend)\n",
    "plt.title(\"Test T-maze\")\n",
    "plt.ylim(0.5, 1.5)\n",
    "\n",
    "plt.show()"
   ]
  },
  {
   "cell_type": "code",
   "execution_count": null,
   "metadata": {},
   "outputs": [],
   "source": []
  }
 ],
 "metadata": {
  "kernelspec": {
   "display_name": "Python 3",
   "language": "python",
   "name": "python3"
  },
  "language_info": {
   "codemirror_mode": {
    "name": "ipython",
    "version": 3
   },
   "file_extension": ".py",
   "mimetype": "text/x-python",
   "name": "python",
   "nbconvert_exporter": "python",
   "pygments_lexer": "ipython3",
   "version": "3.6.5"
  },
  "toc": {
   "colors": {
    "hover_highlight": "#DAA520",
    "running_highlight": "#FF0000",
    "selected_highlight": "#FFD700"
   },
   "moveMenuLeft": true,
   "nav_menu": {
    "height": "12px",
    "width": "252px"
   },
   "navigate_menu": true,
   "number_sections": true,
   "sideBar": true,
   "threshold": 4,
   "toc_cell": false,
   "toc_section_display": "block",
   "toc_window_display": false
  }
 },
 "nbformat": 4,
 "nbformat_minor": 2
}
