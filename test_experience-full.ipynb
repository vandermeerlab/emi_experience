{
 "cells": [
  {
   "cell_type": "code",
   "execution_count": null,
   "metadata": {
    "ExecuteTime": {
     "end_time": "2019-03-13T19:12:08.651785Z",
     "start_time": "2019-03-13T19:12:03.185880Z"
    }
   },
   "outputs": [],
   "source": [
    "%matplotlib inline\n",
    "import matplotlib.pyplot as plt\n",
    "import numpy as np\n",
    "import os\n",
    "import nept"
   ]
  },
  {
   "cell_type": "code",
   "execution_count": null,
   "metadata": {
    "ExecuteTime": {
     "end_time": "2019-03-13T19:12:08.661729Z",
     "start_time": "2019-03-13T19:12:08.654757Z"
    }
   },
   "outputs": [],
   "source": [
    "thisdir = os.getcwd()\n",
    "data_filepath = os.path.join(thisdir, \"cache\", \"data\")\n",
    "output_filepath = os.path.join(thisdir, \"plots\")\n",
    "if not os.path.exists(output_filepath):\n",
    "    os.makedirs(output_filepath)"
   ]
  },
  {
   "cell_type": "code",
   "execution_count": null,
   "metadata": {
    "ExecuteTime": {
     "end_time": "2019-03-13T19:12:08.679736Z",
     "start_time": "2019-03-13T19:12:08.664726Z"
    }
   },
   "outputs": [],
   "source": [
    "event_filepath = os.path.join(data_filepath, \"2019-03-13_test\", \"Events.nev\")"
   ]
  },
  {
   "cell_type": "code",
   "execution_count": null,
   "metadata": {
    "ExecuteTime": {
     "end_time": "2019-03-13T19:12:08.697707Z",
     "start_time": "2019-03-13T19:12:08.682715Z"
    }
   },
   "outputs": [],
   "source": [
    "event_filepath"
   ]
  },
  {
   "cell_type": "code",
   "execution_count": null,
   "metadata": {
    "ExecuteTime": {
     "end_time": "2019-03-13T19:12:08.709700Z",
     "start_time": "2019-03-13T19:12:08.699705Z"
    }
   },
   "outputs": [],
   "source": [
    "evts = nept.load_nev(event_filepath)"
   ]
  },
  {
   "cell_type": "code",
   "execution_count": null,
   "metadata": {
    "ExecuteTime": {
     "end_time": "2019-03-13T19:12:40.581224Z",
     "start_time": "2019-03-13T19:12:40.576226Z"
    }
   },
   "outputs": [],
   "source": [
    "evt_labels = []\n",
    "for tt in evts:\n",
    "    evt_labels.append(tt[-1])"
   ]
  },
  {
   "cell_type": "code",
   "execution_count": null,
   "metadata": {
    "ExecuteTime": {
     "end_time": "2019-03-13T19:12:47.318287Z",
     "start_time": "2019-03-13T19:12:47.312290Z"
    }
   },
   "outputs": [],
   "source": [
    "np.unique(evt_labels)"
   ]
  },
  {
   "cell_type": "code",
   "execution_count": null,
   "metadata": {},
   "outputs": [],
   "source": []
  },
  {
   "cell_type": "code",
   "execution_count": null,
   "metadata": {
    "ExecuteTime": {
     "end_time": "2019-03-13T19:14:14.744652Z",
     "start_time": "2019-03-13T19:14:14.735638Z"
    }
   },
   "outputs": [],
   "source": [
    "event_labels = dict(north_feeder='TTL Output on AcqSystem1_0 board 0 port 2 value (0x0001).',\n",
    "                    north_feeder_not='NOT firing feeder NorthFeeder',\n",
    "                    north_start_pb='TTL Input on AcqSystem1_0 board 0 port 1 value (0x0001).',\n",
    "                    north_end_pb='TTL Input on AcqSystem1_0 board 0 port 1 value (0x0002).',\n",
    "                    east_feeder='TTL Output on AcqSystem1_0 board 0 port 2 value (0x0004).',\n",
    "                    east_feeder_not='NOT firing feeder EastFeeder',\n",
    "                    east_start_pb='TTL Input on AcqSystem1_0 board 0 port 1 value (0x0004).',\n",
    "                    east_end_pb='TTL Input on AcqSystem1_0 board 0 port 1 value (0x0008).',\n",
    "                    south_feeder='TTL Output on AcqSystem1_0 board 0 port 2 value (0x0008).',\n",
    "                    south_feeder_not='NOT firing feeder SouthFeeder',\n",
    "                    south_start_pb='TTL Input on AcqSystem1_0 board 0 port 1 value (0x0010).',\n",
    "                    south_end_pb='TTL Input on AcqSystem1_0 board 0 port 1 value (0x0020).',\n",
    "                    west_feeder='TTL Output on AcqSystem1_0 board 0 port 2 value (0x0010).',\n",
    "                    west_feeder_not='NOT firing feeder WestFeeder',\n",
    "                    west_start_pb='TTL Input on AcqSystem1_0 board 0 port 1 value (0x0040).',\n",
    "                    west_end_pb='TTL Input on AcqSystem1_0 board 0 port 1 value (0x0080).',\n",
    "                    trial_start='trial start',\n",
    "                    trial_end='trial end',\n",
    "                    tone_on=\"tone on\")"
   ]
  },
  {
   "cell_type": "code",
   "execution_count": null,
   "metadata": {
    "ExecuteTime": {
     "end_time": "2019-03-13T19:14:17.171520Z",
     "start_time": "2019-03-13T19:14:17.159509Z"
    }
   },
   "outputs": [],
   "source": [
    "events = nept.load_events(os.path.join(data_filepath, event_filepath), event_labels)"
   ]
  },
  {
   "cell_type": "code",
   "execution_count": null,
   "metadata": {
    "ExecuteTime": {
     "end_time": "2019-03-13T19:14:17.515475Z",
     "start_time": "2019-03-13T19:14:17.503501Z"
    },
    "scrolled": true
   },
   "outputs": [],
   "source": [
    "events"
   ]
  },
  {
   "cell_type": "code",
   "execution_count": null,
   "metadata": {
    "ExecuteTime": {
     "end_time": "2019-03-13T19:14:24.723163Z",
     "start_time": "2019-03-13T19:14:24.719184Z"
    }
   },
   "outputs": [],
   "source": [
    "feeders = [\"north_feeder\", \"east_feeder\", \"south_feeder\", \"west_feeder\"]\n",
    "photobeams = [\"north_start_pb\", \"north_end_pb\", \"east_start_pb\", \"east_end_pb\", \n",
    "              \"south_start_pb\", \"south_end_pb\", \"west_start_pb\", \"west_end_pb\"]"
   ]
  },
  {
   "cell_type": "code",
   "execution_count": null,
   "metadata": {
    "ExecuteTime": {
     "end_time": "2019-03-13T19:14:26.214159Z",
     "start_time": "2019-03-13T19:14:25.903465Z"
    }
   },
   "outputs": [],
   "source": [
    "fig, ax = plt.subplots()\n",
    "legend = []\n",
    "for feeder in feeders:\n",
    "    plt.plot(events[feeder], np.ones(len(events[feeder])), \"|\", ms=10, mew=3)\n",
    "    legend.append(feeder)\n",
    "    \n",
    "for photobeam in photobeams:\n",
    "    plt.plot(events[photobeam], np.ones(len(events[photobeam]))+0.1, \"|\", ms=10, mew=1)\n",
    "#     legend.append(photobeam)\n",
    "    \n",
    "ax.axes.get_yaxis().set_visible(False)\n",
    "ax.spines['top'].set_visible(False)\n",
    "plt.xlabel(\"time (s)\")\n",
    "plt.legend(legend)\n",
    "plt.title(\"Test T-maze\")\n",
    "plt.ylim(0.5, 1.5)\n",
    "\n",
    "plt.show()"
   ]
  },
  {
   "cell_type": "code",
   "execution_count": null,
   "metadata": {
    "ExecuteTime": {
     "end_time": "2019-03-13T19:14:34.837456Z",
     "start_time": "2019-03-13T19:14:34.831460Z"
    }
   },
   "outputs": [],
   "source": [
    "len(np.unique(events[\"trial_start\"])), len(np.unique(events[\"trial_end\"]))"
   ]
  },
  {
   "cell_type": "code",
   "execution_count": null,
   "metadata": {
    "ExecuteTime": {
     "end_time": "2019-03-13T19:14:35.659376Z",
     "start_time": "2019-03-13T19:14:35.655378Z"
    }
   },
   "outputs": [],
   "source": [
    "trials = nept.Epoch(events[\"trial_start\"], events[\"trial_end\"])"
   ]
  },
  {
   "cell_type": "code",
   "execution_count": null,
   "metadata": {
    "ExecuteTime": {
     "end_time": "2019-03-13T19:14:36.252300Z",
     "start_time": "2019-03-13T19:14:36.247304Z"
    }
   },
   "outputs": [],
   "source": [
    "trials"
   ]
  },
  {
   "cell_type": "code",
   "execution_count": null,
   "metadata": {
    "ExecuteTime": {
     "end_time": "2019-03-13T19:14:37.100302Z",
     "start_time": "2019-03-13T19:14:37.095304Z"
    }
   },
   "outputs": [],
   "source": [
    "events[\"north_start_pb\"]"
   ]
  },
  {
   "cell_type": "code",
   "execution_count": null,
   "metadata": {
    "ExecuteTime": {
     "end_time": "2019-03-13T19:14:44.347636Z",
     "start_time": "2019-03-13T19:14:44.335663Z"
    }
   },
   "outputs": [],
   "source": [
    "starts = []\n",
    "for trial in trials:\n",
    "    ok = events[\"north_start_pb\"][(trial.start - events[\"north_start_pb\"]).argmin()]\n",
    "\n",
    "    print(ok, trial.start)"
   ]
  },
  {
   "cell_type": "code",
   "execution_count": null,
   "metadata": {
    "ExecuteTime": {
     "end_time": "2019-03-13T19:14:45.760964Z",
     "start_time": "2019-03-13T19:14:45.399721Z"
    }
   },
   "outputs": [],
   "source": [
    "north_trial = nept.Epoch(events[\"north_start_pb\"], events[\"north_end_pb\"])"
   ]
  },
  {
   "cell_type": "code",
   "execution_count": null,
   "metadata": {},
   "outputs": [],
   "source": []
  },
  {
   "cell_type": "code",
   "execution_count": null,
   "metadata": {},
   "outputs": [],
   "source": []
  },
  {
   "cell_type": "code",
   "execution_count": null,
   "metadata": {
    "ExecuteTime": {
     "end_time": "2019-03-13T19:14:48.227691Z",
     "start_time": "2019-03-13T19:14:48.135351Z"
    }
   },
   "outputs": [],
   "source": [
    "feeders = [\"north_feeder\"]\n",
    "photobeams = [\"north_start_pb\", \"north_end_pb\"]\n",
    "\n",
    "fig, ax = plt.subplots()\n",
    "legend = []\n",
    "for feeder in feeders:\n",
    "    plt.plot(events[feeder], np.ones(len(events[feeder])), \"|\", ms=20, mew=3)\n",
    "    legend.append(feeder)\n",
    "    \n",
    "for photobeam in photobeams:\n",
    "    plt.plot(events[photobeam], np.ones(len(events[photobeam])), \"|\", ms=10, mew=1)\n",
    "#     legend.append(photobeam)\n",
    "    \n",
    "ax.axes.get_yaxis().set_visible(False)\n",
    "ax.spines['top'].set_visible(False)\n",
    "plt.xlabel(\"time (s)\")\n",
    "plt.legend(legend)\n",
    "plt.title(\"Test T-maze\")\n",
    "plt.ylim(0.5, 1.5)\n",
    "\n",
    "plt.show()"
   ]
  },
  {
   "cell_type": "code",
   "execution_count": null,
   "metadata": {},
   "outputs": [],
   "source": []
  },
  {
   "cell_type": "code",
   "execution_count": null,
   "metadata": {},
   "outputs": [],
   "source": []
  }
 ],
 "metadata": {
  "kernelspec": {
   "display_name": "Python 3",
   "language": "python",
   "name": "python3"
  },
  "language_info": {
   "codemirror_mode": {
    "name": "ipython",
    "version": 3
   },
   "file_extension": ".py",
   "mimetype": "text/x-python",
   "name": "python",
   "nbconvert_exporter": "python",
   "pygments_lexer": "ipython3",
   "version": "3.6.5"
  },
  "toc": {
   "colors": {
    "hover_highlight": "#DAA520",
    "running_highlight": "#FF0000",
    "selected_highlight": "#FFD700"
   },
   "moveMenuLeft": true,
   "nav_menu": {
    "height": "12px",
    "width": "252px"
   },
   "navigate_menu": true,
   "number_sections": true,
   "sideBar": true,
   "threshold": 4,
   "toc_cell": false,
   "toc_section_display": "block",
   "toc_window_display": false
  }
 },
 "nbformat": 4,
 "nbformat_minor": 2
}
