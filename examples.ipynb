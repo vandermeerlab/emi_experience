{
 "cells": [
  {
   "cell_type": "code",
   "execution_count": null,
   "metadata": {
    "ExecuteTime": {
     "end_time": "2019-10-21T18:46:48.445638Z",
     "start_time": "2019-10-21T18:46:47.654077Z"
    }
   },
   "outputs": [],
   "source": [
    "%matplotlib inline\n",
    "import matplotlib.pyplot as plt\n",
    "import matplotlib\n",
    "import math\n",
    "import numpy as np\n",
    "import scipy\n",
    "import os\n",
    "import nept"
   ]
  },
  {
   "cell_type": "code",
   "execution_count": null,
   "metadata": {
    "ExecuteTime": {
     "end_time": "2019-10-21T18:46:48.451634Z",
     "start_time": "2019-10-21T18:46:48.447636Z"
    }
   },
   "outputs": [],
   "source": [
    "thisdir = os.getcwd()\n",
    "# data_filepath = os.path.join(thisdir, \"cache\", \"data\")\n",
    "output_filepath = os.path.join(thisdir, \"plots\", \"experience\")\n",
    "if not os.path.exists(output_filepath):\n",
    "    os.makedirs(output_filepath)"
   ]
  },
  {
   "cell_type": "code",
   "execution_count": null,
   "metadata": {
    "ExecuteTime": {
     "end_time": "2019-10-21T18:46:48.459629Z",
     "start_time": "2019-10-21T18:46:48.453633Z"
    }
   },
   "outputs": [],
   "source": [
    "import info.r191_exp05 as info"
   ]
  },
  {
   "cell_type": "code",
   "execution_count": null,
   "metadata": {
    "ExecuteTime": {
     "end_time": "2019-10-21T18:47:05.844610Z",
     "start_time": "2019-10-21T18:47:05.839614Z"
    }
   },
   "outputs": [],
   "source": [
    "data_filepath = os.path.join(\"E:\\\\\", \"data\", \"data-experience\", info.rat_id, \"RR1\", info.rat_id+\"_\"+info.date+\"_recording\")"
   ]
  },
  {
   "cell_type": "code",
   "execution_count": null,
   "metadata": {
    "ExecuteTime": {
     "end_time": "2019-10-21T18:47:06.132740Z",
     "start_time": "2019-10-21T18:47:06.127762Z"
    }
   },
   "outputs": [],
   "source": [
    "def get_exp_trials(events):\n",
    "    starts = np.sort(np.append(events[\"trial_start\"], [info.task_times[\"run1\"].start, info.task_times[\"run2\"].start]))\n",
    "    stops = events[\"trial_end\"]\n",
    "\n",
    "    return nept.Epoch(starts, stops)"
   ]
  },
  {
   "cell_type": "code",
   "execution_count": null,
   "metadata": {
    "ExecuteTime": {
     "end_time": "2019-10-21T18:47:06.490335Z",
     "start_time": "2019-10-21T18:47:06.470349Z"
    }
   },
   "outputs": [],
   "source": [
    "event_filename = info.date+\"_Events.nev\"\n",
    "events = nept.load_events(os.path.join(data_filepath, event_filename), info.event_labels)"
   ]
  },
  {
   "cell_type": "code",
   "execution_count": null,
   "metadata": {
    "ExecuteTime": {
     "end_time": "2019-10-21T18:50:14.746555Z",
     "start_time": "2019-10-21T18:50:14.742538Z"
    }
   },
   "outputs": [],
   "source": [
    "trials = get_exp_trials(events)"
   ]
  },
  {
   "cell_type": "code",
   "execution_count": null,
   "metadata": {
    "ExecuteTime": {
     "end_time": "2019-10-21T18:50:24.899237Z",
     "start_time": "2019-10-21T18:50:24.894239Z"
    }
   },
   "outputs": [],
   "source": [
    "trials.durations"
   ]
  },
  {
   "cell_type": "code",
   "execution_count": null,
   "metadata": {
    "ExecuteTime": {
     "end_time": "2019-10-21T18:54:09.954592Z",
     "start_time": "2019-10-21T18:54:09.949598Z"
    }
   },
   "outputs": [],
   "source": [
    "txt_filepath = os.path.join(data_filepath, info.date+\"_experience.txt\")\n",
    "with open(txt_filepath) as f:\n",
    "    trial_types = f.read().splitlines() \n",
    "f.close()"
   ]
  },
  {
   "cell_type": "code",
   "execution_count": null,
   "metadata": {
    "ExecuteTime": {
     "end_time": "2019-10-21T19:03:02.609588Z",
     "start_time": "2019-10-21T19:03:02.605590Z"
    }
   },
   "outputs": [],
   "source": [
    "trial_types = np.concatenate([trial_types[5:41], trial_types[42:]])"
   ]
  },
  {
   "cell_type": "code",
   "execution_count": null,
   "metadata": {
    "ExecuteTime": {
     "end_time": "2019-10-21T19:03:08.803320Z",
     "start_time": "2019-10-21T19:03:08.798343Z"
    }
   },
   "outputs": [],
   "source": [
    "len(trial_types)"
   ]
  },
  {
   "cell_type": "code",
   "execution_count": null,
   "metadata": {
    "ExecuteTime": {
     "end_time": "2019-10-21T18:55:06.291533Z",
     "start_time": "2019-10-21T18:55:06.285537Z"
    }
   },
   "outputs": [],
   "source": [
    "trials.n_epochs"
   ]
  },
  {
   "cell_type": "code",
   "execution_count": null,
   "metadata": {},
   "outputs": [],
   "source": []
  },
  {
   "cell_type": "code",
   "execution_count": null,
   "metadata": {
    "ExecuteTime": {
     "end_time": "2019-10-21T19:04:41.202215Z",
     "start_time": "2019-10-21T19:04:41.198197Z"
    }
   },
   "outputs": [],
   "source": [
    "letssee = []\n",
    "for i in range(trials.n_epochs):\n",
    "    letssee.append((trial_types[i], trials.durations[i]))"
   ]
  },
  {
   "cell_type": "code",
   "execution_count": null,
   "metadata": {
    "ExecuteTime": {
     "end_time": "2019-10-21T19:04:42.110270Z",
     "start_time": "2019-10-21T19:04:42.102275Z"
    }
   },
   "outputs": [],
   "source": [
    "letssee"
   ]
  },
  {
   "cell_type": "code",
   "execution_count": null,
   "metadata": {
    "ExecuteTime": {
     "end_time": "2019-10-21T19:16:59.818163Z",
     "start_time": "2019-10-21T19:16:59.813166Z"
    }
   },
   "outputs": [],
   "source": [
    "arms = [\"North\", \"South\", \"East\", \"West\"]\n",
    "\n",
    "rewarded = dict()\n",
    "unrewarded = dict()\n",
    "for arm in [\"North\", \"South\", \"East\", \"West\"]:\n",
    "    rewarded[arm] = []\n",
    "    unrewarded[arm] = []\n",
    "for trial in letssee:\n",
    "    for arm in arms:\n",
    "        if trial[0] == arm+\" +\":\n",
    "            rewarded[arm].append(trial[1])\n",
    "        elif trial[0] == arm+\" -\":\n",
    "            unrewarded[arm].append(trial[1])"
   ]
  },
  {
   "cell_type": "code",
   "execution_count": null,
   "metadata": {
    "ExecuteTime": {
     "end_time": "2019-10-21T19:10:51.010233Z",
     "start_time": "2019-10-21T19:10:51.005235Z"
    }
   },
   "outputs": [],
   "source": [
    "np.mean(rewarded[\"North\"]), np.mean(unrewarded[\"North\"])"
   ]
  },
  {
   "cell_type": "code",
   "execution_count": null,
   "metadata": {
    "ExecuteTime": {
     "end_time": "2019-10-21T19:18:30.697844Z",
     "start_time": "2019-10-21T19:18:30.693844Z"
    }
   },
   "outputs": [],
   "source": [
    "north = rewarded[\"North\"] + unrewarded[\"North\"]\n",
    "print(north)"
   ]
  },
  {
   "cell_type": "code",
   "execution_count": null,
   "metadata": {
    "ExecuteTime": {
     "end_time": "2019-10-21T19:28:20.922536Z",
     "start_time": "2019-10-21T19:28:20.837569Z"
    }
   },
   "outputs": [],
   "source": [
    "latencies = dict()\n",
    "latencies[\"North\"] = np.mean(rewarded[\"North\"] + unrewarded[\"North\"])\n",
    "latencies[\"South\"] = np.mean(rewarded[\"South\"] + unrewarded[\"South\"])\n",
    "latencies[\"East\"] = np.mean(rewarded[\"East\"] + unrewarded[\"East\"]) \n",
    "latencies[\"West\"] = np.mean(rewarded[\"West\"] + unrewarded[\"West\"])\n",
    "print(latencies)\n",
    "\n",
    "fig = plt.figure()\n",
    "ax = fig.add_subplot(111)\n",
    "\n",
    "arms = [\"West\", \"East\", \"South\", \"North\"]\n",
    "colors = [\"#0570b0ff\", \"#74a9cfff\", \"#3690c0ff\", \"#74c476ff\"]\n",
    "\n",
    "frequencies = [latencies[arm] for arm in arms]\n",
    "\n",
    "x_coordinates = np.arange(len(arms))\n",
    "probe_choices = ax.bar(x_coordinates, frequencies, align='center', color=colors)\n",
    "\n",
    "arm_to_outcome = [\"high\", \"low\", \"medium\", \"control\"]\n",
    "plt.xticks(x_coordinates, arm_to_outcome)\n",
    "plt.ylabel(\"Latency (s)\")\n",
    "\n",
    "ax.spines['right'].set_visible(False)\n",
    "ax.spines['top'].set_visible(False)\n",
    "ax.yaxis.set_ticks_position('left')\n",
    "ax.xaxis.set_ticks_position('bottom')\n",
    "\n",
    "plt.title(\"Latency by arm\\n(Example session from Rat1)\")\n",
    "\n",
    "# plt.show()\n",
    "plt.savefig(os.path.join(output_filepath, \"example_mean_latency.png\"))\n",
    "plt.close()"
   ]
  },
  {
   "cell_type": "code",
   "execution_count": null,
   "metadata": {
    "ExecuteTime": {
     "end_time": "2019-10-21T18:47:07.591347Z",
     "start_time": "2019-10-21T18:47:07.142605Z"
    }
   },
   "outputs": [],
   "source": [
    "lfp = nept.load_lfp(os.path.join(data_filepath, info.lfp_swr_filename))"
   ]
  },
  {
   "cell_type": "code",
   "execution_count": null,
   "metadata": {
    "ExecuteTime": {
     "end_time": "2019-10-21T18:47:09.816666Z",
     "start_time": "2019-10-21T18:47:08.046474Z"
    }
   },
   "outputs": [],
   "source": [
    "position_filename = info.date+\"_VT1.nvt\"\n",
    "position = nept.load_position(os.path.join(data_filepath, position_filename), pxl_to_cm=[info.pxl_to_cm[\"x\"], info.pxl_to_cm[\"y\"]])"
   ]
  },
  {
   "cell_type": "code",
   "execution_count": null,
   "metadata": {
    "ExecuteTime": {
     "end_time": "2019-10-21T18:47:18.892877Z",
     "start_time": "2019-10-21T18:47:18.758957Z"
    }
   },
   "outputs": [],
   "source": [
    "phase = 'run1'\n",
    "sliced_position = position.time_slice(info.task_times[phase].start, info.task_times[phase].stop)\n",
    "\n",
    "plt.plot(sliced_position.x, sliced_position.y, \".\", ms=1)\n",
    "plt.show()"
   ]
  },
  {
   "cell_type": "code",
   "execution_count": null,
   "metadata": {
    "ExecuteTime": {
     "end_time": "2019-10-21T18:49:31.243711Z",
     "start_time": "2019-10-21T18:49:31.101719Z"
    }
   },
   "outputs": [],
   "source": [
    "phase = 'run2'\n",
    "sliced_position = position.time_slice(info.task_times[phase].start, info.task_times[phase].stop)\n",
    "\n",
    "plt.plot(sliced_position.x, sliced_position.y, \".\", ms=1)\n",
    "plt.show()"
   ]
  },
  {
   "cell_type": "code",
   "execution_count": null,
   "metadata": {
    "ExecuteTime": {
     "end_time": "2019-10-21T18:48:06.038843Z",
     "start_time": "2019-10-21T18:48:05.470208Z"
    }
   },
   "outputs": [],
   "source": [
    "sliced_lfp = lfp.time_slice(info.task_times[\"rest2\"].start, info.task_times[\"rest2\"].stop)\n",
    "\n",
    "# Find SWRs\n",
    "z_thresh = 2.0\n",
    "power_thresh = 3.0\n",
    "merge_thresh = 0.02\n",
    "min_length = 0.05\n",
    "swrs = nept.detect_swr_hilbert(sliced_lfp, \n",
    "                               fs=info.fs, \n",
    "                               thresh=(140.0, 250.0), \n",
    "                               z_thresh=z_thresh,\n",
    "                               merge_thresh=merge_thresh, \n",
    "                               min_length=min_length)"
   ]
  },
  {
   "cell_type": "code",
   "execution_count": null,
   "metadata": {
    "ExecuteTime": {
     "end_time": "2019-10-21T18:48:32.134242Z",
     "start_time": "2019-10-21T18:48:29.415829Z"
    },
    "scrolled": false
   },
   "outputs": [],
   "source": [
    "for i in range(10):\n",
    "    ok = sliced_lfp.time_slice(swrs.starts[i], swrs.stops[i])\n",
    "\n",
    "    buffer = 0.1\n",
    "    plt.plot(sliced_lfp.time, sliced_lfp.data)\n",
    "    plt.plot(ok.time, ok.data)\n",
    "    plt.xlim(ok.time[0]-buffer, ok.time[-1]+buffer)\n",
    "    plt.show()"
   ]
  },
  {
   "cell_type": "code",
   "execution_count": null,
   "metadata": {},
   "outputs": [],
   "source": []
  }
 ],
 "metadata": {
  "kernelspec": {
   "display_name": "Python 3",
   "language": "python",
   "name": "python3"
  },
  "language_info": {
   "codemirror_mode": {
    "name": "ipython",
    "version": 3
   },
   "file_extension": ".py",
   "mimetype": "text/x-python",
   "name": "python",
   "nbconvert_exporter": "python",
   "pygments_lexer": "ipython3",
   "version": "3.6.5"
  },
  "toc": {
   "colors": {
    "hover_highlight": "#DAA520",
    "running_highlight": "#FF0000",
    "selected_highlight": "#FFD700"
   },
   "moveMenuLeft": true,
   "nav_menu": {
    "height": "12px",
    "width": "252px"
   },
   "navigate_menu": true,
   "number_sections": true,
   "sideBar": true,
   "threshold": 4,
   "toc_cell": false,
   "toc_section_display": "block",
   "toc_window_display": false
  }
 },
 "nbformat": 4,
 "nbformat_minor": 2
}
