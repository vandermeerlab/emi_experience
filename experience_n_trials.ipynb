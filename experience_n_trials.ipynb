{
 "cells": [
  {
   "cell_type": "code",
   "execution_count": null,
   "metadata": {
    "ExecuteTime": {
     "end_time": "2019-03-12T15:56:32.329269Z",
     "start_time": "2019-03-12T15:56:32.314277Z"
    },
    "collapsed": true
   },
   "outputs": [],
   "source": [
    "%matplotlib inline\n",
    "import matplotlib.pyplot as plt\n",
    "import numpy as np\n",
    "import os\n",
    "import nept"
   ]
  },
  {
   "cell_type": "code",
   "execution_count": null,
   "metadata": {
    "ExecuteTime": {
     "end_time": "2019-03-12T15:56:32.571235Z",
     "start_time": "2019-03-12T15:56:32.566238Z"
    },
    "collapsed": true
   },
   "outputs": [],
   "source": [
    "event_labels = dict(north_feeder='TTL Output on AcqSystem1_0 board 0 port 2 value (0x0001).',\n",
    "                    north_feeder_not='NOT firing feeder NorthFeeder',\n",
    "                    north_pb_center='TTL Input on AcqSystem1_0 board 0 port 1 value (0x0001).',\n",
    "                    north_pb_far='TTL Input on AcqSystem1_0 board 0 port 1 value (0x0002).',\n",
    "                    east_feeder='TTL Output on AcqSystem1_0 board 0 port 2 value (0x0004).',\n",
    "                    east_feeder_not='NOT firing feeder EastFeeder',\n",
    "                    east_pb_center='TTL Input on AcqSystem1_0 board 0 port 1 value (0x0004).',\n",
    "                    east_pb_far='TTL Input on AcqSystem1_0 board 0 port 1 value (0x0008).',\n",
    "                    south_feeder='TTL Output on AcqSystem1_0 board 0 port 2 value (0x0008).',\n",
    "                    south_feeder_not='NOT firing feeder SouthFeeder',\n",
    "                    south_pb_center='TTL Input on AcqSystem1_0 board 0 port 1 value (0x0010).',\n",
    "                    south_pb_far='TTL Input on AcqSystem1_0 board 0 port 1 value (0x0020).',\n",
    "                    west_feeder='TTL Output on AcqSystem1_0 board 0 port 2 value (0x0010).',\n",
    "                    west_feeder_not='NOT firing feeder WestFeeder',\n",
    "                    west_pb_center='TTL Input on AcqSystem1_0 board 0 port 1 value (0x0040).',\n",
    "                    west_pb_far='TTL Input on AcqSystem1_0 board 0 port 1 value (0x0080).',\n",
    "                    trial_start='trial start',\n",
    "                    trial_end='trial end',\n",
    "                    tone_on='tone on',\n",
    "                    approach_state='entering approach state',\n",
    "                    return_state='entering return state')"
   ]
  },
  {
   "cell_type": "code",
   "execution_count": null,
   "metadata": {
    "collapsed": true
   },
   "outputs": [],
   "source": [
    "thisdir = os.getcwd()\n",
    "data_filepath = os.path.join(thisdir, \"cache\", \"data\", \"R171_2019-03-16_behavior\")\n",
    "output_filepath = os.path.join(thisdir, \"plots\")\n",
    "if not os.path.exists(output_filepath):\n",
    "    os.makedirs(output_filepath)"
   ]
  },
  {
   "cell_type": "code",
   "execution_count": null,
   "metadata": {
    "ExecuteTime": {
     "end_time": "2019-03-12T15:56:34.040094Z",
     "start_time": "2019-03-12T15:56:33.077178Z"
    }
   },
   "outputs": [],
   "source": [
    "n_trials = []\n",
    "mean_durations = []\n",
    "for filename in os.listdir(data_filepath):\n",
    "    date = filename[5:15]\n",
    "    \n",
    "    event_filepath = os.path.join(data_filepath, \"2019-03-16_Events.nev\")\n",
    "    txt_filepath = os.path.join(data_filepath, \"2019-03-16_experience.txt\")\n",
    "    \n",
    "    events = nept.load_events(os.path.join(data_filepath, event_filepath), event_labels)\n",
    "    \n",
    "    starts = events[\"trial_start\"]\n",
    "    stops = events[\"trial_end\"]\n",
    "    if len(starts) > len(stops):\n",
    "        starts = starts[:-1]\n",
    "    if stops[0]-starts[0] > 0:\n",
    "        trials = nept.Epoch(starts, stops)\n",
    "\n",
    "        n_trials.append(trials.n_epochs)\n",
    "        mean_durations.append(np.mean(trials.durations))"
   ]
  },
  {
   "cell_type": "code",
   "execution_count": null,
   "metadata": {},
   "outputs": [],
   "source": [
    "35/3"
   ]
  },
  {
   "cell_type": "code",
   "execution_count": null,
   "metadata": {
    "collapsed": true
   },
   "outputs": [],
   "source": [
    "probes1 = [\"west\", \"north\"]\n",
    "probes2 = [\"west\", \"north\"]"
   ]
  },
  {
   "cell_type": "code",
   "execution_count": null,
   "metadata": {},
   "outputs": [],
   "source": [
    "trials.n_epochs"
   ]
  },
  {
   "cell_type": "code",
   "execution_count": null,
   "metadata": {},
   "outputs": [],
   "source": [
    "trials.durations"
   ]
  },
  {
   "cell_type": "code",
   "execution_count": null,
   "metadata": {},
   "outputs": [],
   "source": [
    "np.mean(trials.durations)"
   ]
  },
  {
   "cell_type": "code",
   "execution_count": null,
   "metadata": {},
   "outputs": [],
   "source": [
    "events"
   ]
  },
  {
   "cell_type": "code",
   "execution_count": null,
   "metadata": {},
   "outputs": [],
   "source": [
    "len(events[\"east_feeder\"]) + len(events[\"east_feeder_not\"])"
   ]
  },
  {
   "cell_type": "code",
   "execution_count": null,
   "metadata": {},
   "outputs": [],
   "source": [
    "len(events[\"north_feeder\"]) + len(events[\"north_feeder_not\"])"
   ]
  },
  {
   "cell_type": "code",
   "execution_count": null,
   "metadata": {},
   "outputs": [],
   "source": [
    "len(events[\"south_feeder\"]) + len(events[\"south_feeder_not\"])"
   ]
  },
  {
   "cell_type": "code",
   "execution_count": null,
   "metadata": {},
   "outputs": [],
   "source": [
    "len(events[\"west_feeder\"]) + len(events[\"west_feeder_not\"])"
   ]
  },
  {
   "cell_type": "code",
   "execution_count": null,
   "metadata": {
    "collapsed": true
   },
   "outputs": [],
   "source": []
  },
  {
   "cell_type": "code",
   "execution_count": null,
   "metadata": {
    "collapsed": true
   },
   "outputs": [],
   "source": []
  },
  {
   "cell_type": "code",
   "execution_count": null,
   "metadata": {
    "ExecuteTime": {
     "end_time": "2019-03-12T15:56:34.164049Z",
     "start_time": "2019-03-12T15:56:34.042093Z"
    }
   },
   "outputs": [],
   "source": [
    "fig, ax = plt.subplots()\n",
    "x_ticks = np.arange(len(n_trials))+1\n",
    "ax.plot(x_ticks, n_trials, lw=2)\n",
    "\n",
    "ax.spines['right'].set_visible(False)\n",
    "ax.spines['top'].set_visible(False)\n",
    "ax.yaxis.set_ticks_position('left')\n",
    "ax.xaxis.set_ticks_position('bottom')\n",
    "\n",
    "plt.xlabel(\"Day\")\n",
    "plt.ylabel(\"Number of trials\")\n",
    "plt.title(\"R171 Experience Maze in RR1\")\n",
    "ax.set_xticks(x_ticks)\n",
    "# plt.savefig(os.path.join(output_filepath, \"R171_n-trials.png\"))\n",
    "# plt.close()\n",
    "plt.show()"
   ]
  },
  {
   "cell_type": "code",
   "execution_count": null,
   "metadata": {
    "ExecuteTime": {
     "end_time": "2019-03-12T15:56:34.281982Z",
     "start_time": "2019-03-12T15:56:34.165023Z"
    }
   },
   "outputs": [],
   "source": [
    "fig, ax = plt.subplots()\n",
    "x_ticks = np.arange(len(mean_durations))+1\n",
    "ax.plot(x_ticks, mean_durations, lw=2)\n",
    "\n",
    "ax.spines['right'].set_visible(False)\n",
    "ax.spines['top'].set_visible(False)\n",
    "ax.yaxis.set_ticks_position('left')\n",
    "ax.xaxis.set_ticks_position('bottom')\n",
    "\n",
    "plt.xlabel(\"Day\")\n",
    "plt.ylabel(\"Mean trial duration (s)\")\n",
    "plt.title(\"R171 Experience Maze in RR1 Day3\")\n",
    "ax.set_xticks(x_ticks)\n",
    "# plt.savefig(os.path.join(output_filepath, \"R171_mean-durations.png\"))\n",
    "# plt.close()\n",
    "plt.show()"
   ]
  },
  {
   "cell_type": "code",
   "execution_count": null,
   "metadata": {
    "collapsed": true
   },
   "outputs": [],
   "source": []
  }
 ],
 "metadata": {
  "kernelspec": {
   "display_name": "Python 3",
   "language": "python",
   "name": "python3"
  },
  "language_info": {
   "codemirror_mode": {
    "name": "ipython",
    "version": 3
   },
   "file_extension": ".py",
   "mimetype": "text/x-python",
   "name": "python",
   "nbconvert_exporter": "python",
   "pygments_lexer": "ipython3",
   "version": "3.6.5"
  },
  "toc": {
   "colors": {
    "hover_highlight": "#DAA520",
    "running_highlight": "#FF0000",
    "selected_highlight": "#FFD700"
   },
   "moveMenuLeft": true,
   "nav_menu": {
    "height": "12px",
    "width": "252px"
   },
   "navigate_menu": true,
   "number_sections": true,
   "sideBar": true,
   "threshold": 4,
   "toc_cell": false,
   "toc_section_display": "block",
   "toc_window_display": false
  }
 },
 "nbformat": 4,
 "nbformat_minor": 2
}
