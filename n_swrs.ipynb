{
 "cells": [
  {
   "cell_type": "code",
   "execution_count": null,
   "metadata": {
    "ExecuteTime": {
     "end_time": "2019-11-06T15:42:57.607196Z",
     "start_time": "2019-11-06T15:42:56.847975Z"
    }
   },
   "outputs": [],
   "source": [
    "%matplotlib inline\n",
    "import matplotlib.pyplot as plt\n",
    "import matplotlib\n",
    "import math\n",
    "import numpy as np\n",
    "import scipy\n",
    "import os\n",
    "import nept"
   ]
  },
  {
   "cell_type": "code",
   "execution_count": null,
   "metadata": {
    "ExecuteTime": {
     "end_time": "2019-11-06T15:42:57.613162Z",
     "start_time": "2019-11-06T15:42:57.609167Z"
    }
   },
   "outputs": [],
   "source": [
    "thisdir = os.getcwd()\n",
    "# data_filepath = os.path.join(thisdir, \"cache\", \"data\")\n",
    "output_filepath = os.path.join(thisdir, \"plots\", \"experience\")\n",
    "if not os.path.exists(output_filepath):\n",
    "    os.makedirs(output_filepath)"
   ]
  },
  {
   "cell_type": "code",
   "execution_count": null,
   "metadata": {
    "ExecuteTime": {
     "end_time": "2019-11-06T15:43:25.167716Z",
     "start_time": "2019-11-06T15:43:25.144713Z"
    }
   },
   "outputs": [],
   "source": [
    "import info.r192_exp01 as info"
   ]
  },
  {
   "cell_type": "code",
   "execution_count": null,
   "metadata": {
    "ExecuteTime": {
     "end_time": "2019-11-06T15:43:26.212153Z",
     "start_time": "2019-11-06T15:43:25.475061Z"
    }
   },
   "outputs": [],
   "source": [
    "lfp = nept.load_lfp(info.lfp_swr_filename)"
   ]
  },
  {
   "cell_type": "code",
   "execution_count": null,
   "metadata": {
    "ExecuteTime": {
     "end_time": "2019-11-06T15:43:26.383054Z",
     "start_time": "2019-11-06T15:43:26.214134Z"
    }
   },
   "outputs": [],
   "source": [
    "phase = 'rest1'\n",
    "sliced_lfp = lfp.time_slice(info.task_times[phase].start, info.task_times[phase].stop)"
   ]
  },
  {
   "cell_type": "code",
   "execution_count": null,
   "metadata": {
    "ExecuteTime": {
     "end_time": "2019-11-06T15:43:28.017079Z",
     "start_time": "2019-11-06T15:43:26.385034Z"
    }
   },
   "outputs": [],
   "source": [
    "for phase in [\"rest1\", \"rest2\", \"rest3\"]:\n",
    "    sliced_lfp = lfp.time_slice(info.task_times[phase].start, info.task_times[phase].stop)\n",
    "\n",
    "    z_thresh = 2.0\n",
    "    power_thresh = 3.0\n",
    "    merge_thresh = 0.02\n",
    "    min_length = 0.05\n",
    "    swrs = nept.detect_swr_hilbert(sliced_lfp, \n",
    "                                   fs=info.fs, \n",
    "                                   thresh=(140.0, 250.0), \n",
    "                                   z_thresh=z_thresh,\n",
    "                                   merge_thresh=merge_thresh, \n",
    "                                   min_length=min_length)\n",
    "    \n",
    "    print(phase, \":\", swrs.n_epochs)"
   ]
  },
  {
   "cell_type": "code",
   "execution_count": null,
   "metadata": {
    "ExecuteTime": {
     "end_time": "2019-11-06T15:43:28.027073Z",
     "start_time": "2019-11-06T15:43:28.019078Z"
    }
   },
   "outputs": [],
   "source": [
    "swrs.n_epochs"
   ]
  },
  {
   "cell_type": "code",
   "execution_count": null,
   "metadata": {},
   "outputs": [],
   "source": []
  }
 ],
 "metadata": {
  "kernelspec": {
   "display_name": "Python 3",
   "language": "python",
   "name": "python3"
  },
  "language_info": {
   "codemirror_mode": {
    "name": "ipython",
    "version": 3
   },
   "file_extension": ".py",
   "mimetype": "text/x-python",
   "name": "python",
   "nbconvert_exporter": "python",
   "pygments_lexer": "ipython3",
   "version": "3.6.5"
  },
  "toc": {
   "colors": {
    "hover_highlight": "#DAA520",
    "running_highlight": "#FF0000",
    "selected_highlight": "#FFD700"
   },
   "moveMenuLeft": true,
   "nav_menu": {
    "height": "12px",
    "width": "252px"
   },
   "navigate_menu": true,
   "number_sections": true,
   "sideBar": true,
   "threshold": 4,
   "toc_cell": false,
   "toc_section_display": "block",
   "toc_window_display": false
  }
 },
 "nbformat": 4,
 "nbformat_minor": 2
}
