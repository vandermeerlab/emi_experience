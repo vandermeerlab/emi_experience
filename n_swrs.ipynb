{
 "cells": [
  {
   "cell_type": "code",
   "execution_count": null,
   "metadata": {
    "ExecuteTime": {
     "end_time": "2019-11-06T17:03:01.292739Z",
     "start_time": "2019-11-06T17:03:00.529168Z"
    }
   },
   "outputs": [],
   "source": [
    "%matplotlib inline\n",
    "import matplotlib.pyplot as plt\n",
    "import matplotlib\n",
    "import math\n",
    "import numpy as np\n",
    "import scipy\n",
    "import os\n",
    "import nept"
   ]
  },
  {
   "cell_type": "code",
   "execution_count": null,
   "metadata": {
    "ExecuteTime": {
     "end_time": "2019-11-06T17:03:01.299717Z",
     "start_time": "2019-11-06T17:03:01.294720Z"
    }
   },
   "outputs": [],
   "source": [
    "thisdir = os.getcwd()\n",
    "# data_filepath = os.path.join(thisdir, \"cache\", \"data\")\n",
    "output_filepath = os.path.join(thisdir, \"plots\", \"experience\")\n",
    "if not os.path.exists(output_filepath):\n",
    "    os.makedirs(output_filepath)"
   ]
  },
  {
   "cell_type": "code",
   "execution_count": null,
   "metadata": {
    "ExecuteTime": {
     "end_time": "2019-11-06T17:03:01.354704Z",
     "start_time": "2019-11-06T17:03:01.300716Z"
    }
   },
   "outputs": [],
   "source": [
    "from run import analysis_infos"
   ]
  },
  {
   "cell_type": "code",
   "execution_count": null,
   "metadata": {
    "ExecuteTime": {
     "end_time": "2019-11-06T17:10:06.741734Z",
     "start_time": "2019-11-06T17:09:48.880178Z"
    }
   },
   "outputs": [],
   "source": [
    "n_swrs = []\n",
    "\n",
    "for info in analysis_infos:\n",
    "    print(info.session_id)\n",
    "    lfp = nept.load_lfp(info.lfp_swr_filename)\n",
    "    for phase in [\"rest1\", \"rest2\", \"rest3\"]:\n",
    "        sliced_lfp = lfp.time_slice(info.task_times[phase].start, info.task_times[phase].stop)\n",
    "\n",
    "        z_thresh = 2.0\n",
    "        power_thresh = 3.0\n",
    "        merge_thresh = 0.02\n",
    "        min_length = 0.06\n",
    "        swrs = nept.detect_swr_hilbert(sliced_lfp, \n",
    "                                       fs=info.fs, \n",
    "                                       thresh=(140.0, 250.0), \n",
    "                                       z_thresh=z_thresh,\n",
    "                                       merge_thresh=merge_thresh, \n",
    "                                       min_length=min_length)\n",
    "        n_swrs.append(swrs.n_epochs)\n",
    "        print(phase, \":\", swrs.n_epochs)"
   ]
  },
  {
   "cell_type": "code",
   "execution_count": null,
   "metadata": {
    "ExecuteTime": {
     "end_time": "2019-11-06T17:10:15.867084Z",
     "start_time": "2019-11-06T17:10:15.728147Z"
    }
   },
   "outputs": [],
   "source": [
    "plt.plot(n_swrs)\n",
    "plt.show()"
   ]
  },
  {
   "cell_type": "code",
   "execution_count": null,
   "metadata": {},
   "outputs": [],
   "source": []
  }
 ],
 "metadata": {
  "kernelspec": {
   "display_name": "Python 3",
   "language": "python",
   "name": "python3"
  },
  "language_info": {
   "codemirror_mode": {
    "name": "ipython",
    "version": 3
   },
   "file_extension": ".py",
   "mimetype": "text/x-python",
   "name": "python",
   "nbconvert_exporter": "python",
   "pygments_lexer": "ipython3",
   "version": "3.6.5"
  },
  "toc": {
   "colors": {
    "hover_highlight": "#DAA520",
    "running_highlight": "#FF0000",
    "selected_highlight": "#FFD700"
   },
   "moveMenuLeft": true,
   "nav_menu": {
    "height": "12px",
    "width": "252px"
   },
   "navigate_menu": true,
   "number_sections": true,
   "sideBar": true,
   "threshold": 4,
   "toc_cell": false,
   "toc_section_display": "block",
   "toc_window_display": false
  }
 },
 "nbformat": 4,
 "nbformat_minor": 2
}
