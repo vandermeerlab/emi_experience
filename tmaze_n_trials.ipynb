{
 "cells": [
  {
   "cell_type": "code",
   "execution_count": 16,
   "metadata": {
    "ExecuteTime": {
     "end_time": "2019-03-12T15:56:32.329269Z",
     "start_time": "2019-03-12T15:56:32.314277Z"
    }
   },
   "outputs": [],
   "source": [
    "%matplotlib inline\n",
    "import matplotlib.pyplot as plt\n",
    "import numpy as np\n",
    "import os\n",
    "import nept"
   ]
  },
  {
   "cell_type": "code",
   "execution_count": 17,
   "metadata": {
    "ExecuteTime": {
     "end_time": "2019-03-12T15:56:32.571235Z",
     "start_time": "2019-03-12T15:56:32.566238Z"
    }
   },
   "outputs": [],
   "source": [
    "event_labels = dict(north_feeder='TTL Output on AcqSystem1_0 board 0 port 0 value (0x0010).',\n",
    "                    north_pb='TTL Input on AcqSystem1_0 board 0 port 1 value (0x0010).',\n",
    "                    east_feeder='TTL Output on AcqSystem1_0 board 0 port 0 value (0x0020).',\n",
    "                    east_pb='TTL Input on AcqSystem1_0 board 0 port 1 value (0x0020).',\n",
    "                    south_feeder='TTL Output on AcqSystem1_0 board 0 port 0 value (0x0040).',\n",
    "                    south_pb='TTL Input on AcqSystem1_0 board 0 port 1 value (0x0040).',\n",
    "                    trial_start='trial start',\n",
    "                    trial_end='trial end')"
   ]
  },
  {
   "cell_type": "code",
   "execution_count": 18,
   "metadata": {
    "ExecuteTime": {
     "end_time": "2019-03-12T15:56:34.040094Z",
     "start_time": "2019-03-12T15:56:33.077178Z"
    }
   },
   "outputs": [],
   "source": [
    "data_filepath = \"E:\\data-experience\"\n",
    "thisdir = os.getcwd()\n",
    "output_filepath = os.path.join(thisdir, \"plots\")\n",
    "if not os.path.exists(output_filepath):\n",
    "    os.makedirs(output_filepath)\n",
    "\n",
    "n_trials = []\n",
    "mean_durations = []\n",
    "for filename in os.listdir(data_filepath):\n",
    "    date = filename[5:15]\n",
    "    \n",
    "    event_filepath = os.path.join(data_filepath, \"R171_\"+date+\"_behavior\", date+\"_Events.nev\")\n",
    "    txt_filepath = os.path.join(data_filepath, \"R171_\"+date+\"_behavior\", date+\"_tmaze.txt\")\n",
    "    \n",
    "    events = nept.load_events(os.path.join(data_filepath, event_filepath), event_labels)\n",
    "    \n",
    "    starts = events[\"trial_start\"]\n",
    "    stops = events[\"trial_end\"]\n",
    "    if len(starts) > len(stops):\n",
    "        starts = starts[:-1]\n",
    "    if stops[0]-starts[0] > 0:\n",
    "        trials = nept.Epoch(starts, stops)\n",
    "\n",
    "        n_trials.append(trials.n_epochs)\n",
    "        mean_durations.append(np.mean(trials.durations))"
   ]
  },
  {
   "cell_type": "code",
   "execution_count": 19,
   "metadata": {
    "ExecuteTime": {
     "end_time": "2019-03-12T15:56:34.164049Z",
     "start_time": "2019-03-12T15:56:34.042093Z"
    }
   },
   "outputs": [],
   "source": [
    "fig, ax = plt.subplots()\n",
    "x_ticks = np.arange(len(n_trials))+1\n",
    "ax.plot(x_ticks, n_trials, lw=2)\n",
    "\n",
    "ax.spines['right'].set_visible(False)\n",
    "ax.spines['top'].set_visible(False)\n",
    "ax.yaxis.set_ticks_position('left')\n",
    "ax.xaxis.set_ticks_position('bottom')\n",
    "\n",
    "plt.xlabel(\"Day\")\n",
    "plt.ylabel(\"Number of trials\")\n",
    "plt.title(\"R171 T-maze in RR2\")\n",
    "ax.set_xticks(x_ticks)\n",
    "plt.savefig(os.path.join(output_filepath, \"R171_n-trials.png\"))\n",
    "plt.close()\n",
    "# plt.show()"
   ]
  },
  {
   "cell_type": "code",
   "execution_count": 20,
   "metadata": {
    "ExecuteTime": {
     "end_time": "2019-03-12T15:56:34.281982Z",
     "start_time": "2019-03-12T15:56:34.165023Z"
    }
   },
   "outputs": [],
   "source": [
    "fig, ax = plt.subplots()\n",
    "x_ticks = np.arange(len(mean_durations))+1\n",
    "ax.plot(x_ticks, mean_durations, lw=2)\n",
    "\n",
    "ax.spines['right'].set_visible(False)\n",
    "ax.spines['top'].set_visible(False)\n",
    "ax.yaxis.set_ticks_position('left')\n",
    "ax.xaxis.set_ticks_position('bottom')\n",
    "\n",
    "plt.xlabel(\"Day\")\n",
    "plt.ylabel(\"Mean trial duration (s)\")\n",
    "plt.title(\"R171 T-maze in RR2\")\n",
    "ax.set_xticks(x_ticks)\n",
    "plt.savefig(os.path.join(output_filepath, \"R171_mean-durations.png\"))\n",
    "plt.close()\n",
    "# plt.show()"
   ]
  },
  {
   "cell_type": "code",
   "execution_count": null,
   "metadata": {},
   "outputs": [],
   "source": []
  }
 ],
 "metadata": {
  "kernelspec": {
   "display_name": "Python 3",
   "language": "python",
   "name": "python3"
  },
  "language_info": {
   "codemirror_mode": {
    "name": "ipython",
    "version": 3
   },
   "file_extension": ".py",
   "mimetype": "text/x-python",
   "name": "python",
   "nbconvert_exporter": "python",
   "pygments_lexer": "ipython3",
   "version": "3.6.5"
  },
  "toc": {
   "colors": {
    "hover_highlight": "#DAA520",
    "running_highlight": "#FF0000",
    "selected_highlight": "#FFD700"
   },
   "moveMenuLeft": true,
   "nav_menu": {
    "height": "12px",
    "width": "252px"
   },
   "navigate_menu": true,
   "number_sections": true,
   "sideBar": true,
   "threshold": 4,
   "toc_cell": false,
   "toc_section_display": "block",
   "toc_window_display": false
  }
 },
 "nbformat": 4,
 "nbformat_minor": 2
}
