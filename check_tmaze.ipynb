{
 "cells": [
  {
   "cell_type": "code",
   "execution_count": null,
   "metadata": {
    "ExecuteTime": {
     "end_time": "2019-04-18T16:32:09.117484Z",
     "start_time": "2019-04-18T16:32:05.744767Z"
    },
    "collapsed": true
   },
   "outputs": [],
   "source": [
    "%matplotlib inline\n",
    "import matplotlib.pyplot as plt\n",
    "import numpy as np\n",
    "import os\n",
    "import nept"
   ]
  },
  {
   "cell_type": "code",
   "execution_count": null,
   "metadata": {
    "ExecuteTime": {
     "end_time": "2019-04-18T16:32:09.123560Z",
     "start_time": "2019-04-18T16:32:09.117484Z"
    },
    "collapsed": true
   },
   "outputs": [],
   "source": [
    "thisdir = os.getcwd()\n",
    "data_filepath = os.path.join(thisdir, \"cache\", \"data\")\n",
    "output_filepath = os.path.join(thisdir, \"plots\", \"tmaze\")\n",
    "if not os.path.exists(output_filepath):\n",
    "    os.makedirs(output_filepath)"
   ]
  },
  {
   "cell_type": "code",
   "execution_count": null,
   "metadata": {
    "ExecuteTime": {
     "end_time": "2019-04-18T16:33:53.369085Z",
     "start_time": "2019-04-18T16:33:53.365087Z"
    },
    "collapsed": true
   },
   "outputs": [],
   "source": [
    "rat = \"R182\"\n",
    "date = \"2019-04-18\"\n",
    "\n",
    "event_filepath = os.path.join(data_filepath, rat, rat+\"_\"+date+\"_behavior\", date+\"_Events.nev\")"
   ]
  },
  {
   "cell_type": "code",
   "execution_count": null,
   "metadata": {
    "ExecuteTime": {
     "end_time": "2019-04-18T16:33:53.611031Z",
     "start_time": "2019-04-18T16:33:53.605035Z"
    },
    "collapsed": true
   },
   "outputs": [],
   "source": [
    "event_labels = dict(north_feeder='TTL Output on AcqSystem1_0 board 0 port 0 value (0x0010).',\n",
    "                    not_north_feeder='NOT firing feeder NorthFeeder',\n",
    "                    north_pb='TTL Input on AcqSystem1_0 board 0 port 1 value (0x0010).',\n",
    "                    east_feeder='TTL Output on AcqSystem1_0 board 0 port 0 value (0x0020).',\n",
    "                    not_east_feeder='NOT firing feeder EastFeeder',\n",
    "                    east_pb='TTL Input on AcqSystem1_0 board 0 port 1 value (0x0020).',\n",
    "                    south_feeder='TTL Output on AcqSystem1_0 board 0 port 0 value (0x0040).',\n",
    "                    not_south_feeder='NOT firing feeder SouthFeeder',\n",
    "                    south_pb='TTL Input on AcqSystem1_0 board 0 port 1 value (0x0040).',\n",
    "                    trial_start='trial start',\n",
    "                    trial_end='trial end')"
   ]
  },
  {
   "cell_type": "code",
   "execution_count": null,
   "metadata": {
    "ExecuteTime": {
     "end_time": "2019-04-18T16:33:53.805539Z",
     "start_time": "2019-04-18T16:33:53.790566Z"
    },
    "collapsed": true
   },
   "outputs": [],
   "source": [
    "events = nept.load_events(os.path.join(data_filepath, event_filepath), event_labels)"
   ]
  },
  {
   "cell_type": "code",
   "execution_count": null,
   "metadata": {
    "ExecuteTime": {
     "end_time": "2019-04-18T16:33:54.003887Z",
     "start_time": "2019-04-18T16:33:53.997891Z"
    },
    "collapsed": true,
    "scrolled": false
   },
   "outputs": [],
   "source": [
    "feeders = [\"north_feeder\", \"east_feeder\", \"south_feeder\"]\n",
    "for feeder in feeders:\n",
    "    print(feeder)\n",
    "    print(events[feeder])"
   ]
  },
  {
   "cell_type": "code",
   "execution_count": null,
   "metadata": {
    "ExecuteTime": {
     "end_time": "2019-04-18T16:33:54.238413Z",
     "start_time": "2019-04-18T16:33:54.229438Z"
    },
    "collapsed": true
   },
   "outputs": [],
   "source": [
    "pbs = [\"north_pb\", \"east_pb\", \"south_pb\"]\n",
    "for pb in pbs:\n",
    "    print(pb)\n",
    "    print(events[pb])"
   ]
  },
  {
   "cell_type": "code",
   "execution_count": null,
   "metadata": {
    "ExecuteTime": {
     "end_time": "2019-04-18T16:33:54.458786Z",
     "start_time": "2019-04-18T16:33:54.453790Z"
    },
    "collapsed": true
   },
   "outputs": [],
   "source": [
    "print(events[\"trial_start\"])"
   ]
  },
  {
   "cell_type": "code",
   "execution_count": null,
   "metadata": {
    "ExecuteTime": {
     "end_time": "2019-04-18T16:33:54.714613Z",
     "start_time": "2019-04-18T16:33:54.709635Z"
    },
    "collapsed": true
   },
   "outputs": [],
   "source": [
    "print(events[\"trial_end\"])"
   ]
  },
  {
   "cell_type": "code",
   "execution_count": null,
   "metadata": {
    "collapsed": true
   },
   "outputs": [],
   "source": []
  },
  {
   "cell_type": "code",
   "execution_count": null,
   "metadata": {
    "collapsed": true
   },
   "outputs": [],
   "source": []
  },
  {
   "cell_type": "code",
   "execution_count": null,
   "metadata": {
    "ExecuteTime": {
     "end_time": "2019-04-18T16:33:55.513827Z",
     "start_time": "2019-04-18T16:33:55.509828Z"
    },
    "collapsed": true
   },
   "outputs": [],
   "source": [
    "print(len(events[\"trial_start\"]), len(events[\"trial_end\"]))"
   ]
  },
  {
   "cell_type": "code",
   "execution_count": null,
   "metadata": {
    "ExecuteTime": {
     "end_time": "2019-04-18T16:33:55.803872Z",
     "start_time": "2019-04-18T16:33:55.797895Z"
    },
    "collapsed": true
   },
   "outputs": [],
   "source": [
    "events[\"trial_start\"]"
   ]
  },
  {
   "cell_type": "code",
   "execution_count": null,
   "metadata": {
    "ExecuteTime": {
     "end_time": "2019-04-18T16:33:56.203143Z",
     "start_time": "2019-04-18T16:33:56.197144Z"
    },
    "collapsed": true
   },
   "outputs": [],
   "source": [
    "events[\"trial_end\"]"
   ]
  },
  {
   "cell_type": "code",
   "execution_count": null,
   "metadata": {
    "ExecuteTime": {
     "end_time": "2019-04-18T16:33:56.608985Z",
     "start_time": "2019-04-18T16:33:56.604968Z"
    },
    "collapsed": true
   },
   "outputs": [],
   "source": [
    "# starts = events[\"trial_start\"]\n",
    "# stops = events[\"trial_end\"][1:]\n",
    "# trials = nept.Epoch(starts, stops)"
   ]
  },
  {
   "cell_type": "code",
   "execution_count": null,
   "metadata": {
    "ExecuteTime": {
     "end_time": "2019-04-18T16:33:57.433366Z",
     "start_time": "2019-04-18T16:33:57.429368Z"
    },
    "collapsed": true
   },
   "outputs": [],
   "source": [
    "starts = events[\"trial_start\"]\n",
    "stops = events[\"trial_end\"]\n",
    "trials = nept.Epoch(starts, stops)"
   ]
  },
  {
   "cell_type": "code",
   "execution_count": null,
   "metadata": {
    "ExecuteTime": {
     "end_time": "2019-04-18T16:33:57.843199Z",
     "start_time": "2019-04-18T16:33:57.837202Z"
    },
    "collapsed": true
   },
   "outputs": [],
   "source": [
    "trials.durations"
   ]
  },
  {
   "cell_type": "code",
   "execution_count": null,
   "metadata": {
    "ExecuteTime": {
     "end_time": "2019-04-18T16:33:58.297353Z",
     "start_time": "2019-04-18T16:33:58.293356Z"
    },
    "collapsed": true
   },
   "outputs": [],
   "source": [
    "# if len(events[\"trial_start\"]) > len(events[\"trial_end\"]):\n",
    "#     print(\"ere\")\n",
    "#     starts = events[\"trial_start\"][:-1]\n",
    "#     stops = events[\"trial_end\"]\n",
    "# elif len(events[\"trial_start\"]) < len(events[\"trial_end\"]):\n",
    "#     print(\"bdhj\")\n",
    "#     starts = events[\"trial_start\"]\n",
    "#     stops = events[\"trial_end\"][:-1]\n",
    "# else:\n",
    "#     print(\"ujk\")\n",
    "#     starts = events[\"trial_start\"]\n",
    "#     stops = events[\"trial_end\"]\n",
    "# trials = nept.Epoch(starts, stops)"
   ]
  },
  {
   "cell_type": "code",
   "execution_count": null,
   "metadata": {
    "ExecuteTime": {
     "end_time": "2019-04-18T16:33:58.627051Z",
     "start_time": "2019-04-18T16:33:58.622072Z"
    },
    "collapsed": true
   },
   "outputs": [],
   "source": [
    "trials.n_epochs"
   ]
  },
  {
   "cell_type": "code",
   "execution_count": null,
   "metadata": {
    "ExecuteTime": {
     "end_time": "2019-04-18T16:33:58.938551Z",
     "start_time": "2019-04-18T16:33:58.933554Z"
    },
    "collapsed": true
   },
   "outputs": [],
   "source": [
    "print(\"Mean duration: \", np.round(np.mean(trials.durations), 1), \"seconds\")"
   ]
  },
  {
   "cell_type": "code",
   "execution_count": null,
   "metadata": {
    "collapsed": true
   },
   "outputs": [],
   "source": []
  },
  {
   "cell_type": "code",
   "execution_count": null,
   "metadata": {
    "ExecuteTime": {
     "end_time": "2019-04-18T16:33:46.897273Z",
     "start_time": "2019-04-18T16:33:46.893276Z"
    },
    "collapsed": true
   },
   "outputs": [],
   "source": [
    "feeders = [\"north_feeder\", \"east_feeder\", \"south_feeder\"]\n",
    "photobeams = [\"north_pb\", \"east_pb\", \"south_pb\"]"
   ]
  },
  {
   "cell_type": "code",
   "execution_count": null,
   "metadata": {
    "ExecuteTime": {
     "end_time": "2019-04-18T16:33:47.226145Z",
     "start_time": "2019-04-18T16:33:47.110194Z"
    },
    "collapsed": true
   },
   "outputs": [],
   "source": [
    "fig, ax = plt.subplots()\n",
    "legend = []\n",
    "for feeder in feeders:\n",
    "    plt.plot(events[feeder], np.ones(len(events[feeder])), \"|\", ms=10, mew=5)\n",
    "    legend.append(feeder)\n",
    "    \n",
    "for photobeam in photobeams:\n",
    "    plt.plot(events[photobeam], np.ones(len(events[photobeam]))+0.1, \"|\", ms=10, mew=1)\n",
    "#     legend.append(photobeam)\n",
    "    \n",
    "ax.axes.get_yaxis().set_visible(False)\n",
    "ax.spines['top'].set_visible(False)\n",
    "plt.xlabel(\"time (s)\")\n",
    "plt.legend(legend)\n",
    "plt.title(\"Test T-maze\")\n",
    "plt.ylim(0, 2)\n",
    "\n",
    "plt.show()"
   ]
  },
  {
   "cell_type": "code",
   "execution_count": null,
   "metadata": {
    "collapsed": true
   },
   "outputs": [],
   "source": []
  },
  {
   "cell_type": "code",
   "execution_count": null,
   "metadata": {
    "collapsed": true
   },
   "outputs": [],
   "source": []
  }
 ],
 "metadata": {
  "kernelspec": {
   "display_name": "Python 3",
   "language": "python",
   "name": "python3"
  },
  "language_info": {
   "codemirror_mode": {
    "name": "ipython",
    "version": 3
   },
   "file_extension": ".py",
   "mimetype": "text/x-python",
   "name": "python",
   "nbconvert_exporter": "python",
   "pygments_lexer": "ipython3",
   "version": "3.6.5"
  },
  "toc": {
   "colors": {
    "hover_highlight": "#DAA520",
    "running_highlight": "#FF0000",
    "selected_highlight": "#FFD700"
   },
   "moveMenuLeft": true,
   "nav_menu": {
    "height": "12px",
    "width": "252px"
   },
   "navigate_menu": true,
   "number_sections": true,
   "sideBar": true,
   "threshold": 4,
   "toc_cell": false,
   "toc_section_display": "block",
   "toc_window_display": false
  }
 },
 "nbformat": 4,
 "nbformat_minor": 2
}
