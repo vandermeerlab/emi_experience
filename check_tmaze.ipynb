{
 "cells": [
  {
   "cell_type": "code",
   "execution_count": null,
   "metadata": {
    "ExecuteTime": {
     "end_time": "2019-04-15T18:48:39.360977Z",
     "start_time": "2019-04-15T18:48:38.629195Z"
    }
   },
   "outputs": [],
   "source": [
    "%matplotlib inline\n",
    "import matplotlib.pyplot as plt\n",
    "import numpy as np\n",
    "import os\n",
    "import nept"
   ]
  },
  {
   "cell_type": "code",
   "execution_count": null,
   "metadata": {
    "ExecuteTime": {
     "end_time": "2019-04-15T18:48:39.366512Z",
     "start_time": "2019-04-15T18:48:39.360977Z"
    }
   },
   "outputs": [],
   "source": [
    "thisdir = os.getcwd()\n",
    "data_filepath = os.path.join(thisdir, \"cache\", \"data\")\n",
    "output_filepath = os.path.join(thisdir, \"plots\", \"tmaze\")\n",
    "if not os.path.exists(output_filepath):\n",
    "    os.makedirs(output_filepath)"
   ]
  },
  {
   "cell_type": "code",
   "execution_count": null,
   "metadata": {
    "ExecuteTime": {
     "end_time": "2019-04-15T18:49:03.809645Z",
     "start_time": "2019-04-15T18:49:03.804631Z"
    }
   },
   "outputs": [],
   "source": [
    "rat = \"R181\"\n",
    "date = \"2019-04-15\"\n",
    "\n",
    "event_filepath = os.path.join(data_filepath, rat, rat+\"_\"+date+\"_behavior\", date+\"_Events.nev\")"
   ]
  },
  {
   "cell_type": "code",
   "execution_count": null,
   "metadata": {
    "ExecuteTime": {
     "end_time": "2019-04-15T18:49:04.131408Z",
     "start_time": "2019-04-15T18:49:04.125412Z"
    }
   },
   "outputs": [],
   "source": [
    "event_labels = dict(north_feeder='TTL Output on AcqSystem1_0 board 0 port 0 value (0x0010).',\n",
    "                    not_north_feeder='NOT firing feeder NorthFeeder',\n",
    "                    north_pb='TTL Input on AcqSystem1_0 board 0 port 1 value (0x0010).',\n",
    "                    east_feeder='TTL Output on AcqSystem1_0 board 0 port 0 value (0x0020).',\n",
    "                    not_east_feeder='NOT firing feeder EastFeeder',\n",
    "                    east_pb='TTL Input on AcqSystem1_0 board 0 port 1 value (0x0020).',\n",
    "                    south_feeder='TTL Output on AcqSystem1_0 board 0 port 0 value (0x0040).',\n",
    "                    not_south_feeder='NOT firing feeder SouthFeeder',\n",
    "                    south_pb='TTL Input on AcqSystem1_0 board 0 port 1 value (0x0040).',\n",
    "                    trial_start='trial start',\n",
    "                    trial_end='trial end')"
   ]
  },
  {
   "cell_type": "code",
   "execution_count": null,
   "metadata": {
    "ExecuteTime": {
     "end_time": "2019-04-15T18:49:04.357610Z",
     "start_time": "2019-04-15T18:49:04.342638Z"
    }
   },
   "outputs": [],
   "source": [
    "events = nept.load_events(os.path.join(data_filepath, event_filepath), event_labels)"
   ]
  },
  {
   "cell_type": "code",
   "execution_count": null,
   "metadata": {
    "ExecuteTime": {
     "end_time": "2019-04-15T18:49:04.593826Z",
     "start_time": "2019-04-15T18:49:04.588829Z"
    },
    "scrolled": false
   },
   "outputs": [],
   "source": [
    "feeders = [\"north_feeder\", \"east_feeder\", \"south_feeder\"]\n",
    "for feeder in feeders:\n",
    "    print(feeder)\n",
    "    print(events[feeder])"
   ]
  },
  {
   "cell_type": "code",
   "execution_count": null,
   "metadata": {
    "ExecuteTime": {
     "end_time": "2019-04-15T18:49:04.875664Z",
     "start_time": "2019-04-15T18:49:04.868669Z"
    }
   },
   "outputs": [],
   "source": [
    "pbs = [\"north_pb\", \"east_pb\", \"south_pb\"]\n",
    "for pb in pbs:\n",
    "    print(pb)\n",
    "    print(events[pb])"
   ]
  },
  {
   "cell_type": "code",
   "execution_count": null,
   "metadata": {
    "ExecuteTime": {
     "end_time": "2019-04-15T18:49:05.137514Z",
     "start_time": "2019-04-15T18:49:05.132518Z"
    }
   },
   "outputs": [],
   "source": [
    "print(events[\"trial_start\"])"
   ]
  },
  {
   "cell_type": "code",
   "execution_count": null,
   "metadata": {
    "ExecuteTime": {
     "end_time": "2019-04-15T18:49:05.359388Z",
     "start_time": "2019-04-15T18:49:05.356389Z"
    }
   },
   "outputs": [],
   "source": [
    "print(events[\"trial_end\"])"
   ]
  },
  {
   "cell_type": "code",
   "execution_count": null,
   "metadata": {},
   "outputs": [],
   "source": []
  },
  {
   "cell_type": "code",
   "execution_count": null,
   "metadata": {},
   "outputs": [],
   "source": []
  },
  {
   "cell_type": "code",
   "execution_count": null,
   "metadata": {
    "ExecuteTime": {
     "end_time": "2019-04-15T18:49:06.025659Z",
     "start_time": "2019-04-15T18:49:06.020662Z"
    }
   },
   "outputs": [],
   "source": [
    "print(len(events[\"trial_start\"]), len(events[\"trial_end\"]))"
   ]
  },
  {
   "cell_type": "code",
   "execution_count": null,
   "metadata": {
    "ExecuteTime": {
     "end_time": "2019-04-15T18:49:06.259613Z",
     "start_time": "2019-04-15T18:49:06.253616Z"
    }
   },
   "outputs": [],
   "source": [
    "events[\"trial_start\"]"
   ]
  },
  {
   "cell_type": "code",
   "execution_count": null,
   "metadata": {
    "ExecuteTime": {
     "end_time": "2019-04-15T18:49:06.531349Z",
     "start_time": "2019-04-15T18:49:06.525372Z"
    }
   },
   "outputs": [],
   "source": [
    "events[\"trial_end\"]"
   ]
  },
  {
   "cell_type": "code",
   "execution_count": null,
   "metadata": {
    "ExecuteTime": {
     "end_time": "2019-04-15T18:49:06.856865Z",
     "start_time": "2019-04-15T18:49:06.853867Z"
    }
   },
   "outputs": [],
   "source": [
    "# starts = events[\"trial_start\"]\n",
    "# stops = events[\"trial_end\"][1:]\n",
    "# trials = nept.Epoch(starts, stops)"
   ]
  },
  {
   "cell_type": "code",
   "execution_count": null,
   "metadata": {
    "ExecuteTime": {
     "end_time": "2019-04-15T18:49:07.162957Z",
     "start_time": "2019-04-15T18:49:07.157960Z"
    }
   },
   "outputs": [],
   "source": [
    "starts = events[\"trial_start\"]\n",
    "stops = events[\"trial_end\"]\n",
    "trials = nept.Epoch(starts, stops)"
   ]
  },
  {
   "cell_type": "code",
   "execution_count": null,
   "metadata": {
    "ExecuteTime": {
     "end_time": "2019-04-15T18:49:07.490803Z",
     "start_time": "2019-04-15T18:49:07.485807Z"
    }
   },
   "outputs": [],
   "source": [
    "trials.durations"
   ]
  },
  {
   "cell_type": "code",
   "execution_count": null,
   "metadata": {
    "ExecuteTime": {
     "end_time": "2019-04-15T18:49:08.305596Z",
     "start_time": "2019-04-15T18:49:08.301599Z"
    }
   },
   "outputs": [],
   "source": [
    "# if len(events[\"trial_start\"]) > len(events[\"trial_end\"]):\n",
    "#     print(\"ere\")\n",
    "#     starts = events[\"trial_start\"][:-1]\n",
    "#     stops = events[\"trial_end\"]\n",
    "# elif len(events[\"trial_start\"]) < len(events[\"trial_end\"]):\n",
    "#     print(\"bdhj\")\n",
    "#     starts = events[\"trial_start\"]\n",
    "#     stops = events[\"trial_end\"][:-1]\n",
    "# else:\n",
    "#     print(\"ujk\")\n",
    "#     starts = events[\"trial_start\"]\n",
    "#     stops = events[\"trial_end\"]\n",
    "# trials = nept.Epoch(starts, stops)"
   ]
  },
  {
   "cell_type": "code",
   "execution_count": null,
   "metadata": {
    "ExecuteTime": {
     "end_time": "2019-04-15T18:49:08.578056Z",
     "start_time": "2019-04-15T18:49:08.574076Z"
    }
   },
   "outputs": [],
   "source": [
    "trials.n_epochs"
   ]
  },
  {
   "cell_type": "code",
   "execution_count": null,
   "metadata": {
    "ExecuteTime": {
     "end_time": "2019-04-15T18:49:08.970353Z",
     "start_time": "2019-04-15T18:49:08.965375Z"
    }
   },
   "outputs": [],
   "source": [
    "print(\"Mean duration: \", np.round(np.mean(trials.durations), 1), \"seconds\")"
   ]
  },
  {
   "cell_type": "code",
   "execution_count": null,
   "metadata": {},
   "outputs": [],
   "source": []
  },
  {
   "cell_type": "code",
   "execution_count": null,
   "metadata": {
    "ExecuteTime": {
     "end_time": "2019-04-09T15:42:37.704566Z",
     "start_time": "2019-04-09T15:42:37.700568Z"
    }
   },
   "outputs": [],
   "source": [
    "feeders = [\"north_feeder\", \"east_feeder\", \"south_feeder\"]\n",
    "photobeams = [\"north_pb\", \"east_pb\", \"south_pb\"]"
   ]
  },
  {
   "cell_type": "code",
   "execution_count": null,
   "metadata": {
    "ExecuteTime": {
     "end_time": "2019-04-09T15:42:40.374939Z",
     "start_time": "2019-04-09T15:42:40.165264Z"
    }
   },
   "outputs": [],
   "source": [
    "fig, ax = plt.subplots()\n",
    "legend = []\n",
    "for feeder in feeders:\n",
    "    plt.plot(events[feeder], np.ones(len(events[feeder])), \"|\", ms=10, mew=5)\n",
    "    legend.append(feeder)\n",
    "    \n",
    "for photobeam in photobeams:\n",
    "    plt.plot(events[photobeam], np.ones(len(events[photobeam]))+0.1, \"|\", ms=10, mew=1)\n",
    "#     legend.append(photobeam)\n",
    "    \n",
    "ax.axes.get_yaxis().set_visible(False)\n",
    "ax.spines['top'].set_visible(False)\n",
    "plt.xlabel(\"time (s)\")\n",
    "plt.legend(legend)\n",
    "plt.title(\"Test T-maze\")\n",
    "plt.ylim(0, 2)\n",
    "\n",
    "plt.show()"
   ]
  },
  {
   "cell_type": "code",
   "execution_count": null,
   "metadata": {},
   "outputs": [],
   "source": []
  }
 ],
 "metadata": {
  "kernelspec": {
   "display_name": "Python 3",
   "language": "python",
   "name": "python3"
  },
  "language_info": {
   "codemirror_mode": {
    "name": "ipython",
    "version": 3
   },
   "file_extension": ".py",
   "mimetype": "text/x-python",
   "name": "python",
   "nbconvert_exporter": "python",
   "pygments_lexer": "ipython3",
   "version": "3.6.5"
  },
  "toc": {
   "colors": {
    "hover_highlight": "#DAA520",
    "running_highlight": "#FF0000",
    "selected_highlight": "#FFD700"
   },
   "moveMenuLeft": true,
   "nav_menu": {
    "height": "12px",
    "width": "252px"
   },
   "navigate_menu": true,
   "number_sections": true,
   "sideBar": true,
   "threshold": 4,
   "toc_cell": false,
   "toc_section_display": "block",
   "toc_window_display": false
  }
 },
 "nbformat": 4,
 "nbformat_minor": 2
}
