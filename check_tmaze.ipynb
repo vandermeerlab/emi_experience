{
 "cells": [
  {
   "cell_type": "code",
   "execution_count": null,
   "metadata": {
    "ExecuteTime": {
     "end_time": "2019-07-03T16:06:59.514697Z",
     "start_time": "2019-07-03T16:06:56.760131Z"
    }
   },
   "outputs": [],
   "source": [
    "%matplotlib inline\n",
    "import matplotlib.pyplot as plt\n",
    "import numpy as np\n",
    "import os\n",
    "import nept"
   ]
  },
  {
   "cell_type": "code",
   "execution_count": null,
   "metadata": {
    "ExecuteTime": {
     "end_time": "2019-07-03T16:11:08.663450Z",
     "start_time": "2019-07-03T16:11:08.659454Z"
    }
   },
   "outputs": [],
   "source": [
    "thisdir = os.getcwd()\n",
    "data_filepath = os.path.join(thisdir, \"cache\", \"data\")\n",
    "output_filepath = os.path.join(thisdir, \"plots\", \"tmaze\")\n",
    "if not os.path.exists(output_filepath):\n",
    "    os.makedirs(output_filepath)"
   ]
  },
  {
   "cell_type": "code",
   "execution_count": null,
   "metadata": {
    "ExecuteTime": {
     "end_time": "2019-07-03T16:20:00.806847Z",
     "start_time": "2019-07-03T16:20:00.802850Z"
    }
   },
   "outputs": [],
   "source": [
    "rat = \"R171\"\n",
    "date = \"2019-02-18\"\n",
    "\n",
    "# event_filepath = os.path.join(data_filepath, rat, rat+\"_\"+date+\"_behavior\", date+\"_Events.nev\")\n",
    "event_filepath = \"E:\\\\data\\\\data-experience\\\\R171\\\\RR1\\\\R171_2019-03-14_behavior\\\\2019-03-14_Events.nev\""
   ]
  },
  {
   "cell_type": "code",
   "execution_count": null,
   "metadata": {
    "ExecuteTime": {
     "end_time": "2019-07-03T16:20:01.168107Z",
     "start_time": "2019-07-03T16:20:01.162091Z"
    }
   },
   "outputs": [],
   "source": [
    "event_labels = dict(north_feeder='TTL Output on AcqSystem1_0 board 0 port 0 value (0x0010).',\n",
    "                    not_north_feeder='NOT firing feeder NorthFeeder',\n",
    "                    north_pb='TTL Input on AcqSystem1_0 board 0 port 1 value (0x0010).',\n",
    "                    east_feeder='TTL Output on AcqSystem1_0 board 0 port 0 value (0x0020).',\n",
    "                    not_east_feeder='NOT firing feeder EastFeeder',\n",
    "                    east_pb='TTL Input on AcqSystem1_0 board 0 port 1 value (0x0020).',\n",
    "                    south_feeder='TTL Output on AcqSystem1_0 board 0 port 0 value (0x0040).',\n",
    "                    not_south_feeder='NOT firing feeder SouthFeeder',\n",
    "                    south_pb='TTL Input on AcqSystem1_0 board 0 port 1 value (0x0040).',\n",
    "                    trial_start='trial start',\n",
    "                    trial_end='trial end')"
   ]
  },
  {
   "cell_type": "code",
   "execution_count": null,
   "metadata": {
    "ExecuteTime": {
     "end_time": "2019-07-03T16:20:02.314595Z",
     "start_time": "2019-07-03T16:20:02.066839Z"
    }
   },
   "outputs": [],
   "source": [
    "events = nept.load_events(event_filepath, event_labels)"
   ]
  },
  {
   "cell_type": "code",
   "execution_count": null,
   "metadata": {
    "ExecuteTime": {
     "end_time": "2019-07-03T16:20:03.447896Z",
     "start_time": "2019-07-03T16:20:03.442918Z"
    },
    "scrolled": false
   },
   "outputs": [],
   "source": [
    "feeders = [\"north_feeder\", \"east_feeder\", \"south_feeder\"]\n",
    "for feeder in feeders:\n",
    "    print(feeder)\n",
    "    print(events[feeder])"
   ]
  },
  {
   "cell_type": "code",
   "execution_count": null,
   "metadata": {
    "ExecuteTime": {
     "end_time": "2019-07-03T16:20:05.659297Z",
     "start_time": "2019-07-03T16:20:05.650304Z"
    }
   },
   "outputs": [],
   "source": [
    "pbs = [\"north_pb\", \"east_pb\", \"south_pb\"]\n",
    "for pb in pbs:\n",
    "    print(pb)\n",
    "    print(events[pb])"
   ]
  },
  {
   "cell_type": "code",
   "execution_count": null,
   "metadata": {
    "ExecuteTime": {
     "end_time": "2019-07-03T16:20:07.615863Z",
     "start_time": "2019-07-03T16:20:07.610866Z"
    }
   },
   "outputs": [],
   "source": [
    "print(events[\"trial_start\"])"
   ]
  },
  {
   "cell_type": "code",
   "execution_count": null,
   "metadata": {
    "ExecuteTime": {
     "end_time": "2019-07-03T16:20:08.262751Z",
     "start_time": "2019-07-03T16:20:08.258773Z"
    }
   },
   "outputs": [],
   "source": [
    "print(events[\"trial_end\"])"
   ]
  },
  {
   "cell_type": "code",
   "execution_count": null,
   "metadata": {},
   "outputs": [],
   "source": []
  },
  {
   "cell_type": "code",
   "execution_count": null,
   "metadata": {},
   "outputs": [],
   "source": []
  },
  {
   "cell_type": "code",
   "execution_count": null,
   "metadata": {
    "ExecuteTime": {
     "end_time": "2019-07-03T16:20:10.173606Z",
     "start_time": "2019-07-03T16:20:10.170608Z"
    }
   },
   "outputs": [],
   "source": [
    "print(len(events[\"trial_start\"]), len(events[\"trial_end\"]))"
   ]
  },
  {
   "cell_type": "code",
   "execution_count": null,
   "metadata": {
    "ExecuteTime": {
     "end_time": "2019-07-03T16:20:10.608452Z",
     "start_time": "2019-07-03T16:20:10.602477Z"
    }
   },
   "outputs": [],
   "source": [
    "events[\"trial_start\"]"
   ]
  },
  {
   "cell_type": "code",
   "execution_count": null,
   "metadata": {
    "ExecuteTime": {
     "end_time": "2019-07-03T16:20:12.128594Z",
     "start_time": "2019-07-03T16:20:12.122598Z"
    }
   },
   "outputs": [],
   "source": [
    "events[\"trial_end\"]"
   ]
  },
  {
   "cell_type": "code",
   "execution_count": null,
   "metadata": {
    "ExecuteTime": {
     "end_time": "2019-07-03T16:14:09.640233Z",
     "start_time": "2019-07-03T16:14:09.635236Z"
    }
   },
   "outputs": [],
   "source": [
    "starts = events[\"trial_start\"][:-1]\n",
    "stops = events[\"trial_end\"]\n",
    "trials = nept.Epoch(starts, stops)"
   ]
  },
  {
   "cell_type": "code",
   "execution_count": null,
   "metadata": {
    "ExecuteTime": {
     "end_time": "2019-07-03T16:18:11.979832Z",
     "start_time": "2019-07-03T16:18:11.973834Z"
    }
   },
   "outputs": [],
   "source": [
    "np.mean(trials.durations)/60"
   ]
  },
  {
   "cell_type": "code",
   "execution_count": null,
   "metadata": {
    "ExecuteTime": {
     "end_time": "2019-07-03T16:20:16.037303Z",
     "start_time": "2019-07-03T16:20:16.033305Z"
    }
   },
   "outputs": [],
   "source": [
    "starts = events[\"trial_start\"]\n",
    "stops = events[\"trial_end\"]\n",
    "trials = nept.Epoch(starts, stops)"
   ]
  },
  {
   "cell_type": "code",
   "execution_count": null,
   "metadata": {
    "ExecuteTime": {
     "end_time": "2019-07-03T16:20:37.576056Z",
     "start_time": "2019-07-03T16:20:37.571061Z"
    }
   },
   "outputs": [],
   "source": [
    "np.mean(trials.durations)/60"
   ]
  },
  {
   "cell_type": "code",
   "execution_count": null,
   "metadata": {
    "ExecuteTime": {
     "end_time": "2019-04-18T16:33:58.297353Z",
     "start_time": "2019-04-18T16:33:58.293356Z"
    }
   },
   "outputs": [],
   "source": [
    "# if len(events[\"trial_start\"]) > len(events[\"trial_end\"]):\n",
    "#     print(\"ere\")\n",
    "#     starts = events[\"trial_start\"][:-1]\n",
    "#     stops = events[\"trial_end\"]\n",
    "# elif len(events[\"trial_start\"]) < len(events[\"trial_end\"]):\n",
    "#     print(\"bdhj\")\n",
    "#     starts = events[\"trial_start\"]\n",
    "#     stops = events[\"trial_end\"][:-1]\n",
    "# else:\n",
    "#     print(\"ujk\")\n",
    "#     starts = events[\"trial_start\"]\n",
    "#     stops = events[\"trial_end\"]\n",
    "# trials = nept.Epoch(starts, stops)"
   ]
  },
  {
   "cell_type": "code",
   "execution_count": null,
   "metadata": {
    "ExecuteTime": {
     "end_time": "2019-04-18T16:33:58.627051Z",
     "start_time": "2019-04-18T16:33:58.622072Z"
    }
   },
   "outputs": [],
   "source": [
    "trials.n_epochs"
   ]
  },
  {
   "cell_type": "code",
   "execution_count": null,
   "metadata": {
    "ExecuteTime": {
     "end_time": "2019-04-18T16:33:58.938551Z",
     "start_time": "2019-04-18T16:33:58.933554Z"
    }
   },
   "outputs": [],
   "source": [
    "print(\"Mean duration: \", np.round(np.mean(trials.durations), 1), \"seconds\")"
   ]
  },
  {
   "cell_type": "code",
   "execution_count": null,
   "metadata": {},
   "outputs": [],
   "source": []
  },
  {
   "cell_type": "code",
   "execution_count": null,
   "metadata": {
    "ExecuteTime": {
     "end_time": "2019-04-18T16:33:46.897273Z",
     "start_time": "2019-04-18T16:33:46.893276Z"
    }
   },
   "outputs": [],
   "source": [
    "feeders = [\"north_feeder\", \"east_feeder\", \"south_feeder\"]\n",
    "photobeams = [\"north_pb\", \"east_pb\", \"south_pb\"]"
   ]
  },
  {
   "cell_type": "code",
   "execution_count": null,
   "metadata": {
    "ExecuteTime": {
     "end_time": "2019-04-18T16:33:47.226145Z",
     "start_time": "2019-04-18T16:33:47.110194Z"
    }
   },
   "outputs": [],
   "source": [
    "fig, ax = plt.subplots()\n",
    "legend = []\n",
    "for feeder in feeders:\n",
    "    plt.plot(events[feeder], np.ones(len(events[feeder])), \"|\", ms=10, mew=5)\n",
    "    legend.append(feeder)\n",
    "    \n",
    "for photobeam in photobeams:\n",
    "    plt.plot(events[photobeam], np.ones(len(events[photobeam]))+0.1, \"|\", ms=10, mew=1)\n",
    "#     legend.append(photobeam)\n",
    "    \n",
    "ax.axes.get_yaxis().set_visible(False)\n",
    "ax.spines['top'].set_visible(False)\n",
    "plt.xlabel(\"time (s)\")\n",
    "plt.legend(legend)\n",
    "plt.title(\"Test T-maze\")\n",
    "plt.ylim(0, 2)\n",
    "\n",
    "plt.show()"
   ]
  },
  {
   "cell_type": "code",
   "execution_count": null,
   "metadata": {},
   "outputs": [],
   "source": []
  },
  {
   "cell_type": "code",
   "execution_count": null,
   "metadata": {},
   "outputs": [],
   "source": []
  }
 ],
 "metadata": {
  "kernelspec": {
   "display_name": "Python 3",
   "language": "python",
   "name": "python3"
  },
  "language_info": {
   "codemirror_mode": {
    "name": "ipython",
    "version": 3
   },
   "file_extension": ".py",
   "mimetype": "text/x-python",
   "name": "python",
   "nbconvert_exporter": "python",
   "pygments_lexer": "ipython3",
   "version": "3.6.5"
  },
  "toc": {
   "colors": {
    "hover_highlight": "#DAA520",
    "running_highlight": "#FF0000",
    "selected_highlight": "#FFD700"
   },
   "moveMenuLeft": true,
   "nav_menu": {
    "height": "12px",
    "width": "252px"
   },
   "navigate_menu": true,
   "number_sections": true,
   "sideBar": true,
   "threshold": 4,
   "toc_cell": false,
   "toc_section_display": "block",
   "toc_window_display": false
  }
 },
 "nbformat": 4,
 "nbformat_minor": 2
}
