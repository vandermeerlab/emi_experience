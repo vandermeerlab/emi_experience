{
 "cells": [
  {
   "cell_type": "code",
   "execution_count": null,
   "metadata": {
    "collapsed": true
   },
   "outputs": [],
   "source": [
    "%matplotlib inline\n",
    "import matplotlib.pyplot as plt\n",
    "import matplotlib\n",
    "import numpy as np\n",
    "import scipy\n",
    "import os\n",
    "import nept"
   ]
  },
  {
   "cell_type": "code",
   "execution_count": null,
   "metadata": {
    "collapsed": true
   },
   "outputs": [],
   "source": [
    "font = {'size':20}\n",
    "\n",
    "matplotlib.rc('font', **font)"
   ]
  },
  {
   "cell_type": "code",
   "execution_count": null,
   "metadata": {
    "collapsed": true
   },
   "outputs": [],
   "source": [
    "thisdir = os.getcwd()\n",
    "data_filepath = os.path.join(thisdir, \"cache\", \"data\")\n",
    "output_filepath = os.path.join(thisdir, \"plots\", \"tmaze\")\n",
    "if not os.path.exists(output_filepath):\n",
    "    os.makedirs(output_filepath)"
   ]
  },
  {
   "cell_type": "code",
   "execution_count": null,
   "metadata": {},
   "outputs": [],
   "source": [
    "import info.r171_tmaze as r171\n",
    "import info.r181_tmaze as r181\n",
    "import info.r182_tmaze as r182"
   ]
  },
  {
   "cell_type": "code",
   "execution_count": null,
   "metadata": {},
   "outputs": [],
   "source": [
    "def get_trials(events):    \n",
    "    \n",
    "    starts = events[\"trial_start\"]\n",
    "    stops = events[\"trial_end\"]\n",
    "    \n",
    "#     if starts[0] > stops[0]:\n",
    "#         starts = events[\"trial_end\"]\n",
    "#         stops = events[\"trial_start\"]\n",
    "    \n",
    "    if len(starts) < len(stops):\n",
    "        stops = stops[1:]\n",
    "    if len(starts) > len(stops):\n",
    "        starts = starts[:-1]\n",
    "\n",
    "#     print(starts[:5], stops[:5])\n",
    "#     print(len(starts), len(stops))\n",
    "    \n",
    "#     if len(events[\"trial_start\"]) > len(events[\"trial_end\"]):\n",
    "#         starts = events[\"trial_start\"][:-1]\n",
    "#         stops = events[\"trial_end\"]\n",
    "#     elif len(events[\"trial_start\"]) < len(events[\"trial_end\"]):\n",
    "#         starts = events[\"trial_start\"]\n",
    "#         stops = events[\"trial_end\"][:-1]\n",
    "#     else:\n",
    "#         starts = events[\"trial_start\"]\n",
    "#         stops = events[\"trial_end\"]\n",
    "    return nept.Epoch(starts, stops)"
   ]
  },
  {
   "cell_type": "code",
   "execution_count": null,
   "metadata": {
    "scrolled": false
   },
   "outputs": [],
   "source": [
    "info = r181\n",
    "mean_durations = []\n",
    "sem_durations = []\n",
    "\n",
    "for session in info.sessions:\n",
    "    event_filename = os.path.join(info.rat_id+\"_\"+session+\"_behavior\", session+\"_Events.nev\")\n",
    "    event_filepath = os.path.join(data_filepath, info.rat_id, event_filename)\n",
    "    events = nept.load_events(os.path.join(data_filepath, event_filepath), info.event_labels)\n",
    "    trials = get_trials(events)\n",
    "    mean_durations.append(np.mean(trials.durations))\n",
    "    sem_durations.append(scipy.stats.sem(trials.durations))\n",
    "mean_durations = np.array(mean_durations)\n",
    "sem_durations = np.array(sem_durations)"
   ]
  },
  {
   "cell_type": "code",
   "execution_count": null,
   "metadata": {},
   "outputs": [],
   "source": [
    "ylim = 70\n",
    "fig, ax = plt.subplots(figsize=(10,7))\n",
    "ax.plot(np.arange(1, len(mean_durations)+1), mean_durations, \"go-\", lw=2)\n",
    "ax.fill_between(np.arange(1, len(sem_durations)+1), mean_durations-sem_durations, mean_durations+sem_durations, \n",
    "                alpha=0.2, color=\"g\")\n",
    "ax.axvline(info.n_sessions_presurgery+0.5, ymax=0.9, color=\"b\")\n",
    "ax.text(info.n_sessions_presurgery+0.2, ylim-4, \"surgery\", rotation=5, fontsize=16, color=\"b\")\n",
    "ax.axvspan(info.n_sessions_presurgery+0.5, len(info.sessions), alpha=0.1, color=\"k\")\n",
    "ax.set_xlim(0, len(info.sessions)+1)\n",
    "plt.xticks(np.arange(0, len(info.sessions)+1, 5))\n",
    "ax.set_ylim(0, ylim)\n",
    "ax.set_ylabel(\"Mean trial duration (s)\")\n",
    "ax.set_xlabel(\"Session\")\n",
    "plt.title(\"Rat2 mean trial duration\")\n",
    "ax.spines['right'].set_visible(False)\n",
    "ax.spines['top'].set_visible(False)\n",
    "ax.yaxis.set_ticks_position('left')\n",
    "ax.xaxis.set_ticks_position('bottom')\n",
    "# plt.show()\n",
    "plt.savefig(os.path.join(output_filepath, \"R181_tmaze_avg-durations.png\"))\n",
    "plt.savefig(os.path.join(output_filepath, \"R181_tmaze_avg-durations.pdf\"))\n",
    "plt.close()"
   ]
  },
  {
   "cell_type": "code",
   "execution_count": null,
   "metadata": {
    "collapsed": true
   },
   "outputs": [],
   "source": []
  },
  {
   "cell_type": "code",
   "execution_count": null,
   "metadata": {},
   "outputs": [],
   "source": [
    "info = r182\n",
    "mean_durations = []\n",
    "sem_durations = []\n",
    "\n",
    "for session in info.sessions:\n",
    "    event_filename = os.path.join(info.rat_id+\"_\"+session+\"_behavior\", session+\"_Events.nev\")\n",
    "    event_filepath = os.path.join(data_filepath, info.rat_id, event_filename)\n",
    "    events = nept.load_events(os.path.join(data_filepath, event_filepath), info.event_labels)\n",
    "    trials = get_trials(events)\n",
    "    mean_durations.append(np.mean(trials.durations))\n",
    "    sem_durations.append(scipy.stats.sem(trials.durations))\n",
    "mean_durations = np.array(mean_durations)\n",
    "sem_durations = np.array(sem_durations)"
   ]
  },
  {
   "cell_type": "code",
   "execution_count": null,
   "metadata": {},
   "outputs": [],
   "source": [
    "fig, ax = plt.subplots(figsize=(10,7))\n",
    "ax.plot(np.arange(1, len(mean_durations)+1), mean_durations, \"go-\", lw=2)\n",
    "ax.fill_between(np.arange(1, len(sem_durations)+1), mean_durations-sem_durations, mean_durations+sem_durations, \n",
    "                alpha=0.2, color=\"g\")\n",
    "ax.set_xlim(0, len(info.sessions)+1)\n",
    "plt.xticks(np.arange(0, len(info.sessions)+1, 3))\n",
    "ax.set_ylim(0, 20)\n",
    "ax.set_ylabel(\"Mean trial duration (s)\")\n",
    "ax.set_xlabel(\"Session\")\n",
    "plt.title(\"Rat3 mean trial duration\")\n",
    "ax.spines['right'].set_visible(False)\n",
    "ax.spines['top'].set_visible(False)\n",
    "ax.yaxis.set_ticks_position('left')\n",
    "ax.xaxis.set_ticks_position('bottom')\n",
    "# plt.show()\n",
    "plt.savefig(os.path.join(output_filepath, \"R182_tmaze_avg-durations.png\"))\n",
    "plt.savefig(os.path.join(output_filepath, \"R182_tmaze_avg-durations.pdf\"))\n",
    "plt.close()"
   ]
  },
  {
   "cell_type": "code",
   "execution_count": null,
   "metadata": {
    "collapsed": true
   },
   "outputs": [],
   "source": []
  },
  {
   "cell_type": "code",
   "execution_count": null,
   "metadata": {
    "collapsed": true
   },
   "outputs": [],
   "source": [
    "def get_trials(events, session):    \n",
    "    \n",
    "    starts = events[\"trial_start\"]\n",
    "    stops = events[\"trial_end\"]\n",
    "    \n",
    "    if len(starts) < len(stops):\n",
    "        stops = stops[1:]\n",
    "    if len(starts) > len(stops):\n",
    "        starts = starts[:-1]\n",
    "        \n",
    "    if session == \"2019-03-01\":\n",
    "        starts = starts[:-1]\n",
    "        stops = stops[1:]\n",
    "    \n",
    "    return nept.Epoch(starts, stops)"
   ]
  },
  {
   "cell_type": "code",
   "execution_count": null,
   "metadata": {},
   "outputs": [],
   "source": [
    "info = r171\n",
    "mean_durations = []\n",
    "sem_durations = []\n",
    "\n",
    "for session in info.sessions:\n",
    "    event_filename = os.path.join(info.rat_id+\"_\"+session+\"_behavior\", session+\"_Events.nev\")\n",
    "    event_filepath = os.path.join(data_filepath, info.rat_id, event_filename)\n",
    "    events = nept.load_events(os.path.join(data_filepath, event_filepath), info.event_labels)\n",
    "    trials = get_trials(events, session)\n",
    "    mean_durations.append(np.mean(trials.durations))\n",
    "    sem_durations.append(scipy.stats.sem(trials.durations))\n",
    "mean_durations = np.array(mean_durations)\n",
    "sem_durations = np.array(sem_durations)"
   ]
  },
  {
   "cell_type": "code",
   "execution_count": null,
   "metadata": {},
   "outputs": [],
   "source": [
    "fig, ax = plt.subplots(figsize=(10,7))\n",
    "ax.plot(np.arange(1, len(mean_durations)+1), mean_durations, \"go-\", lw=2)\n",
    "ax.fill_between(np.arange(1, len(sem_durations)+1), mean_durations-sem_durations, mean_durations+sem_durations, \n",
    "                alpha=0.2, color=\"g\")\n",
    "ax.set_xlim(0, len(info.sessions)+1)\n",
    "plt.xticks(np.arange(0, len(info.sessions)+1, 5))\n",
    "ax.set_ylim(0, 220)\n",
    "ax.set_ylabel(\"Mean trial duration (s)\")\n",
    "ax.set_xlabel(\"Session\")\n",
    "plt.title(\"Rat1 mean trial duration\")\n",
    "ax.spines['right'].set_visible(False)\n",
    "ax.spines['top'].set_visible(False)\n",
    "ax.yaxis.set_ticks_position('left')\n",
    "ax.xaxis.set_ticks_position('bottom')\n",
    "# plt.show()\n",
    "plt.savefig(os.path.join(output_filepath, \"R171_tmaze_avg-durations.png\"))\n",
    "plt.savefig(os.path.join(output_filepath, \"R171_tmaze_avg-durations.pdf\"))\n",
    "plt.close()"
   ]
  },
  {
   "cell_type": "code",
   "execution_count": null,
   "metadata": {
    "collapsed": true
   },
   "outputs": [],
   "source": []
  }
 ],
 "metadata": {
  "kernelspec": {
   "display_name": "Python 3",
   "language": "python",
   "name": "python3"
  },
  "language_info": {
   "codemirror_mode": {
    "name": "ipython",
    "version": 3
   },
   "file_extension": ".py",
   "mimetype": "text/x-python",
   "name": "python",
   "nbconvert_exporter": "python",
   "pygments_lexer": "ipython3",
   "version": "3.6.5"
  }
 },
 "nbformat": 4,
 "nbformat_minor": 2
}
